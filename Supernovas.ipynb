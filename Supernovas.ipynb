{
  "nbformat": 4,
  "nbformat_minor": 0,
  "metadata": {
    "colab": {
      "provenance": [],
      "authorship_tag": "ABX9TyMjQl0LDn2vwLDXXPkU3e/n",
      "include_colab_link": true
    },
    "kernelspec": {
      "name": "python3",
      "display_name": "Python 3"
    },
    "language_info": {
      "name": "python"
    }
  },
  "cells": [
    {
      "cell_type": "markdown",
      "metadata": {
        "id": "view-in-github",
        "colab_type": "text"
      },
      "source": [
        "<a href=\"https://colab.research.google.com/github/fernanda0402/Doutorado/blob/main/Supernovas.ipynb\" target=\"_parent\"><img src=\"https://colab.research.google.com/assets/colab-badge.svg\" alt=\"Open In Colab\"/></a>"
      ]
    },
    {
      "cell_type": "code",
      "execution_count": 26,
      "metadata": {
        "id": "n0pkMNRe7AM0"
      },
      "outputs": [],
      "source": [
        "\n",
        "import urllib.request #usar biblioteca Pandas para ler o arquivo como um DataFrame e pular a primeira linha com o cabeçalho\n",
        "import pandas as pd\n",
        "import matplotlib.pyplot as plt\n",
        "import numpy as np\n",
        "from scipy.optimize import curve_fit\n",
        "import sympy as sm\n",
        "import scipy as sp\n",
        "import math\n",
        "from matplotlib import rc\n",
        "from numpy import loadtxt, savetxt"
      ]
    },
    {
      "cell_type": "code",
      "source": [
        "from google.colab import drive\n",
        "drive.mount('/content/drive')"
      ],
      "metadata": {
        "colab": {
          "base_uri": "https://localhost:8080/"
        },
        "id": "tZel9-Zf7VCo",
        "outputId": "33243a79-f86d-4c21-ae7c-9ce4fbbccad1"
      },
      "execution_count": 27,
      "outputs": [
        {
          "output_type": "stream",
          "name": "stdout",
          "text": [
            "Drive already mounted at /content/drive; to attempt to forcibly remount, call drive.mount(\"/content/drive\", force_remount=True).\n"
          ]
        }
      ]
    },
    {
      "cell_type": "code",
      "source": [
        "# 1) BAIXANDO O ARQUIVO (SEM COVARIÂNCIA)\n",
        "\n",
        "url = \"https://raw.githubusercontent.com/PantheonPlusSH0ES/DataRelease/main/Pantheon%2B_Data/4_DISTANCES_AND_COVAR/Pantheon%2BSH0ES.dat\"\n",
        "filename = \"Pantheon+SH0ES.dat\"\n",
        "\n",
        "urllib.request.urlretrieve(url, filename)"
      ],
      "metadata": {
        "colab": {
          "base_uri": "https://localhost:8080/"
        },
        "id": "epDWs9o_7JLm",
        "outputId": "cd7dbae2-da94-4108-dd09-4a4796c70de6"
      },
      "execution_count": 28,
      "outputs": [
        {
          "output_type": "execute_result",
          "data": {
            "text/plain": [
              "('Pantheon+SH0ES.dat', <http.client.HTTPMessage at 0x7dccfcbac310>)"
            ]
          },
          "metadata": {},
          "execution_count": 28
        }
      ]
    },
    {
      "cell_type": "code",
      "source": [
        "# 2) GERANDO O GRÁFICO COM OS DADOS DO CATÁLOGO PANTHEON+\n",
        "\n",
        "#primeira linha do arquivo contém o cabeçalho da tabela, com nomes de colunas e outros metadados, e não dados numéricos.\n",
        "df = pd.read_csv(filename, skiprows=2, delim_whitespace=True, names=['CID', 'IDSURVEY', 'zHD', 'zHDERR', 'zCMB', 'zCMBERR', 'zHEL', 'zHELERR', 'm_b_corr', 'm_b_corr_err_DIAG', 'MU_SH0ES', 'MU_SH0ES_ERR_DIAG', 'CEPH_DIST', 'IS_CALIBRATOR', 'USED_IN_SH0ES_HF', 'c', 'cERR', 'x1', 'x1ERR', 'mB', 'mBERR', 'x0', 'x0ERR', 'COV_x1_c', 'COV_x1_x0', 'COV_c_x0', 'RA', 'DEC', 'HOST_RA', 'HOST_DEC', 'HOST_ANGSEP', 'VPEC', 'VPECERR', 'MWEBV', 'HOST_LOGMASS', 'HOST_LOGMASS_ERR', 'PKMJD', 'PKMJDERR', 'NDOF', 'FITCHI2', 'FITPROB', 'm_b_corr_err_RAW', 'm_b_corr_err_VPEC', 'biasCor_m_b', 'biasCorErr_m_b', 'biasCor_m_b_COVSCALE', 'biasCor_m_b_COVADD'])\n",
        "# skiprows=1, especifica que o arquivo está separado por espaços em branco com o argumento delim_whitespace=True, e nomeia as colunas do DataFrame com o argumento names."
      ],
      "metadata": {
        "id": "ilgEIt3J7NpB"
      },
      "execution_count": 29,
      "outputs": []
    },
    {
      "cell_type": "code",
      "source": [
        "# definindo as variáveis de acordo com os dados fornecidos\n",
        "mu = df[\"MU_SH0ES\"]\n",
        "zCMB = df[\"zCMB\"]\n",
        "\n",
        "# definindo constantes\n",
        "c = 2.9*10**5 # velocidade da luz\n",
        "h0 = 70 #km/s/Mpc\n",
        "\n",
        "# definindo os erros\n",
        "muerr = df[\"MU_SH0ES_ERR_DIAG\"]\n",
        "zCMBerr = df[\"zCMBERR\"]\n",
        "\n",
        "\n",
        "# salvando os dados\n",
        "\n",
        "Nmu = zCMB, mu, muerr\n",
        "#np.savetxt('mu.dat', np.transpose(Nmu), delimiter='\\t')"
      ],
      "metadata": {
        "id": "Y38b8eiV7OdJ"
      },
      "execution_count": 30,
      "outputs": []
    },
    {
      "cell_type": "code",
      "source": [
        "!pip install git+https://github.com/JCGoran/GaPP@feature/python3#GaPP\n",
        "from gapp import gp\n",
        "from numpy import loadtxt, savetxt"
      ],
      "metadata": {
        "id": "77z-qeca_-Ln"
      },
      "execution_count": null,
      "outputs": []
    },
    {
      "cell_type": "code",
      "source": [
        "import matplotlib as mpl\n",
        "mpl.rcParams.update(mpl.rcParamsDefault)"
      ],
      "metadata": {
        "id": "y4d5y865IcMb"
      },
      "execution_count": 32,
      "outputs": []
    },
    {
      "cell_type": "code",
      "source": [
        "# baixando os dados\n",
        "data = np.genfromtxt('/content/mu.dat', delimiter='\\t')\n",
        "\n",
        "zCMB = data[:, 0]\n",
        "mu_gapp = data[:, 1]\n",
        "\n",
        "sig_mu = data[:, 2]\n",
        "\n",
        "c = 2.9*10**5 # velocidade da luz\n",
        "\n",
        "# convertendo para a distância de luminosidade\n",
        "Dl= (np.power(10, ((mu_gapp-25)/5))) / c\n",
        "\n",
        "# erro da distância de luminosidade\n",
        "Dlerr = (np.sqrt(((2**((mu_gapp/5)-5)*(5**((mu_gapp/5)-6))*np.log(10))**2)*((sig_mu)**2))) / c\n",
        "\n",
        "\n",
        "# plote\n",
        "\n",
        "plt.xlabel('z', fontsize=15)\n",
        "plt.ylabel('Dl(z)', fontsize=15)\n",
        "plt.title('Dados simulados de Dl(z)')\n",
        "plt.errorbar(zCMB, Dl, Dlerr, fmt='s', color='blue')\n",
        "plt.show()\n",
        "\n",
        "Ndl = zCMB, Dl, Dlerr\n",
        "#np.savetxt('dlc_snia.dat', np.transpose(Ndl), delimiter='\\t')"
      ],
      "metadata": {
        "colab": {
          "base_uri": "https://localhost:8080/",
          "height": 478
        },
        "id": "-_OjxQYSICoq",
        "outputId": "5a530978-718c-4089-a311-e677db34c9af"
      },
      "execution_count": 33,
      "outputs": [
        {
          "output_type": "display_data",
          "data": {
            "text/plain": [
              "<Figure size 640x480 with 1 Axes>"
            ],
            "image/png": "[encoded data removed]"
          },
          "metadata": {}
        }
      ]
    }
  ]
}