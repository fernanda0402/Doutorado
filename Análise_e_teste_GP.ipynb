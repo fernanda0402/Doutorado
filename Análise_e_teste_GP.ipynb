{
  "nbformat": 4,
  "nbformat_minor": 0,
  "metadata": {
    "colab": {
      "provenance": [],
      "authorship_tag": "ABX9TyOi07KUT2grFH0jjiiuAuq6",
      "include_colab_link": true
    },
    "kernelspec": {
      "name": "python3",
      "display_name": "Python 3"
    },
    "language_info": {
      "name": "python"
    }
  },
  "cells": [
    {
      "cell_type": "markdown",
      "metadata": {
        "id": "view-in-github",
        "colab_type": "text"
      },
      "source": [
        "<a href=\"https://colab.research.google.com/github/fernanda0402/Doutorado/blob/main/An%C3%A1lise_e_teste_GP.ipynb\" target=\"_parent\"><img src=\"https://colab.research.google.com/assets/colab-badge.svg\" alt=\"Open In Colab\"/></a>"
      ]
    },
    {
      "cell_type": "code",
      "execution_count": 1,
      "metadata": {
        "id": "MZeMstfu8MT2"
      },
      "outputs": [],
      "source": [
        "# Bibliotecas\n",
        "\n",
        "import numpy as np\n",
        "import matplotlib.pyplot as plt\n",
        "from scipy.integrate import cumtrapz"
      ]
    },
    {
      "cell_type": "code",
      "source": [
        "!pip install -q condacolab\n",
        "import condacolab\n",
        "condacolab.install()\n",
        "!mamba install pyccl"
      ],
      "metadata": {
        "id": "Qq_AVBXl8g2p"
      },
      "execution_count": null,
      "outputs": []
    },
    {
      "cell_type": "code",
      "source": [
        "import pyccl as ccl"
      ],
      "metadata": {
        "id": "Kl-0odxP86to"
      },
      "execution_count": 3,
      "outputs": []
    },
    {
      "cell_type": "code",
      "source": [
        "!pip install git+https://github.com/JCGoran/GaPP@feature/python3#GaPP\n",
        "from gapp import gp\n",
        "from numpy import loadtxt, savetxt"
      ],
      "metadata": {
        "id": "dsC4I_pp9CCE"
      },
      "execution_count": null,
      "outputs": []
    },
    {
      "cell_type": "code",
      "source": [
        "from google.colab import drive\n",
        "drive.mount('/content/drive')"
      ],
      "metadata": {
        "id": "oLAeUuQo9Flf"
      },
      "execution_count": null,
      "outputs": []
    },
    {
      "cell_type": "code",
      "source": [
        "cosmo = ccl.Cosmology(\n",
        "    Omega_c=0.2656, Omega_b=0.0494, h=0.6727, sigma8=0.8120, n_s=0.9649,\n",
        "    matter_power_spectrum='linear')\n",
        "\n",
        "\n",
        "z = np.arange(0.02, 2, 0.05)\n",
        "\n",
        "a = 1. / (1. + z)\n",
        "\n",
        "# fz mocks\n",
        "\n",
        "fz = ccl.growth_rate(cosmo, a)\n",
        "\n",
        "efz = 0.01 * fz\n",
        "\n",
        "\n",
        "fz = np.random.normal(fz, 0.04)\n",
        "\n",
        "# plote\n",
        "\n",
        "plt.xlabel('z', fontsize=15)\n",
        "plt.ylabel('f(z)', fontsize=15)\n",
        "plt.title('Dados simulados de f(z)')\n",
        "plt.errorbar(z, fz, efz, fmt='s', color='blue')\n",
        "plt.show()\n",
        "\n",
        "\n",
        "# salvando os dados\n",
        "\n",
        "Nfz = z, fz, efz\n",
        "np.savetxt('fz_mocks.dat', np.transpose(Nfz), delimiter='\\t')"
      ],
      "metadata": {
        "colab": {
          "base_uri": "https://localhost:8080/",
          "height": 478
        },
        "id": "ptD15tDY8-U-",
        "outputId": "391c588a-05ea-482c-c0a0-c99df6f525af"
      },
      "execution_count": 14,
      "outputs": [
        {
          "output_type": "display_data",
          "data": {
            "text/plain": [
              "<Figure size 640x480 with 1 Axes>"
            ],
            "image/png": "[encoded data removed]"
          },
          "metadata": {}
        }
      ]
    },
    {
      "cell_type": "code",
      "source": [
        "# baixando os dados\n",
        "data = np.genfromtxt('/content/drive/MyDrive/Doutorado/Dados/Mocks/fz_mocks(1).dat', delimiter=', ')\n",
        "\n",
        "z_gapp = data[0]\n",
        "\n",
        "f_gapp = data[1]\n",
        "\n",
        "sig_f = data[2]\n",
        "\n",
        "# nomeando\n",
        "x_gapp = z_gapp\n",
        "y_gapp = f_gapp\n",
        "e = sig_f\n",
        "\n",
        "# xmin, xmax and nstar are interpreted as two-dimensional vectors\n",
        "xmin = 0\n",
        "xmax = 1.4\n",
        "nstar = 1000\n",
        "\n",
        "# initial values of the hyperparameters of the squared-exponential covariance function\n",
        "initheta = [2.0, 2.0]\n",
        "\n",
        "# initialization of the Gaussian Process\n",
        "g = gp.GaussianProcess(x_gapp, y_gapp, e, cXstar=(xmin, xmax, nstar))\n",
        "\n",
        "# training of the hyperparameters and reconstruction of the function\n",
        "(rec, theta) = g.gp(theta=initheta)\n",
        "\n",
        "xi = rec[:, 0]\n",
        "\n",
        "y_pred = rec[:, 1]\n",
        "sigma  = rec[:, 2]\n",
        "\n",
        "y_pred_95_less = y_pred - 1.9600*sigma\n",
        "y_pred_95_plus = y_pred + 1.9600*sigma\n",
        "\n",
        "# Plot the function, the prediction and the 95% confidence interval\n",
        "plt.figure()\n",
        "plt.tick_params(labelsize=14, color='purple')\n",
        "plt.errorbar(x_gapp, y_gapp, e, fmt='r.', color='purple', markersize=10, label='Dados')\n",
        "plt.plot(xi, y_pred, color = 'green', label='Prediction', linestyle=\"--\")\n",
        "plt.fill(np.concatenate([xi, xi[::-1]]),\n",
        "         np.concatenate([y_pred - 1.9600 * sigma,\n",
        "                        (y_pred + 1.9600 * sigma)[::-1]]),\n",
        "         alpha=.5, color = 'lightgreen', ec='None', label=r'$95\\%$ confidence interval')\n",
        "\n",
        "# legenda, label e título\n",
        "plt.xlabel('z', fontsize=15)\n",
        "plt.ylabel('f(z)', fontsize=15)\n",
        "plt.legend(loc='best')\n",
        "plt.title('Reconstruindo f(z)')\n",
        "plt.show()\n"
      ],
      "metadata": {
        "colab": {
          "base_uri": "https://localhost:8080/",
          "height": 390
        },
        "id": "j38eMfgLADJF",
        "outputId": "eef97aca-2b37-48cb-9f0b-573aadcd55b0"
      },
      "execution_count": 18,
      "outputs": [
        {
          "output_type": "error",
          "ename": "TypeError",
          "evalue": "ignored",
          "traceback": [
            "\u001b[0;31m---------------------------------------------------------------------------\u001b[0m",
            "\u001b[0;31mTypeError\u001b[0m                                 Traceback (most recent call last)",
            "\u001b[0;32m<ipython-input-18-e107c15798e6>\u001b[0m in \u001b[0;36m<cell line: 24>\u001b[0;34m()\u001b[0m\n\u001b[1;32m     22\u001b[0m \u001b[0;34m\u001b[0m\u001b[0m\n\u001b[1;32m     23\u001b[0m \u001b[0;31m# initialization of the Gaussian Process\u001b[0m\u001b[0;34m\u001b[0m\u001b[0;34m\u001b[0m\u001b[0m\n\u001b[0;32m---> 24\u001b[0;31m \u001b[0mg\u001b[0m \u001b[0;34m=\u001b[0m \u001b[0mgp\u001b[0m\u001b[0;34m.\u001b[0m\u001b[0mGaussianProcess\u001b[0m\u001b[0;34m(\u001b[0m\u001b[0mx_gapp\u001b[0m\u001b[0;34m,\u001b[0m \u001b[0my_gapp\u001b[0m\u001b[0;34m,\u001b[0m \u001b[0me\u001b[0m\u001b[0;34m,\u001b[0m \u001b[0mcXstar\u001b[0m\u001b[0;34m=\u001b[0m\u001b[0;34m(\u001b[0m\u001b[0mxmin\u001b[0m\u001b[0;34m,\u001b[0m \u001b[0mxmax\u001b[0m\u001b[0;34m,\u001b[0m \u001b[0mnstar\u001b[0m\u001b[0;34m)\u001b[0m\u001b[0;34m)\u001b[0m\u001b[0;34m\u001b[0m\u001b[0;34m\u001b[0m\u001b[0m\n\u001b[0m\u001b[1;32m     25\u001b[0m \u001b[0;34m\u001b[0m\u001b[0m\n\u001b[1;32m     26\u001b[0m \u001b[0;31m# training of the hyperparameters and reconstruction of the function\u001b[0m\u001b[0;34m\u001b[0m\u001b[0;34m\u001b[0m\u001b[0m\n",
            "\u001b[0;32m/usr/local/lib/python3.10/site-packages/gapp/gp.py\u001b[0m in \u001b[0;36m__init__\u001b[0;34m(self, X, Y, Sigma, covfunction, theta, Xstar, cXstar, mu, muargs, prior, gradprior, priorargs, thetatrain, scale, scaletrain, grad)\u001b[0m\n\u001b[1;32m     81\u001b[0m             \u001b[0;32mif\u001b[0m \u001b[0mnp\u001b[0m\u001b[0;34m.\u001b[0m\u001b[0many\u001b[0m\u001b[0;34m(\u001b[0m\u001b[0mtheta\u001b[0m \u001b[0;34m==\u001b[0m \u001b[0;32mNone\u001b[0m\u001b[0;34m)\u001b[0m\u001b[0;34m:\u001b[0m\u001b[0;34m\u001b[0m\u001b[0;34m\u001b[0m\u001b[0m\n\u001b[1;32m     82\u001b[0m                 \u001b[0;31m# theta determined automatically\u001b[0m\u001b[0;34m\u001b[0m\u001b[0;34m\u001b[0m\u001b[0m\n\u001b[0;32m---> 83\u001b[0;31m                 \u001b[0mself\u001b[0m\u001b[0;34m.\u001b[0m\u001b[0mcovf\u001b[0m \u001b[0;34m=\u001b[0m \u001b[0mcovfunction\u001b[0m\u001b[0;34m(\u001b[0m\u001b[0mtheta\u001b[0m\u001b[0;34m,\u001b[0m \u001b[0mX\u001b[0m\u001b[0;34m,\u001b[0m \u001b[0mY\u001b[0m\u001b[0;34m)\u001b[0m\u001b[0;34m\u001b[0m\u001b[0;34m\u001b[0m\u001b[0m\n\u001b[0m\u001b[1;32m     84\u001b[0m             \u001b[0;32melse\u001b[0m\u001b[0;34m:\u001b[0m\u001b[0;34m\u001b[0m\u001b[0;34m\u001b[0m\u001b[0m\n\u001b[1;32m     85\u001b[0m                 \u001b[0mself\u001b[0m\u001b[0;34m.\u001b[0m\u001b[0mcovf\u001b[0m \u001b[0;34m=\u001b[0m \u001b[0mcovfunction\u001b[0m\u001b[0;34m(\u001b[0m\u001b[0mtheta\u001b[0m\u001b[0;34m)\u001b[0m\u001b[0;34m\u001b[0m\u001b[0;34m\u001b[0m\u001b[0m\n",
            "\u001b[0;32m/usr/local/lib/python3.10/site-packages/gapp/covfunctions/squex.py\u001b[0m in \u001b[0;36m__init__\u001b[0;34m(self, theta, X, Y)\u001b[0m\n\u001b[1;32m     36\u001b[0m         \u001b[0;32mif\u001b[0m \u001b[0mnp\u001b[0m\u001b[0;34m.\u001b[0m\u001b[0many\u001b[0m\u001b[0;34m(\u001b[0m\u001b[0mtheta\u001b[0m \u001b[0;34m==\u001b[0m \u001b[0;32mNone\u001b[0m\u001b[0;34m)\u001b[0m\u001b[0;34m:\u001b[0m\u001b[0;34m\u001b[0m\u001b[0;34m\u001b[0m\u001b[0m\n\u001b[1;32m     37\u001b[0m             \u001b[0;31m# automatically provide initial theta if none is given\u001b[0m\u001b[0;34m\u001b[0m\u001b[0;34m\u001b[0m\u001b[0m\n\u001b[0;32m---> 38\u001b[0;31m             \u001b[0msigmaf\u001b[0m \u001b[0;34m=\u001b[0m \u001b[0;34m(\u001b[0m\u001b[0mmax\u001b[0m\u001b[0;34m(\u001b[0m\u001b[0mY\u001b[0m\u001b[0;34m)\u001b[0m \u001b[0;34m-\u001b[0m \u001b[0mmin\u001b[0m\u001b[0;34m(\u001b[0m\u001b[0mY\u001b[0m\u001b[0;34m)\u001b[0m\u001b[0;34m)\u001b[0m\u001b[0;34m/\u001b[0m\u001b[0;36m2.0\u001b[0m\u001b[0;34m\u001b[0m\u001b[0;34m\u001b[0m\u001b[0m\n\u001b[0m\u001b[1;32m     39\u001b[0m             \u001b[0ml\u001b[0m \u001b[0;34m=\u001b[0m \u001b[0mnp\u001b[0m\u001b[0;34m.\u001b[0m\u001b[0mmin\u001b[0m\u001b[0;34m(\u001b[0m\u001b[0mnp\u001b[0m\u001b[0;34m.\u001b[0m\u001b[0mmax\u001b[0m\u001b[0;34m(\u001b[0m\u001b[0mX\u001b[0m\u001b[0;34m,\u001b[0m \u001b[0maxis\u001b[0m\u001b[0;34m=\u001b[0m\u001b[0;36m0\u001b[0m\u001b[0;34m)\u001b[0m \u001b[0;34m-\u001b[0m \u001b[0mnp\u001b[0m\u001b[0;34m.\u001b[0m\u001b[0mmin\u001b[0m\u001b[0;34m(\u001b[0m\u001b[0mX\u001b[0m\u001b[0;34m,\u001b[0m \u001b[0maxis\u001b[0m\u001b[0;34m=\u001b[0m\u001b[0;36m0\u001b[0m\u001b[0;34m)\u001b[0m\u001b[0;34m)\u001b[0m\u001b[0;34m/\u001b[0m\u001b[0;36m2.0\u001b[0m\u001b[0;34m\u001b[0m\u001b[0;34m\u001b[0m\u001b[0m\n\u001b[1;32m     40\u001b[0m             \u001b[0mtheta\u001b[0m \u001b[0;34m=\u001b[0m \u001b[0;34m[\u001b[0m\u001b[0msigmaf\u001b[0m\u001b[0;34m,\u001b[0m \u001b[0ml\u001b[0m\u001b[0;34m]\u001b[0m\u001b[0;34m\u001b[0m\u001b[0;34m\u001b[0m\u001b[0m\n",
            "\u001b[0;31mTypeError\u001b[0m: 'numpy.float64' object is not iterable"
          ]
        }
      ]
    },
    {
      "cell_type": "code",
      "source": [
        "cosmo = ccl.Cosmology(\n",
        "    Omega_c=0.2656, Omega_b=0.0494, h=0.6727, sigma8=0.8120, n_s=0.9649,\n",
        "    matter_power_spectrum='linear')\n",
        "\n",
        "\n",
        "z = np.arange(0.02, 2, 0.05)\n",
        "\n",
        "a = 1. / (1. + z)\n",
        "\n",
        "# hz mocks\n",
        "H0 = 70\n",
        "\n",
        "Hz = H0 * ccl.background.h_over_h0(cosmo, a)\n",
        "\n",
        "ehz = 0.01 * Hz\n",
        "\n",
        "\n",
        "Hz = np.random.normal(Hz, 10)\n",
        "\n",
        "# plote\n",
        "\n",
        "plt.xlabel('z', fontsize=15)\n",
        "plt.ylabel('H(z)', fontsize=15)\n",
        "plt.title('Dados simulados de H(z)')\n",
        "plt.errorbar(z, Hz, efz, fmt='s', color='blue')\n",
        "plt.show()\n",
        "\n",
        "\n",
        "# salvando os dados\n",
        "\n",
        "NHz = z, Hz, ehz\n",
        "np.savetxt('Hz_mocks.dat', np.transpose(NHz), delimiter='\\t')"
      ],
      "metadata": {
        "colab": {
          "base_uri": "https://localhost:8080/",
          "height": 478
        },
        "id": "R6uu8rB2G-Oh",
        "outputId": "353f808a-4da0-4259-ffe5-d9dcb8eb15e5"
      },
      "execution_count": 20,
      "outputs": [
        {
          "output_type": "display_data",
          "data": {
            "text/plain": [
              "<Figure size 640x480 with 1 Axes>"
            ],
            "image/png": "[encoded data removed]"
          },
          "metadata": {}
        }
      ]
    }
  ]
}