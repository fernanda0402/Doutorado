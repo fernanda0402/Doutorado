{
  "nbformat": 4,
  "nbformat_minor": 0,
  "metadata": {
    "colab": {
      "provenance": [],
      "authorship_tag": "ABX9TyOZeO/f81DakxJZyY0iknYG",
      "include_colab_link": true
    },
    "kernelspec": {
      "name": "python3",
      "display_name": "Python 3"
    },
    "language_info": {
      "name": "python"
    }
  },
  "cells": [
    {
      "cell_type": "markdown",
      "metadata": {
        "id": "view-in-github",
        "colab_type": "text"
      },
      "source": [
        "<a href=\"https://colab.research.google.com/github/fernanda0402/Doutorado/blob/main/C%C3%B3digo_SNIa_com_covariancia.ipynb\" target=\"_parent\"><img src=\"https://colab.research.google.com/assets/colab-badge.svg\" alt=\"Open In Colab\"/></a>"
      ]
    },
    {
      "cell_type": "code",
      "execution_count": 23,
      "metadata": {
        "colab": {
          "base_uri": "https://localhost:8080/",
          "height": 540
        },
        "id": "FLOp4Zo5Td-n",
        "outputId": "a7f76aae-b38e-4983-b151-606cad4e404e"
      },
      "outputs": [
        {
          "output_type": "display_data",
          "data": {
            "text/plain": [
              "<Figure size 800x600 with 1 Axes>"
            ],
            "image/png": "[encoded data removed]"
          },
          "metadata": {}
        }
      ],
      "source": [
        "import urllib.request # Usar biblioteca Pandas para ler o arquivo como um DataFrame e pular a primeira linha com o cabeçalho\n",
        "import pandas as pd\n",
        "import matplotlib.pyplot as plt\n",
        "import numpy as np\n",
        "from scipy.optimize import curve_fit\n",
        "\n",
        "# 1) BAIXANDO O ARQUIVO\n",
        "\n",
        "url = \"https://raw.githubusercontent.com/PantheonPlusSH0ES/DataRelease/main/Pantheon%2B_Data/4_DISTANCES_AND_COVAR/Pantheon%2BSH0ES.dat\"\n",
        "filename = \"Pantheon+SH0ES.dat\"\n",
        "\n",
        "urllib.request.urlretrieve(url, filename)\n",
        "\n",
        "# 2) GERANDO O GRÁFICO COM OS DADOS DO CATÁLOGO PANTHEON+\n",
        "\n",
        "#primeira linha do arquivo contém o cabeçalho da tabela, com nomes de colunas e outros metadados, e não dados numéricos.\n",
        "df = pd.read_csv(filename, skiprows=2, delim_whitespace=True, names=['CID', 'IDSURVEY', 'zHD', 'zHDERR', 'zCMB', 'zCMBERR', 'zHEL', 'zHELERR', 'm_b_corr', 'm_b_corr_err_DIAG', 'MU_SH0ES', 'MU_SH0ES_ERR_DIAG', 'CEPH_DIST', 'IS_CALIBRATOR', 'USED_IN_SH0ES_HF', 'c', 'cERR', 'x1', 'x1ERR', 'mB', 'mBERR', 'x0', 'x0ERR', 'COV_x1_c', 'COV_x1_x0', 'COV_c_x0', 'RA', 'DEC', 'HOST_RA', 'HOST_DEC', 'HOST_ANGSEP', 'VPEC', 'VPECERR', 'MWEBV', 'HOST_LOGMASS', 'HOST_LOGMASS_ERR', 'PKMJD', 'PKMJDERR', 'NDOF', 'FITCHI2', 'FITPROB', 'm_b_corr_err_RAW', 'm_b_corr_err_VPEC', 'biasCor_m_b', 'biasCorErr_m_b', 'biasCor_m_b_COVSCALE', 'biasCor_m_b_COVADD'])\n",
        "# skiprows=1, especifica que o arquivo está separado por espaços em branco com o argumento delim_whitespace=True, e nomeia as colunas do DataFrame com o argumento names.\n",
        "\n",
        "plt.figure(figsize=(8, 6))\n",
        "plt.scatter(df[\"zCMB\"], df[\"MU_SH0ES\"])\n",
        "plt.xlabel(\"Redshift (z)\")\n",
        "plt.ylabel(\"Distance Modulus (Mpc)\")\n",
        "plt.show()\n",
        "#df.info() #verificar se há algum valor nulo ou algum outro problema com os dados...\n"
      ]
    },
    {
      "cell_type": "code",
      "source": [
        "print(df[\"zCMB\"].unique()) #Visualizando coluna z\n",
        "print(df[\"MU_SH0ES\"].unique()) #Visualizando coluna DM"
      ],
      "metadata": {
        "colab": {
          "base_uri": "https://localhost:8080/"
        },
        "id": "lbgNFZ4mTqtt",
        "outputId": "1674b5f1-3d02-4890-aad6-e8312b2d7755"
      },
      "execution_count": 12,
      "outputs": [
        {
          "output_type": "stream",
          "name": "stdout",
          "text": [
            "[1.22000e-03 2.56000e-03 2.99000e-03 ... 1.80111e+00 1.91160e+00\n",
            " 2.26130e+00]\n",
            "[29.0559 30.7233 30.7449 ... 45.4865 45.4233 46.1828]\n"
          ]
        }
      ]
    },
    {
      "cell_type": "code",
      "source": [
        "!pip install -q condacolab\n",
        "import condacolab\n",
        "condacolab.install()\n",
        "!mamba install pyccl"
      ],
      "metadata": {
        "colab": {
          "base_uri": "https://localhost:8080/"
        },
        "id": "IQ3YNtBgTw3D",
        "outputId": "a18dd5fc-bd38-47af-997f-e7a64f43567d"
      },
      "execution_count": 13,
      "outputs": [
        {
          "output_type": "stream",
          "name": "stdout",
          "text": [
            "\u001b[33mWARNING: Running pip as the 'root' user can result in broken permissions and conflicting behaviour with the system package manager. It is recommended to use a virtual environment instead: https://pip.pypa.io/warnings/venv\u001b[0m\u001b[33m\n",
            "\u001b[0m✨🍰✨ Everything looks OK!\n",
            "\n",
            "                  __    __    __    __\n",
            "                 /  \\  /  \\  /  \\  /  \\\n",
            "                /    \\/    \\/    \\/    \\\n",
            "███████████████/  /██/  /██/  /██/  /████████████████████████\n",
            "              /  / \\   / \\   / \\   / \\  \\____\n",
            "             /  /   \\_/   \\_/   \\_/   \\    o \\__,\n",
            "            / _/                       \\_____/  `\n",
            "            |/\n",
            "        ███╗   ███╗ █████╗ ███╗   ███╗██████╗  █████╗\n",
            "        ████╗ ████║██╔══██╗████╗ ████║██╔══██╗██╔══██╗\n",
            "        ██╔████╔██║███████║██╔████╔██║██████╔╝███████║\n",
            "        ██║╚██╔╝██║██╔══██║██║╚██╔╝██║██╔══██╗██╔══██║\n",
            "        ██║ ╚═╝ ██║██║  ██║██║ ╚═╝ ██║██████╔╝██║  ██║\n",
            "        ╚═╝     ╚═╝╚═╝  ╚═╝╚═╝     ╚═╝╚═════╝ ╚═╝  ╚═╝\n",
            "\n",
            "        mamba (1.1.0) supported by @QuantStack\n",
            "\n",
            "        GitHub:  https://github.com/mamba-org/mamba\n",
            "        Twitter: https://twitter.com/QuantStack\n",
            "\n",
            "█████████████████████████████████████████████████████████████\n",
            "\n",
            "\n",
            "Looking for: ['pyccl']\n",
            "\n",
            "conda-forge/linux-64                                        Using cache\n",
            "conda-forge/noarch                                          Using cache\n",
            "\n",
            "Pinned packages:\n",
            "  - python 3.9.*\n",
            "  - python 3.9.*\n",
            "  - python_abi 3.9.* *cp39*\n",
            "  - cudatoolkit 11.8.*\n",
            "\n",
            "\n",
            "Transaction\n",
            "\n",
            "  Prefix: /usr/local\n",
            "\n",
            "  All requested packages already installed\n",
            "\n",
            "\u001b[?25l\u001b[2K\u001b[0G\u001b[?25h"
          ]
        }
      ]
    },
    {
      "cell_type": "code",
      "source": [
        "!apt-get install texlive texlive-xetex texlive-latex-extra pandoc"
      ],
      "metadata": {
        "id": "nFS9gbl7VX34"
      },
      "execution_count": null,
      "outputs": []
    },
    {
      "cell_type": "code",
      "source": [
        "!apt-get install cm-super"
      ],
      "metadata": {
        "id": "KRdq8mP-Vwzj"
      },
      "execution_count": null,
      "outputs": []
    },
    {
      "cell_type": "code",
      "source": [
        "!apt-get install dvipng"
      ],
      "metadata": {
        "id": "8j0AWLvuWDpW"
      },
      "execution_count": null,
      "outputs": []
    },
    {
      "cell_type": "code",
      "source": [
        "import pyccl as ccl\n",
        "from scipy.optimize import curve_fit\n",
        "from matplotlib import rc"
      ],
      "metadata": {
        "id": "F4q_VvDwXdM6"
      },
      "execution_count": 17,
      "outputs": []
    },
    {
      "cell_type": "code",
      "source": [
        "#Baixando dados da covariância\n",
        "url = \"https://raw.githubusercontent.com/PantheonPlusSH0ES/DataRelease/main/Pantheon%2B_Data/4_DISTANCES_AND_COVAR/Pantheon%2BSH0ES_STAT%2BSYS.cov\"\n",
        "filename = \"Pantheon+SH0ES_STAT+SYS.cov\"\n",
        "\n",
        "urllib.request.urlretrieve(url, filename)\n",
        "\n",
        "data = np.genfromtxt('Pantheon+SH0ES.dat', names=True)"
      ],
      "metadata": {
        "id": "69AYhXRAXEo7"
      },
      "execution_count": 18,
      "outputs": []
    },
    {
      "cell_type": "code",
      "source": [
        "cov = np.genfromtxt('Pantheon+SH0ES_STAT+SYS.cov', skip_header=1)\n",
        "cov = np.reshape(cov, (1701, 1701))\n",
        "\n",
        "print(np.shape(cov))\n",
        "\n",
        "plt.rcParams['text.usetex'] = True\n",
        "\n",
        "\n",
        "z = data['zCMB']\n",
        "\n",
        "mu = data['MU_SH0ES']\n",
        "\n",
        "def mu_teorico(z, h, Om_c):\n",
        "\n",
        "    cosmo = ccl.Cosmology(Omega_c=Om_c, Omega_b=0.049411603, Omega_k=0, h=h, w0=-1, wa=0, sigma8=0.8120, n_s=0.9649)\n",
        "\n",
        "    a = 1. / (1. + z)\n",
        "\n",
        "    return ccl.distance_modulus(cosmo, a) \n",
        "\n",
        "#Ajuste da função de módulo da distância\n",
        "\n",
        "popt, pcov = curve_fit(mu_teorico, z, mu, sigma=cov, p0=[0.7, 0.3], bounds=([0., 0.], [1., 1.]), method='trf')\n",
        "\n",
        "p1 = popt[0] * 100\n",
        "p2 = popt[1] + 0.049411603\n",
        "\n",
        "Erro = np.sqrt(np.diag(pcov))\n",
        "\n",
        "e1 = Erro[0]\n",
        "e2 = Erro[1]\n",
        "\n",
        "# PLOTANDO O GRAFICO COM CURVA DE AJUSTE\n",
        "\n",
        "\n",
        "zi = np.linspace(min(z), max(z), 1000)\n",
        "\n",
        "plt.tick_params(labelsize=14, color='red')\n",
        "plt.xlabel(r'$z$', fontsize=16)\n",
        "plt.ylabel(r'$\\mu(z)$', fontsize=16)\n",
        "plt.errorbar(z, mu, np.sqrt(np.diag(cov)), fmt='s', label='Data points')\n",
        "plt.plot(zi, mu_teorico(zi, popt[0], popt[1]), color='red', label=r'$H_0$ = '+str(np.round(p1, 3))+' $\\pm$ '+str(np.round(e1, 3))+' ; '+'$\\Omega$ = '+str(np.round(p2, 3))+' $\\pm$ '+str(np.round(e2, 3)))\n",
        "plt.show()"
      ],
      "metadata": {
        "colab": {
          "base_uri": "https://localhost:8080/",
          "height": 475
        },
        "id": "fF_q0thpXJVo",
        "outputId": "14c2edb8-bf32-40c5-8a0d-5f9d4db9c033"
      },
      "execution_count": 19,
      "outputs": [
        {
          "output_type": "stream",
          "name": "stdout",
          "text": [
            "(1701, 1701)\n"
          ]
        },
        {
          "output_type": "display_data",
          "data": {
            "text/plain": [
              "<Figure size 640x480 with 1 Axes>"
            ],
            "image/png": "[encoded data removed]"
          },
          "metadata": {}
        }
      ]
    },
    {
      "cell_type": "code",
      "source": [
        "# cálculo do xi2 reduzido: quanto mais próximo de 1, maior a concordância entre as distribuições observadas e esperadas\n",
        "\n",
        "xi2 = np.sum(((mu - mu_teorico(z, *popt)) / np.sqrt(np.diag(cov))) ** 2)\n",
        "df = len(z) - 2\n",
        "print(xi2/df)"
      ],
      "metadata": {
        "colab": {
          "base_uri": "https://localhost:8080/"
        },
        "id": "-IBmMCqeqmWu",
        "outputId": "7b34b03c-46d8-4584-e1cc-63680447f240"
      },
      "execution_count": 22,
      "outputs": [
        {
          "output_type": "stream",
          "name": "stdout",
          "text": [
            "1.2458191011894537\n"
          ]
        }
      ]
    }
  ]
}