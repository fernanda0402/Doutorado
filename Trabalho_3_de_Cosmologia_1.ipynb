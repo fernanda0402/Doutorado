{
  "nbformat": 4,
  "nbformat_minor": 0,
  "metadata": {
    "colab": {
      "provenance": [],
      "mount_file_id": "1FiX0xrDSfPFN-7RFVVm8LLDN9WsFhNMz",
      "authorship_tag": "ABX9TyOBgyP+fDclhN06R8Qolwly",
      "include_colab_link": true
    },
    "kernelspec": {
      "name": "python3",
      "display_name": "Python 3"
    },
    "language_info": {
      "name": "python"
    }
  },
  "cells": [
    {
      "cell_type": "markdown",
      "metadata": {
        "id": "view-in-github",
        "colab_type": "text"
      },
      "source": [
        "<a href=\"https://colab.research.google.com/github/fernanda0402/Doutorado/blob/main/Trabalho_3_de_Cosmologia_1.ipynb\" target=\"_parent\"><img src=\"https://colab.research.google.com/assets/colab-badge.svg\" alt=\"Open In Colab\"/></a>"
      ]
    },
    {
      "cell_type": "markdown",
      "source": [
        "Exercício da aula de 20/10/2022.\n",
        "\n",
        "1) Plotar a função $\\frac{x_e ^2}{1-x_e}$ = A $a^{3/2}$ $e^{-\\alpha a}$ em função da $a$, em que $\\alpha$ e $A$ são constantes arbitrárias."
      ],
      "metadata": {
        "id": "fMWp3knm1j6T"
      }
    },
    {
      "cell_type": "code",
      "execution_count": 2,
      "metadata": {
        "id": "2vf468qy1gOE"
      },
      "outputs": [],
      "source": [
        "import numpy as np\n",
        "import math\n",
        "import matplotlib.pyplot as plt\n",
        "from scipy.stats import norm"
      ]
    },
    {
      "cell_type": "code",
      "source": [
        "def f(x):\n",
        "    return np.sqrt(x**(3/2)*np.exp(-x))"
      ],
      "metadata": {
        "id": "0-MPnMTh3f2n"
      },
      "execution_count": 3,
      "outputs": []
    },
    {
      "cell_type": "code",
      "source": [
        "x=np.linspace(0,3)\n",
        "\n",
        "plt.plot(x,f(x))\n",
        "plt.xlabel('a')\n",
        "plt.ylabel('$x_e$')  \n",
        "plt.show()"
      ],
      "metadata": {
        "colab": {
          "base_uri": "https://localhost:8080/",
          "height": 279
        },
        "id": "g2mI6_UG4BRh",
        "outputId": "92fff1b0-cd50-4eda-859c-fb8aa7ea40f4"
      },
      "execution_count": 4,
      "outputs": [
        {
          "output_type": "display_data",
          "data": {
            "text/plain": [
              "<Figure size 432x288 with 1 Axes>"
            ],
            "image/png": "[encoded data removed]"
          },
          "metadata": {
            "needs_background": "light"
          }
        }
      ]
    },
    {
      "cell_type": "markdown",
      "source": [
        "2) Pegar o catálogo do ALFALFA e fazer um histograma dos redshifts."
      ],
      "metadata": {
        "id": "slWjViQ14v7o"
      }
    },
    {
      "cell_type": "code",
      "source": [
        "import pandas as pd"
      ],
      "metadata": {
        "id": "PNyxvn-mXhR-"
      },
      "execution_count": 5,
      "outputs": []
    },
    {
      "cell_type": "code",
      "source": [
        "from google.colab import drive\n",
        "drive.mount('/content/drive')"
      ],
      "metadata": {
        "colab": {
          "base_uri": "https://localhost:8080/"
        },
        "id": "SJpx3D09ZLCt",
        "outputId": "90029c07-11d3-4a58-f51f-bba2b6f01dfb"
      },
      "execution_count": null,
      "outputs": [
        {
          "output_type": "stream",
          "name": "stdout",
          "text": [
            "Drive already mounted at /content/drive; to attempt to forcibly remount, call drive.mount(\"/content/drive\", force_remount=True).\n"
          ]
        }
      ]
    },
    {
      "cell_type": "code",
      "source": [
        "alfalfa = pd.read_csv(\"/content/drive/MyDrive/a100.code12.table2.190808_modificado_code1_completo.csv\",\n",
        "                       sep=' ',\n",
        "                       comment='#',\n",
        "                       names=['agcnr','name','radeg_hi','decdeg_hi','radeg_oc','decdeg_oc','vhelio','w50','sigw','w20','hiflux','sigflux','snr','rms','dist','sigdist','logmh','siglogmh','hicode'])"
      ],
      "metadata": {
        "id": "6GNSQcVfY0PX"
      },
      "execution_count": null,
      "outputs": []
    },
    {
      "cell_type": "code",
      "source": [
        "print(alfalfa)"
      ],
      "metadata": {
        "colab": {
          "base_uri": "https://localhost:8080/"
        },
        "id": "0P_rrfDsmusn",
        "outputId": "3e7682d7-9adb-44ea-bd53-c5458767bf51"
      },
      "execution_count": null,
      "outputs": [
        {
          "output_type": "stream",
          "name": "stdout",
          "text": [
            "                                                   agcnr        name radeg_hi  \\\n",
            "0      AGCNr,Name,RAdeg_HI,DECdeg_HI,RAdeg_OC,DECdeg_...         NaN      NaN   \n",
            "1                                       105367,........,         NaN      NaN   \n",
            "2                                       333313,........,         NaN      NaN   \n",
            "3                                       331060,478-009b,         NaN      NaN   \n",
            "4                                       331061,456-013.,         NaN      NaN   \n",
            "...                                                  ...         ...      ...   \n",
            "25430                                   331054,517-008.,  359.92041,      NaN   \n",
            "25431                                   331052,Eder.Dw.,  359.93500,      NaN   \n",
            "25432                                   334869,........,  359.96167,      NaN   \n",
            "25433                                   332965,........,  359.98166,      NaN   \n",
            "25434                                   332118,........,  359.98877,      NaN   \n",
            "\n",
            "       decdeg_hi    radeg_oc   decdeg_oc                     vhelio  w50  \\\n",
            "0            NaN         NaN         NaN                        NaN  NaN   \n",
            "1       0.00167,         NaN         NaN                   5.44333,  NaN   \n",
            "2       0.00375,         NaN   24.90889,                 359.99750,  NaN   \n",
            "3       0.01042,         NaN   23.08472,                        NaN  NaN   \n",
            "4       0.01042,         NaN   15.87222,                        NaN  NaN   \n",
            "...          ...         ...         ...                        ...  ...   \n",
            "25430  34.34722,  359.92877,         NaN   34.34528,4900,84,14,152,  NaN   \n",
            "25431  27.25778,  359.93750,         NaN     27.25389,4692,61,2,75,  NaN   \n",
            "25432  21.55028,  359.96042,         NaN  21.55611,10432,171,9,185,  NaN   \n",
            "25433        NaN    5.23889,  359.97873,                        NaN  NaN   \n",
            "25434        NaN    4.89722,  359.99084,                        NaN  NaN   \n",
            "\n",
            "                             sigw       w20                     hiflux  \\\n",
            "0                             NaN       NaN                        NaN   \n",
            "1                             NaN  0.00333,                        NaN   \n",
            "2      24.90750,11181,313,20,333,       NaN                 1.80,0.09,   \n",
            "3                        0.01417,       NaN   23.08750,4463,160,4,184,   \n",
            "4                        0.00875,       NaN  15.88167,6007,260,45,268,   \n",
            "...                           ...       ...                        ...   \n",
            "25430                  2.24,0.07,     23.3,                        NaN   \n",
            "25431                  0.58,0.04,       NaN                       7.6,   \n",
            "25432                  0.97,0.07,       NaN                       7.7,   \n",
            "25433     5.23889,3038,124,9,158,       NaN                 1.18,0.06,   \n",
            "25434     4.90111,9207,186,4,199,       NaN                 1.58,0.09,   \n",
            "\n",
            "      sigflux                        snr          rms              dist  \\\n",
            "0         NaN                        NaN          NaN               NaN   \n",
            "1         NaN  5.44250,11983,274,39,281,          NaN        1.14,0.08,   \n",
            "2       11.3,                        NaN  2.02,154.8,  2.3,10.01,0.05,1   \n",
            "3         NaN                 1.96,0.07,        14.7,               NaN   \n",
            "4         NaN                 1.13,0.09,          NaN              6.5,   \n",
            "...       ...                        ...          ...               ...   \n",
            "25430   2.33,                      69.5,         2.3,       9.41,0.05,1   \n",
            "25431     NaN                      1.95,        66.5,              2.3,   \n",
            "25432     NaN                2.14,144.0,         2.3,       9.68,0.06,1   \n",
            "25433   13.4,                        NaN        1.76,             42.8,   \n",
            "25434     NaN                       9.9,          NaN       2.62,126.4,   \n",
            "\n",
            "           sigdist        logmh     siglogmh       hicode  \n",
            "0              NaN          NaN          NaN          NaN  \n",
            "1              NaN         8.1,          NaN  1.91,166.0,  \n",
            "2              NaN          NaN          NaN          NaN  \n",
            "3            2.35,   50.6,10.4,  9.07,0.18,1          NaN  \n",
            "4              NaN        2.40,        85.2,         2.4,  \n",
            "...            ...          ...          ...          ...  \n",
            "25430          NaN          NaN          NaN          NaN  \n",
            "25431  8.78,0.06,1          NaN          NaN          NaN  \n",
            "25432          NaN          NaN          NaN          NaN  \n",
            "25433         2.3,  8.71,0.07,1          NaN          NaN  \n",
            "25434         2.2,  9.77,0.05,1          NaN          NaN  \n",
            "\n",
            "[25435 rows x 19 columns]\n"
          ]
        }
      ]
    },
    {
      "cell_type": "code",
      "source": [
        "import scipy\n",
        "from scipy import constants\n",
        "print(constants.speed_of_light)"
      ],
      "metadata": {
        "colab": {
          "base_uri": "https://localhost:8080/"
        },
        "id": "78hpr5KlWnAK",
        "outputId": "5d668654-3bbf-42bd-f634-77320d895344"
      },
      "execution_count": 19,
      "outputs": [
        {
          "output_type": "stream",
          "name": "stdout",
          "text": [
            "299792458.0\n"
          ]
        }
      ]
    },
    {
      "cell_type": "code",
      "source": [
        "print(\"Speed of light in vaccum:\", scipy.constants.c)"
      ],
      "metadata": {
        "colab": {
          "base_uri": "https://localhost:8080/"
        },
        "id": "YAg3AaTOXSwu",
        "outputId": "c294eef0-8486-4727-d2f2-3e9ca08bf499"
      },
      "execution_count": 20,
      "outputs": [
        {
          "output_type": "stream",
          "name": "stdout",
          "text": [
            "Speed of light in vaccum: 299792458.0\n"
          ]
        }
      ]
    },
    {
      "cell_type": "code",
      "source": [
        "import scipy.constants\n",
        "from scipy.constants import c"
      ],
      "metadata": {
        "id": "LbLMR2hoUiOU"
      },
      "execution_count": 21,
      "outputs": []
    },
    {
      "cell_type": "code",
      "source": [
        "z = (alfalfa['vhelio']) / (3* 10**5)"
      ],
      "metadata": {
        "id": "gZrtNlqBsrBS"
      },
      "execution_count": null,
      "outputs": []
    },
    {
      "cell_type": "markdown",
      "source": [
        "A forma como fiz acima não está dando certo. Não consigo ver o porquê.\n",
        "\n",
        "Outra forma de fazer:"
      ],
      "metadata": {
        "id": "GaGlSYx278Jh"
      }
    },
    {
      "cell_type": "code",
      "source": [
        "alfalfa = 'alfalfa_completo.csv'"
      ],
      "metadata": {
        "id": "iRbWLYeC9TcS"
      },
      "execution_count": 9,
      "outputs": []
    },
    {
      "cell_type": "code",
      "source": [
        "dados = pd.read_csv(alfalfa, sep=',')\n",
        "dados.head()"
      ],
      "metadata": {
        "colab": {
          "base_uri": "https://localhost:8080/",
          "height": 270
        },
        "id": "DYxKvxDo79GM",
        "outputId": "d226e848-bd6a-4b30-b11b-0d2e36e82885"
      },
      "execution_count": 11,
      "outputs": [
        {
          "output_type": "execute_result",
          "data": {
            "text/plain": [
              "    AGCNr      Name  RAdeg_HI  DECdeg_HI   RAdeg_OC  DECdeg_OC  Vhelio  W50  \\\n",
              "0  105367  ........   0.00167    5.44333    0.00333    5.44250   11983  274   \n",
              "1  333313  ........   0.00375   24.90889  359.99750   24.90750   11181  313   \n",
              "2  331060  478-009b   0.01042   23.08472    0.01417   23.08750    4463  160   \n",
              "3  331061  456-013.   0.01042   15.87222    0.00875   15.88167    6007  260   \n",
              "4  104570  ........   0.00667   32.70834    0.00500   32.71028   10614  245   \n",
              "\n",
              "   sigW  W20  HIflux  sigflux   SNR   RMS   Dist  sigDist  logMH  siglogMH  \\\n",
              "0    39  281    1.14     0.08   8.1  1.91  166.0      2.3   9.87      0.05   \n",
              "1    20  333    1.80     0.09  11.3  2.02  154.8      2.3  10.01      0.05   \n",
              "2     4  184    1.96     0.07  14.7  2.35   50.6     10.4   9.07      0.18   \n",
              "3    45  268    1.13     0.09   6.5  2.40   85.2      2.4   9.29      0.06   \n",
              "4     6  250    0.86     0.07   6.6  1.86  147.0      2.3   9.64      0.06   \n",
              "\n",
              "   HIcode  \n",
              "0       1  \n",
              "1       1  \n",
              "2       1  \n",
              "3       1  \n",
              "4       1  "
            ],
            "text/html": [
              "\n",
              "  <div id=\"df-8f8857f0-6ec1-4779-95d9-8f1a6d04a410\">\n",
              "    <div class=\"colab-df-container\">\n",
              "      <div>\n",
              "<style scoped>\n",
              "    .dataframe tbody tr th:only-of-type {\n",
              "        vertical-align: middle;\n",
              "    }\n",
              "\n",
              "    .dataframe tbody tr th {\n",
              "        vertical-align: top;\n",
              "    }\n",
              "\n",
              "    .dataframe thead th {\n",
              "        text-align: right;\n",
              "    }\n",
              "</style>\n",
              "<table border=\"1\" class=\"dataframe\">\n",
              "  <thead>\n",
              "    <tr style=\"text-align: right;\">\n",
              "      <th></th>\n",
              "      <th>AGCNr</th>\n",
              "      <th>Name</th>\n",
              "      <th>RAdeg_HI</th>\n",
              "      <th>DECdeg_HI</th>\n",
              "      <th>RAdeg_OC</th>\n",
              "      <th>DECdeg_OC</th>\n",
              "      <th>Vhelio</th>\n",
              "      <th>W50</th>\n",
              "      <th>sigW</th>\n",
              "      <th>W20</th>\n",
              "      <th>HIflux</th>\n",
              "      <th>sigflux</th>\n",
              "      <th>SNR</th>\n",
              "      <th>RMS</th>\n",
              "      <th>Dist</th>\n",
              "      <th>sigDist</th>\n",
              "      <th>logMH</th>\n",
              "      <th>siglogMH</th>\n",
              "      <th>HIcode</th>\n",
              "    </tr>\n",
              "  </thead>\n",
              "  <tbody>\n",
              "    <tr>\n",
              "      <th>0</th>\n",
              "      <td>105367</td>\n",
              "      <td>........</td>\n",
              "      <td>0.00167</td>\n",
              "      <td>5.44333</td>\n",
              "      <td>0.00333</td>\n",
              "      <td>5.44250</td>\n",
              "      <td>11983</td>\n",
              "      <td>274</td>\n",
              "      <td>39</td>\n",
              "      <td>281</td>\n",
              "      <td>1.14</td>\n",
              "      <td>0.08</td>\n",
              "      <td>8.1</td>\n",
              "      <td>1.91</td>\n",
              "      <td>166.0</td>\n",
              "      <td>2.3</td>\n",
              "      <td>9.87</td>\n",
              "      <td>0.05</td>\n",
              "      <td>1</td>\n",
              "    </tr>\n",
              "    <tr>\n",
              "      <th>1</th>\n",
              "      <td>333313</td>\n",
              "      <td>........</td>\n",
              "      <td>0.00375</td>\n",
              "      <td>24.90889</td>\n",
              "      <td>359.99750</td>\n",
              "      <td>24.90750</td>\n",
              "      <td>11181</td>\n",
              "      <td>313</td>\n",
              "      <td>20</td>\n",
              "      <td>333</td>\n",
              "      <td>1.80</td>\n",
              "      <td>0.09</td>\n",
              "      <td>11.3</td>\n",
              "      <td>2.02</td>\n",
              "      <td>154.8</td>\n",
              "      <td>2.3</td>\n",
              "      <td>10.01</td>\n",
              "      <td>0.05</td>\n",
              "      <td>1</td>\n",
              "    </tr>\n",
              "    <tr>\n",
              "      <th>2</th>\n",
              "      <td>331060</td>\n",
              "      <td>478-009b</td>\n",
              "      <td>0.01042</td>\n",
              "      <td>23.08472</td>\n",
              "      <td>0.01417</td>\n",
              "      <td>23.08750</td>\n",
              "      <td>4463</td>\n",
              "      <td>160</td>\n",
              "      <td>4</td>\n",
              "      <td>184</td>\n",
              "      <td>1.96</td>\n",
              "      <td>0.07</td>\n",
              "      <td>14.7</td>\n",
              "      <td>2.35</td>\n",
              "      <td>50.6</td>\n",
              "      <td>10.4</td>\n",
              "      <td>9.07</td>\n",
              "      <td>0.18</td>\n",
              "      <td>1</td>\n",
              "    </tr>\n",
              "    <tr>\n",
              "      <th>3</th>\n",
              "      <td>331061</td>\n",
              "      <td>456-013.</td>\n",
              "      <td>0.01042</td>\n",
              "      <td>15.87222</td>\n",
              "      <td>0.00875</td>\n",
              "      <td>15.88167</td>\n",
              "      <td>6007</td>\n",
              "      <td>260</td>\n",
              "      <td>45</td>\n",
              "      <td>268</td>\n",
              "      <td>1.13</td>\n",
              "      <td>0.09</td>\n",
              "      <td>6.5</td>\n",
              "      <td>2.40</td>\n",
              "      <td>85.2</td>\n",
              "      <td>2.4</td>\n",
              "      <td>9.29</td>\n",
              "      <td>0.06</td>\n",
              "      <td>1</td>\n",
              "    </tr>\n",
              "    <tr>\n",
              "      <th>4</th>\n",
              "      <td>104570</td>\n",
              "      <td>........</td>\n",
              "      <td>0.00667</td>\n",
              "      <td>32.70834</td>\n",
              "      <td>0.00500</td>\n",
              "      <td>32.71028</td>\n",
              "      <td>10614</td>\n",
              "      <td>245</td>\n",
              "      <td>6</td>\n",
              "      <td>250</td>\n",
              "      <td>0.86</td>\n",
              "      <td>0.07</td>\n",
              "      <td>6.6</td>\n",
              "      <td>1.86</td>\n",
              "      <td>147.0</td>\n",
              "      <td>2.3</td>\n",
              "      <td>9.64</td>\n",
              "      <td>0.06</td>\n",
              "      <td>1</td>\n",
              "    </tr>\n",
              "  </tbody>\n",
              "</table>\n",
              "</div>\n",
              "      <button class=\"colab-df-convert\" onclick=\"convertToInteractive('df-8f8857f0-6ec1-4779-95d9-8f1a6d04a410')\"\n",
              "              title=\"Convert this dataframe to an interactive table.\"\n",
              "              style=\"display:none;\">\n",
              "        \n",
              "  <svg xmlns=\"http://www.w3.org/2000/svg\" height=\"24px\"viewBox=\"0 0 24 24\"\n",
              "       width=\"24px\">\n",
              "    <path d=\"M0 0h24v24H0V0z\" fill=\"none\"/>\n",
              "    <path d=\"M18.56 5.44l.94 2.06.94-2.06 2.06-.94-2.06-.94-.94-2.06-.94 2.06-2.06.94zm-11 1L8.5 8.5l.94-2.06 2.06-.94-2.06-.94L8.5 2.5l-.94 2.06-2.06.94zm10 10l.94 2.06.94-2.06 2.06-.94-2.06-.94-.94-2.06-.94 2.06-2.06.94z\"/><path d=\"M17.41 7.96l-1.37-1.37c-.4-.4-.92-.59-1.43-.59-.52 0-1.04.2-1.43.59L10.3 9.45l-7.72 7.72c-.78.78-.78 2.05 0 2.83L4 21.41c.39.39.9.59 1.41.59.51 0 1.02-.2 1.41-.59l7.78-7.78 2.81-2.81c.8-.78.8-2.07 0-2.86zM5.41 20L4 18.59l7.72-7.72 1.47 1.35L5.41 20z\"/>\n",
              "  </svg>\n",
              "      </button>\n",
              "      \n",
              "  <style>\n",
              "    .colab-df-container {\n",
              "      display:flex;\n",
              "      flex-wrap:wrap;\n",
              "      gap: 12px;\n",
              "    }\n",
              "\n",
              "    .colab-df-convert {\n",
              "      background-color: #E8F0FE;\n",
              "      border: none;\n",
              "      border-radius: 50%;\n",
              "      cursor: pointer;\n",
              "      display: none;\n",
              "      fill: #1967D2;\n",
              "      height: 32px;\n",
              "      padding: 0 0 0 0;\n",
              "      width: 32px;\n",
              "    }\n",
              "\n",
              "    .colab-df-convert:hover {\n",
              "      background-color: #E2EBFA;\n",
              "      box-shadow: 0px 1px 2px rgba(60, 64, 67, 0.3), 0px 1px 3px 1px rgba(60, 64, 67, 0.15);\n",
              "      fill: #174EA6;\n",
              "    }\n",
              "\n",
              "    [theme=dark] .colab-df-convert {\n",
              "      background-color: #3B4455;\n",
              "      fill: #D2E3FC;\n",
              "    }\n",
              "\n",
              "    [theme=dark] .colab-df-convert:hover {\n",
              "      background-color: #434B5C;\n",
              "      box-shadow: 0px 1px 3px 1px rgba(0, 0, 0, 0.15);\n",
              "      filter: drop-shadow(0px 1px 2px rgba(0, 0, 0, 0.3));\n",
              "      fill: #FFFFFF;\n",
              "    }\n",
              "  </style>\n",
              "\n",
              "      <script>\n",
              "        const buttonEl =\n",
              "          document.querySelector('#df-8f8857f0-6ec1-4779-95d9-8f1a6d04a410 button.colab-df-convert');\n",
              "        buttonEl.style.display =\n",
              "          google.colab.kernel.accessAllowed ? 'block' : 'none';\n",
              "\n",
              "        async function convertToInteractive(key) {\n",
              "          const element = document.querySelector('#df-8f8857f0-6ec1-4779-95d9-8f1a6d04a410');\n",
              "          const dataTable =\n",
              "            await google.colab.kernel.invokeFunction('convertToInteractive',\n",
              "                                                     [key], {});\n",
              "          if (!dataTable) return;\n",
              "\n",
              "          const docLinkHtml = 'Like what you see? Visit the ' +\n",
              "            '<a target=\"_blank\" href=https://colab.research.google.com/notebooks/data_table.ipynb>data table notebook</a>'\n",
              "            + ' to learn more about interactive tables.';\n",
              "          element.innerHTML = '';\n",
              "          dataTable['output_type'] = 'display_data';\n",
              "          await google.colab.output.renderOutput(dataTable, element);\n",
              "          const docLink = document.createElement('div');\n",
              "          docLink.innerHTML = docLinkHtml;\n",
              "          element.appendChild(docLink);\n",
              "        }\n",
              "      </script>\n",
              "    </div>\n",
              "  </div>\n",
              "  "
            ]
          },
          "metadata": {},
          "execution_count": 11
        }
      ]
    },
    {
      "cell_type": "code",
      "source": [
        "z = dados['Vhelio'] / (3* 10**5) #z = v/c\n",
        "cod = dados['HIcode']\n",
        "\n",
        "v1 = z[(cod==1.)]"
      ],
      "metadata": {
        "id": "D-fp1sth9nZQ"
      },
      "execution_count": 24,
      "outputs": []
    },
    {
      "cell_type": "code",
      "source": [
        "#definindo gaussiana\n",
        "media = np.mean(v1)\n",
        "std = np.std(v1)\n",
        "x = np.linspace(min(v1), max(v1))\n",
        "p = norm.pdf(x, media, std)\n",
        "\n",
        "#plot do grafico \n",
        "plt.title(\"Histograma de redshifts\")\n",
        "plt.xlabel('z')\n",
        "plt.ylabel('contagens')\n",
        "plt.hist(v1, bins=500)\n",
        "plt.plot(x, p, 'k', linewidth=2)\n",
        "plt.show()"
      ],
      "metadata": {
        "colab": {
          "base_uri": "https://localhost:8080/",
          "height": 295
        },
        "id": "KvBwf7bI9t7Q",
        "outputId": "906fa867-cdaa-4cdc-f300-292e3d5cb017"
      },
      "execution_count": 25,
      "outputs": [
        {
          "output_type": "display_data",
          "data": {
            "text/plain": [
              "<Figure size 432x288 with 1 Axes>"
            ],
            "image/png": "[encoded data removed]"
          },
          "metadata": {
            "needs_background": "light"
          }
        }
      ]
    },
    {
      "cell_type": "markdown",
      "source": [
        "Agora, ao invés de escrever (3* 10**5), vamos usar a constante do scipy."
      ],
      "metadata": {
        "id": "sOBylNe7-tlC"
      }
    },
    {
      "cell_type": "code",
      "source": [
        "z = dados['Vhelio'] / constants.speed_of_light #z = v/c\n",
        "cod = dados['HIcode']\n",
        "\n",
        "v1 = z[(cod==1.)]"
      ],
      "metadata": {
        "id": "6bt_tpKR-h1q"
      },
      "execution_count": 26,
      "outputs": []
    },
    {
      "cell_type": "code",
      "source": [
        "#definindo gaussiana\n",
        "media = np.mean(v1)\n",
        "std = np.std(v1)\n",
        "x = np.linspace(min(v1), max(v1))\n",
        "p = norm.pdf(x, media, std)\n",
        "\n",
        "#plot do grafico \n",
        "plt.title(\"Histograma de redshifts\")\n",
        "plt.xlabel('z')\n",
        "plt.ylabel('contagens')\n",
        "plt.hist(v1, bins=500)\n",
        "plt.plot(x, p, 'k', linewidth=2)\n",
        "plt.show()"
      ],
      "metadata": {
        "colab": {
          "base_uri": "https://localhost:8080/",
          "height": 295
        },
        "id": "vI7rgZOr-qsM",
        "outputId": "bfb22df4-2c72-4d8b-920e-517bc458d503"
      },
      "execution_count": 27,
      "outputs": [
        {
          "output_type": "display_data",
          "data": {
            "text/plain": [
              "<Figure size 432x288 with 1 Axes>"
            ],
            "image/png": "[encoded data removed]"
          },
          "metadata": {
            "needs_background": "light"
          }
        }
      ]
    },
    {
      "cell_type": "markdown",
      "source": [
        "Deu diferente. Por quê?"
      ],
      "metadata": {
        "id": "l7CHryqZ-2r8"
      }
    }
  ]
}