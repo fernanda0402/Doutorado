{
  "nbformat": 4,
  "nbformat_minor": 0,
  "metadata": {
    "colab": {
      "provenance": [],
      "mount_file_id": "1FiX0xrDSfPFN-7RFVVm8LLDN9WsFhNMz",
      "authorship_tag": "ABX9TyPFCPanl36ZqN9lt98QHRun",
      "include_colab_link": true
    },
    "kernelspec": {
      "name": "python3",
      "display_name": "Python 3"
    },
    "language_info": {
      "name": "python"
    }
  },
  "cells": [
    {
      "cell_type": "markdown",
      "metadata": {
        "id": "view-in-github",
        "colab_type": "text"
      },
      "source": [
        "<a href=\"https://colab.research.google.com/github/fernanda0402/Doutorado/blob/main/Trabalho_3_de_Cosmologia_1.ipynb\" target=\"_parent\"><img src=\"https://colab.research.google.com/assets/colab-badge.svg\" alt=\"Open In Colab\"/></a>"
      ]
    },
    {
      "cell_type": "markdown",
      "source": [
        "Exercício da aula de 20/10/2022.\n",
        "\n",
        "1) Plotar a função $\\frac{x_e ^2}{1-x_e}$ = A $a^{3/2}$ $e^{-\\alpha a}$ em função da $a$, em que $\\alpha$ e $A$ são constantes arbitrárias."
      ],
      "metadata": {
        "id": "fMWp3knm1j6T"
      }
    },
    {
      "cell_type": "code",
      "execution_count": 1,
      "metadata": {
        "id": "2vf468qy1gOE"
      },
      "outputs": [],
      "source": [
        "import numpy as np\n",
        "import math\n",
        "import matplotlib.pyplot as plt"
      ]
    },
    {
      "cell_type": "code",
      "source": [
        "def f(x):\n",
        "    return np.sqrt(x**(3/2)*np.exp(-x))"
      ],
      "metadata": {
        "id": "0-MPnMTh3f2n"
      },
      "execution_count": null,
      "outputs": []
    },
    {
      "cell_type": "code",
      "source": [
        "x=np.linspace(0,3)\n",
        "\n",
        "plt.plot(x,f(x))\n",
        "plt.xlabel('a')\n",
        "plt.ylabel('$x_e$')  \n",
        "plt.show()"
      ],
      "metadata": {
        "colab": {
          "base_uri": "https://localhost:8080/",
          "height": 279
        },
        "id": "g2mI6_UG4BRh",
        "outputId": "65315e77-ad28-49fb-c370-0daa4c53b0c0"
      },
      "execution_count": null,
      "outputs": [
        {
          "output_type": "display_data",
          "data": {
            "text/plain": [
              "<Figure size 432x288 with 1 Axes>"
            ],
            "image/png": "[encoded data removed]"
          },
          "metadata": {
            "needs_background": "light"
          }
        }
      ]
    },
    {
      "cell_type": "markdown",
      "source": [
        "2) Pegar o catálogo do ALFALFA e fazer um histograma dos redshifts."
      ],
      "metadata": {
        "id": "slWjViQ14v7o"
      }
    },
    {
      "cell_type": "code",
      "source": [
        "import pandas as pd"
      ],
      "metadata": {
        "id": "PNyxvn-mXhR-"
      },
      "execution_count": 2,
      "outputs": []
    },
    {
      "cell_type": "code",
      "source": [
        "from google.colab import drive\n",
        "drive.mount('/content/drive')"
      ],
      "metadata": {
        "colab": {
          "base_uri": "https://localhost:8080/"
        },
        "id": "SJpx3D09ZLCt",
        "outputId": "6c86362a-9089-4b71-baaf-986870349945"
      },
      "execution_count": 5,
      "outputs": [
        {
          "output_type": "stream",
          "name": "stdout",
          "text": [
            "Mounted at /content/drive\n"
          ]
        }
      ]
    },
    {
      "cell_type": "code",
      "source": [
        "redshift = pd.read_csv(\"/content/drive/MyDrive/a100.code12.table2.190808_modificado_code1_completo.csv\")"
      ],
      "metadata": {
        "id": "6GNSQcVfY0PX"
      },
      "execution_count": 6,
      "outputs": []
    }
  ]
}