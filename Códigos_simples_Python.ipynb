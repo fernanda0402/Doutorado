{
  "nbformat": 4,
  "nbformat_minor": 0,
  "metadata": {
    "colab": {
      "provenance": [],
      "authorship_tag": "ABX9TyMABWCpch3zIGEMDoFojyyx",
      "include_colab_link": true
    },
    "kernelspec": {
      "name": "python3",
      "display_name": "Python 3"
    },
    "language_info": {
      "name": "python"
    }
  },
  "cells": [
    {
      "cell_type": "markdown",
      "metadata": {
        "id": "view-in-github",
        "colab_type": "text"
      },
      "source": [
        "<a href=\"https://colab.research.google.com/github/fernanda0402/Doutorado/blob/main/C%C3%B3digos_simples_Python.ipynb\" target=\"_parent\"><img src=\"https://colab.research.google.com/assets/colab-badge.svg\" alt=\"Open In Colab\"/></a>"
      ]
    },
    {
      "cell_type": "markdown",
      "source": [
        "Algumas medidas estatísticas"
      ],
      "metadata": {
        "id": "b8Q35WmWXSeT"
      }
    },
    {
      "cell_type": "code",
      "execution_count": 1,
      "metadata": {
        "id": "xAUWGvyFVVJb"
      },
      "outputs": [],
      "source": [
        "#Vamos calcular algumas medidas estatísticas de uma pequena amostragem de dados\n",
        "\n",
        "import numpy as np"
      ]
    },
    {
      "cell_type": "code",
      "source": [
        "medidas = [ 2 , 4 , 5 , 9 , 3 , 2 , 2 , 3 , 1 , 6 , 7 , 3 , 4 , 4 , 4 , 4 , 5]"
      ],
      "metadata": {
        "id": "KAoaO0O7WQQr"
      },
      "execution_count": 2,
      "outputs": []
    },
    {
      "cell_type": "code",
      "source": [
        "desvio_padrao = np.std(medidas)"
      ],
      "metadata": {
        "id": "N3dV2dDWWTlQ"
      },
      "execution_count": 4,
      "outputs": []
    },
    {
      "cell_type": "code",
      "source": [
        "mean = np.mean(medidas)"
      ],
      "metadata": {
        "id": "_9cuzMVCWa3U"
      },
      "execution_count": 5,
      "outputs": []
    },
    {
      "cell_type": "code",
      "source": [
        "amplitude = max(medidas) - min(medidas)"
      ],
      "metadata": {
        "id": "3-wFnXKfWhwL"
      },
      "execution_count": 6,
      "outputs": []
    },
    {
      "cell_type": "code",
      "source": [
        "mediana = np.median(medidas)"
      ],
      "metadata": {
        "id": "NlOCrSC0Wvi7"
      },
      "execution_count": 8,
      "outputs": []
    },
    {
      "cell_type": "code",
      "source": [
        "print(\"O desvio padrão é\", desvio_padrao)\n",
        "print(\"A média é\", mean)\n",
        "print(\"A mediana é\", mediana)\n",
        "print(\"A amplitude é\", amplitude)"
      ],
      "metadata": {
        "colab": {
          "base_uri": "https://localhost:8080/"
        },
        "id": "_D92OmvzWmoM",
        "outputId": "6a5a719a-f9a9-436c-bf0b-ef149c59d7aa"
      },
      "execution_count": 9,
      "outputs": [
        {
          "output_type": "stream",
          "name": "stdout",
          "text": [
            "O desvio padrão é 1.9402850002906638\n",
            "A média é 4.0\n",
            "A mediana é 4.0\n",
            "A amplitude é 8\n"
          ]
        }
      ]
    },
    {
      "cell_type": "markdown",
      "source": [
        "Lista"
      ],
      "metadata": {
        "id": "J-P6IgYXXRm9"
      }
    },
    {
      "cell_type": "code",
      "source": [
        "lista = [-3,3,0.3,-0.42,5,-6,4,-8,8]"
      ],
      "metadata": {
        "id": "PXMw5WQcXW2Z"
      },
      "execution_count": 11,
      "outputs": []
    },
    {
      "cell_type": "code",
      "source": [
        "# Ordem crescente\n",
        "ordenar = np.sort(lista) "
      ],
      "metadata": {
        "id": "z9FeAa79XlFm"
      },
      "execution_count": 12,
      "outputs": []
    },
    {
      "cell_type": "code",
      "source": [
        "# Ordem decrescente\n",
        "lista.sort(reverse=True)"
      ],
      "metadata": {
        "id": "dZpvVbzbXrJI"
      },
      "execution_count": 17,
      "outputs": []
    },
    {
      "cell_type": "code",
      "source": [
        "print(\"Lista em ordem crescente:\", ordenar)\n",
        "print(\"Lista em ordem decrescente:\", lista)"
      ],
      "metadata": {
        "colab": {
          "base_uri": "https://localhost:8080/"
        },
        "id": "9IHqJ8FlX14i",
        "outputId": "1cba4393-8e77-4e85-b537-9d2df3fe9237"
      },
      "execution_count": 18,
      "outputs": [
        {
          "output_type": "stream",
          "name": "stdout",
          "text": [
            "Lista em ordem crescente: [-8.   -6.   -3.   -0.42  0.3   3.    4.    5.    8.  ]\n",
            "Lista em ordem decrescente: [8, 5, 4, 3, 0.3, -0.42, -3, -6, -8]\n"
          ]
        }
      ]
    },
    {
      "cell_type": "markdown",
      "source": [
        "Integral"
      ],
      "metadata": {
        "id": "GJ9o0aObYMq5"
      }
    },
    {
      "cell_type": "code",
      "source": [
        "import sympy as sp"
      ],
      "metadata": {
        "id": "BwplwSU3YNaP"
      },
      "execution_count": 19,
      "outputs": []
    },
    {
      "cell_type": "code",
      "source": [
        "x = sp.Symbol('x') #declarando a variável"
      ],
      "metadata": {
        "id": "p0hU4yLsYRHC"
      },
      "execution_count": 20,
      "outputs": []
    },
    {
      "cell_type": "code",
      "source": [
        "expr = x*sp.sin(x) + sp.exp (x**2) + sp.cos(x) #escrevendo a expressão"
      ],
      "metadata": {
        "id": "IahZOZ6dYdMT"
      },
      "execution_count": 21,
      "outputs": []
    },
    {
      "cell_type": "code",
      "source": [
        "integral = sp.integrate(expr,x) #calcula a integral"
      ],
      "metadata": {
        "id": "v7j7dIdvYsOM"
      },
      "execution_count": 22,
      "outputs": []
    },
    {
      "cell_type": "code",
      "source": [
        "print(\"A expressão é:\", expr)\n",
        "print(\"O resultado da integral é\", integral)"
      ],
      "metadata": {
        "colab": {
          "base_uri": "https://localhost:8080/"
        },
        "id": "tO_TYv-CYylp",
        "outputId": "3a686296-1986-4fcc-cb1e-c51e42c0dcd2"
      },
      "execution_count": 23,
      "outputs": [
        {
          "output_type": "stream",
          "name": "stdout",
          "text": [
            "A expressão é: x*sin(x) + exp(x**2) + cos(x)\n",
            "O resultado da integral é -x*cos(x) + 2*sin(x) + sqrt(pi)*erfi(x)/2\n"
          ]
        }
      ]
    },
    {
      "cell_type": "markdown",
      "source": [
        "Derivadas"
      ],
      "metadata": {
        "id": "Mj0XhaUGZLpi"
      }
    },
    {
      "cell_type": "code",
      "source": [
        "x = sp.Symbol('x') #declarando a variável\n",
        "expressao = sp.exp(x**2) #definindo a expressão"
      ],
      "metadata": {
        "id": "JLE8t6asZMZ7"
      },
      "execution_count": 31,
      "outputs": []
    },
    {
      "cell_type": "code",
      "source": [
        "derivada = sp.diff(expressao,x) #derivando a expressão"
      ],
      "metadata": {
        "id": "sknfihy3ZVm7"
      },
      "execution_count": 32,
      "outputs": []
    },
    {
      "cell_type": "code",
      "source": [
        "derivada_segunda = sp.diff(expressao,x,2) #derivando pela segunda vez"
      ],
      "metadata": {
        "id": "cu5SDNbIab3-"
      },
      "execution_count": 33,
      "outputs": []
    },
    {
      "cell_type": "code",
      "source": [
        "derivada_terceira = sp.diff(expressao,x,3) #derivando pela terceira vez"
      ],
      "metadata": {
        "id": "1EFbR2ZHalwG"
      },
      "execution_count": 34,
      "outputs": []
    },
    {
      "cell_type": "code",
      "source": [
        "#print(\"A expressão é:,\" expressao)\n",
        "print(\"Sua derivada é:\", derivada)\n",
        "print(\"Sua derivada segunda é:\", derivada_segunda)\n",
        "print(\"Sua derivada terceira é:\", derivada_terceira)"
      ],
      "metadata": {
        "colab": {
          "base_uri": "https://localhost:8080/"
        },
        "id": "jkmiBWYIa9AQ",
        "outputId": "57e8d58e-068c-42ba-a19e-32d4ac61d7f9"
      },
      "execution_count": 36,
      "outputs": [
        {
          "output_type": "stream",
          "name": "stdout",
          "text": [
            "Sua derivada é: 2*x*exp(x**2)\n",
            "Sua derivada segunda é: 2*(2*x**2 + 1)*exp(x**2)\n",
            "Sua derivada terceira é: 4*x*(2*x**2 + 3)*exp(x**2)\n"
          ]
        }
      ]
    },
    {
      "cell_type": "markdown",
      "source": [
        "Gráficos"
      ],
      "metadata": {
        "id": "tiyYJiVQbvJ2"
      }
    },
    {
      "cell_type": "code",
      "source": [
        "import matplotlib.pyplot as plt"
      ],
      "metadata": {
        "id": "7ANRL0D4buMT"
      },
      "execution_count": 37,
      "outputs": []
    },
    {
      "cell_type": "code",
      "source": [
        "def f(x):\n",
        "  return x**2"
      ],
      "metadata": {
        "id": "VUsgQ9cPb2UM"
      },
      "execution_count": 41,
      "outputs": []
    },
    {
      "cell_type": "code",
      "source": [
        "x = np.linspace(-5,5,100) #lista de valores para x\n",
        "y = f(x) #define o eixo y"
      ],
      "metadata": {
        "id": "SuYlMQHUb-xc"
      },
      "execution_count": 42,
      "outputs": []
    },
    {
      "cell_type": "code",
      "source": [
        "plt.plot(x,y) #plota o gráfico\n",
        "plt.xlabel('x') #rotula o eixo x\n",
        "plt.ylabel('f(x)') #rotula o eixo y\n",
        "\n",
        "plt.show() #exibe o gráfico"
      ],
      "metadata": {
        "colab": {
          "base_uri": "https://localhost:8080/",
          "height": 279
        },
        "id": "ITHzPCrTcFB7",
        "outputId": "647514a1-c862-469d-9a99-ed0166ce0726"
      },
      "execution_count": 45,
      "outputs": [
        {
          "output_type": "display_data",
          "data": {
            "text/plain": [
              "<Figure size 432x288 with 1 Axes>"
            ],
            "image/png": "[encoded data removed]"
          },
          "metadata": {
            "needs_background": "light"
          }
        }
      ]
    },
    {
      "cell_type": "code",
      "source": [
        "def g(z):\n",
        "  return np.sin(z)"
      ],
      "metadata": {
        "id": "EHG0mYBzckd2"
      },
      "execution_count": 47,
      "outputs": []
    },
    {
      "cell_type": "code",
      "source": [
        "x = np.linspace(-5,5,100) #lista de valores para x\n",
        "y = g(x) #define o eixo y"
      ],
      "metadata": {
        "id": "P5uq7TbFcrLn"
      },
      "execution_count": 49,
      "outputs": []
    },
    {
      "cell_type": "code",
      "source": [
        "plt.plot(x,y) #plota o gráfico\n",
        "plt.xlabel('z') #rotula o eixo x\n",
        "plt.ylabel('g(z)') #rotula o eixo y\n",
        "\n",
        "plt.show() #exibe o gráfico"
      ],
      "metadata": {
        "colab": {
          "base_uri": "https://localhost:8080/",
          "height": 279
        },
        "id": "Zsg-KMFnc3SH",
        "outputId": "f03d8f51-9d0e-4ef9-aa65-1b07f27a0d1e"
      },
      "execution_count": 50,
      "outputs": [
        {
          "output_type": "display_data",
          "data": {
            "text/plain": [
              "<Figure size 432x288 with 1 Axes>"
            ],
            "image/png": "[encoded data removed]"
          },
          "metadata": {
            "needs_background": "light"
          }
        }
      ]
    }
  ]
}