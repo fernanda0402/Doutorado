{
  "nbformat": 4,
  "nbformat_minor": 0,
  "metadata": {
    "colab": {
      "provenance": [],
      "authorship_tag": "ABX9TyOgCpKBZuSsJsZY4x5G389l",
      "include_colab_link": true
    },
    "kernelspec": {
      "name": "python3",
      "display_name": "Python 3"
    },
    "language_info": {
      "name": "python"
    }
  },
  "cells": [
    {
      "cell_type": "markdown",
      "metadata": {
        "id": "view-in-github",
        "colab_type": "text"
      },
      "source": [
        "<a href=\"https://colab.research.google.com/github/fernanda0402/Doutorado/blob/main/C%C3%B3digos_simples_Python.ipynb\" target=\"_parent\"><img src=\"https://colab.research.google.com/assets/colab-badge.svg\" alt=\"Open In Colab\"/></a>"
      ]
    },
    {
      "cell_type": "markdown",
      "source": [
        "Algumas medidas estatísticas"
      ],
      "metadata": {
        "id": "b8Q35WmWXSeT"
      }
    },
    {
      "cell_type": "code",
      "execution_count": 1,
      "metadata": {
        "id": "xAUWGvyFVVJb"
      },
      "outputs": [],
      "source": [
        "#Vamos calcular algumas medidas estatísticas de uma pequena amostragem de dados\n",
        "\n",
        "import numpy as np"
      ]
    },
    {
      "cell_type": "code",
      "source": [
        "medidas = [ 2 , 4 , 5 , 9 , 3 , 2 , 2 , 3 , 1 , 6 , 7 , 3 , 4 , 4 , 4 , 4 , 5]"
      ],
      "metadata": {
        "id": "KAoaO0O7WQQr"
      },
      "execution_count": 2,
      "outputs": []
    },
    {
      "cell_type": "code",
      "source": [
        "desvio_padrao = np.std(medidas)"
      ],
      "metadata": {
        "id": "N3dV2dDWWTlQ"
      },
      "execution_count": 3,
      "outputs": []
    },
    {
      "cell_type": "code",
      "source": [
        "mean = np.mean(medidas)"
      ],
      "metadata": {
        "id": "_9cuzMVCWa3U"
      },
      "execution_count": 4,
      "outputs": []
    },
    {
      "cell_type": "code",
      "source": [
        "amplitude = max(medidas) - min(medidas)"
      ],
      "metadata": {
        "id": "3-wFnXKfWhwL"
      },
      "execution_count": 5,
      "outputs": []
    },
    {
      "cell_type": "code",
      "source": [
        "mediana = np.median(medidas)"
      ],
      "metadata": {
        "id": "NlOCrSC0Wvi7"
      },
      "execution_count": 6,
      "outputs": []
    },
    {
      "cell_type": "code",
      "source": [
        "print(\"O desvio padrão é\", desvio_padrao)\n",
        "print(\"A média é\", mean)\n",
        "print(\"A mediana é\", mediana)\n",
        "print(\"A amplitude é\", amplitude)"
      ],
      "metadata": {
        "colab": {
          "base_uri": "https://localhost:8080/"
        },
        "id": "_D92OmvzWmoM",
        "outputId": "76068a0a-e635-44df-d93a-cfc79e6196a1"
      },
      "execution_count": 7,
      "outputs": [
        {
          "output_type": "stream",
          "name": "stdout",
          "text": [
            "O desvio padrão é 1.9402850002906638\n",
            "A média é 4.0\n",
            "A mediana é 4.0\n",
            "A amplitude é 8\n"
          ]
        }
      ]
    },
    {
      "cell_type": "markdown",
      "source": [
        "Lista"
      ],
      "metadata": {
        "id": "J-P6IgYXXRm9"
      }
    },
    {
      "cell_type": "code",
      "source": [
        "lista = [-3,3,0.3,-0.42,5,-6,4,-8,8]"
      ],
      "metadata": {
        "id": "PXMw5WQcXW2Z"
      },
      "execution_count": 8,
      "outputs": []
    },
    {
      "cell_type": "code",
      "source": [
        "# Ordem crescente\n",
        "ordenar = np.sort(lista) "
      ],
      "metadata": {
        "id": "z9FeAa79XlFm"
      },
      "execution_count": 9,
      "outputs": []
    },
    {
      "cell_type": "code",
      "source": [
        "# Ordem decrescente\n",
        "lista.sort(reverse=True)"
      ],
      "metadata": {
        "id": "dZpvVbzbXrJI"
      },
      "execution_count": 10,
      "outputs": []
    },
    {
      "cell_type": "code",
      "source": [
        "print(\"Lista em ordem crescente:\", ordenar)\n",
        "print(\"Lista em ordem decrescente:\", lista)"
      ],
      "metadata": {
        "colab": {
          "base_uri": "https://localhost:8080/"
        },
        "id": "9IHqJ8FlX14i",
        "outputId": "00ed68fc-5d4d-43b0-863e-d58b439d3eca"
      },
      "execution_count": 11,
      "outputs": [
        {
          "output_type": "stream",
          "name": "stdout",
          "text": [
            "Lista em ordem crescente: [-8.   -6.   -3.   -0.42  0.3   3.    4.    5.    8.  ]\n",
            "Lista em ordem decrescente: [8, 5, 4, 3, 0.3, -0.42, -3, -6, -8]\n"
          ]
        }
      ]
    },
    {
      "cell_type": "markdown",
      "source": [
        "Integral"
      ],
      "metadata": {
        "id": "GJ9o0aObYMq5"
      }
    },
    {
      "cell_type": "code",
      "source": [
        "import sympy as sp"
      ],
      "metadata": {
        "id": "BwplwSU3YNaP"
      },
      "execution_count": 12,
      "outputs": []
    },
    {
      "cell_type": "code",
      "source": [
        "x = sp.Symbol('x') #declarando a variável"
      ],
      "metadata": {
        "id": "p0hU4yLsYRHC"
      },
      "execution_count": 13,
      "outputs": []
    },
    {
      "cell_type": "code",
      "source": [
        "expr = x*sp.sin(x) + sp.exp (x**2) + sp.cos(x) #escrevendo a expressão"
      ],
      "metadata": {
        "id": "IahZOZ6dYdMT"
      },
      "execution_count": 14,
      "outputs": []
    },
    {
      "cell_type": "code",
      "source": [
        "integral = sp.integrate(expr,x) #calcula a integral"
      ],
      "metadata": {
        "id": "v7j7dIdvYsOM"
      },
      "execution_count": 15,
      "outputs": []
    },
    {
      "cell_type": "code",
      "source": [
        "print(\"A expressão é:\", expr)\n",
        "print(\"O resultado da integral é\", integral)"
      ],
      "metadata": {
        "colab": {
          "base_uri": "https://localhost:8080/"
        },
        "id": "tO_TYv-CYylp",
        "outputId": "fefbd1ad-218d-4e5c-a16a-b9aa832f887a"
      },
      "execution_count": 16,
      "outputs": [
        {
          "output_type": "stream",
          "name": "stdout",
          "text": [
            "A expressão é: x*sin(x) + exp(x**2) + cos(x)\n",
            "O resultado da integral é -x*cos(x) + 2*sin(x) + sqrt(pi)*erfi(x)/2\n"
          ]
        }
      ]
    },
    {
      "cell_type": "markdown",
      "source": [
        "Derivadas"
      ],
      "metadata": {
        "id": "Mj0XhaUGZLpi"
      }
    },
    {
      "cell_type": "code",
      "source": [
        "x = sp.Symbol('x') #declarando a variável\n",
        "expressao = sp.exp(x**2) #definindo a expressão"
      ],
      "metadata": {
        "id": "JLE8t6asZMZ7"
      },
      "execution_count": 17,
      "outputs": []
    },
    {
      "cell_type": "code",
      "source": [
        "derivada = sp.diff(expressao,x) #derivando a expressão"
      ],
      "metadata": {
        "id": "sknfihy3ZVm7"
      },
      "execution_count": 18,
      "outputs": []
    },
    {
      "cell_type": "code",
      "source": [
        "derivada_segunda = sp.diff(expressao,x,2) #derivando pela segunda vez"
      ],
      "metadata": {
        "id": "cu5SDNbIab3-"
      },
      "execution_count": 19,
      "outputs": []
    },
    {
      "cell_type": "code",
      "source": [
        "derivada_terceira = sp.diff(expressao,x,3) #derivando pela terceira vez"
      ],
      "metadata": {
        "id": "1EFbR2ZHalwG"
      },
      "execution_count": 20,
      "outputs": []
    },
    {
      "cell_type": "code",
      "source": [
        "#print(\"A expressão é:,\" expressao)\n",
        "print(\"Sua derivada é:\", derivada)\n",
        "print(\"Sua derivada segunda é:\", derivada_segunda)\n",
        "print(\"Sua derivada terceira é:\", derivada_terceira)"
      ],
      "metadata": {
        "colab": {
          "base_uri": "https://localhost:8080/"
        },
        "id": "jkmiBWYIa9AQ",
        "outputId": "7ecf0847-436f-4919-b465-4f3caca9d839"
      },
      "execution_count": 21,
      "outputs": [
        {
          "output_type": "stream",
          "name": "stdout",
          "text": [
            "Sua derivada é: 2*x*exp(x**2)\n",
            "Sua derivada segunda é: 2*(2*x**2 + 1)*exp(x**2)\n",
            "Sua derivada terceira é: 4*x*(2*x**2 + 3)*exp(x**2)\n"
          ]
        }
      ]
    },
    {
      "cell_type": "markdown",
      "source": [
        "Gráficos"
      ],
      "metadata": {
        "id": "tiyYJiVQbvJ2"
      }
    },
    {
      "cell_type": "code",
      "source": [
        "import matplotlib.pyplot as plt"
      ],
      "metadata": {
        "id": "7ANRL0D4buMT"
      },
      "execution_count": 22,
      "outputs": []
    },
    {
      "cell_type": "code",
      "source": [
        "def f(x):\n",
        "  return x**2"
      ],
      "metadata": {
        "id": "VUsgQ9cPb2UM"
      },
      "execution_count": 23,
      "outputs": []
    },
    {
      "cell_type": "code",
      "source": [
        "x = np.linspace(-5,5,100) #lista de valores para x\n",
        "y = f(x) #define o eixo y"
      ],
      "metadata": {
        "id": "SuYlMQHUb-xc"
      },
      "execution_count": 24,
      "outputs": []
    },
    {
      "cell_type": "code",
      "source": [
        "plt.plot(x,y) #plota o gráfico\n",
        "plt.xlabel('x') #rotula o eixo x\n",
        "plt.ylabel('f(x)') #rotula o eixo y\n",
        "\n",
        "plt.show() #exibe o gráfico"
      ],
      "metadata": {
        "colab": {
          "base_uri": "https://localhost:8080/",
          "height": 279
        },
        "id": "ITHzPCrTcFB7",
        "outputId": "df75a0b4-67b0-4d25-ace8-d484d69b3c6e"
      },
      "execution_count": 25,
      "outputs": [
        {
          "output_type": "display_data",
          "data": {
            "text/plain": [
              "<Figure size 432x288 with 1 Axes>"
            ],
            "image/png": "[encoded data removed]"
          },
          "metadata": {
            "needs_background": "light"
          }
        }
      ]
    },
    {
      "cell_type": "code",
      "source": [
        "def g(z):\n",
        "  return np.sin(z)"
      ],
      "metadata": {
        "id": "EHG0mYBzckd2"
      },
      "execution_count": 26,
      "outputs": []
    },
    {
      "cell_type": "code",
      "source": [
        "x = np.linspace(-5,5,100) #lista de valores para x\n",
        "y = g(x) #define o eixo y"
      ],
      "metadata": {
        "id": "P5uq7TbFcrLn"
      },
      "execution_count": 27,
      "outputs": []
    },
    {
      "cell_type": "code",
      "source": [
        "plt.plot(x,y) #plota o gráfico\n",
        "plt.xlabel('z') #rotula o eixo x\n",
        "plt.ylabel('g(z)') #rotula o eixo y\n",
        "\n",
        "plt.show() #exibe o gráfico"
      ],
      "metadata": {
        "colab": {
          "base_uri": "https://localhost:8080/",
          "height": 279
        },
        "id": "Zsg-KMFnc3SH",
        "outputId": "8bbd7c80-c816-4719-a344-d21b9b5282eb"
      },
      "execution_count": 28,
      "outputs": [
        {
          "output_type": "display_data",
          "data": {
            "text/plain": [
              "<Figure size 432x288 with 1 Axes>"
            ],
            "image/png": "[encoded data removed]"
          },
          "metadata": {
            "needs_background": "light"
          }
        }
      ]
    },
    {
      "cell_type": "markdown",
      "source": [
        "Ajuste"
      ],
      "metadata": {
        "id": "3jidVhpOneep"
      }
    },
    {
      "cell_type": "code",
      "source": [
        "import numpy as np\n",
        "import matplotlib.pyplot as plt\n",
        "\n",
        "#Logo abaixo, vamos inserir um exemplo com os pares ordenados que estarão no gráfico\n",
        "x = np.array([1, 2, 3, 4, 5, 6, 7, 8, 9, 10, 11, 12, 13]) #pontos do eixo X\n",
        "y = np.array([2, 3, 3, 5, 4, 5, 4, 6, 7, 10, 9, 10, 11]) #pontos do eixo Y\n",
        "\n",
        "# REPARE QUE OS PARES ORDENADOS ACIMA SERÃO (1, 2), (2, 3), (3, 3) ... (13, 11)\n",
        "\n",
        "#Aqui está o cálculo da sua linha de ajuste:\n",
        "slope, intercept = np.polyfit (x, y, 1)  #(o 1 no final indica a escala do seu gráfico, as proporções de x e y comparadas)\n",
        "\n",
        "# Abaixo, vamos indicar os comandos para a \"plotagem\" do gráfico:\n",
        "plt.plot(x, y, 'o')\n",
        "plt.plot(x, slope*x + intercept)\n",
        "\n",
        "#Observe que a equação da linha de ajuste é f(x) = slope*x + intercept. \n",
        "# 'slope' é o coeficiente angular da reta de ajuste e 'intercept', o coeficiente linear. \n",
        "#Você pode substituir seus próprios dados nessa equação para calcular a linha de ajuste para seus próprios dados.\n",
        "\n",
        "# O comando abaixo será para a exibição do gráfico:\n",
        "plt.show()\n",
        "\n",
        "print('Os valores da equação da reta ajuste para cada x serão:',slope*x + intercept) # Fará aparecer os valores de f(x) da equação de ajuste linear \n",
        "\n",
        "print('O coeficiente angular da reta de ajuste é:', slope)\n",
        "\n",
        "print('O coeficiente linear da reta de ajuste é:', intercept)"
      ],
      "metadata": {
        "colab": {
          "base_uri": "https://localhost:8080/",
          "height": 352
        },
        "id": "XIv20dX97cd_",
        "outputId": "4cce1055-1a96-4a53-ac82-0effc50e62f0"
      },
      "execution_count": 29,
      "outputs": [
        {
          "output_type": "display_data",
          "data": {
            "text/plain": [
              "<Figure size 432x288 with 1 Axes>"
            ],
            "image/png": "[encoded data removed]"
          },
          "metadata": {
            "needs_background": "light"
          }
        },
        {
          "output_type": "stream",
          "name": "stdout",
          "text": [
            "Os valores da equação da reta ajuste para cada x serão: [ 1.62637363  2.36813187  3.10989011  3.85164835  4.59340659  5.33516484\n",
            "  6.07692308  6.81868132  7.56043956  8.3021978   9.04395604  9.78571429\n",
            " 10.52747253]\n",
            "O coeficiente angular da reta de ajuste é: 0.741758241758242\n",
            "O coeficiente linear da reta de ajuste é: 0.8846153846153858\n"
          ]
        }
      ]
    },
    {
      "cell_type": "markdown",
      "source": [
        "Gráfico de gaussiana"
      ],
      "metadata": {
        "id": "whJKcNz__lYP"
      }
    },
    {
      "cell_type": "code",
      "source": [
        "# definindo a gaussiana\n",
        "\n",
        "def gaussian(x, amplitude, mean, stddev): #definindo os parâmetros\n",
        "  return amplitude*np.exp(-((x - mean)/stddev)**2 /2) # este comando retorna uma função gaussiana com os parâmetros dados"
      ],
      "metadata": {
        "id": "fiioSXZn_nZ6"
      },
      "execution_count": 32,
      "outputs": []
    },
    {
      "cell_type": "code",
      "source": [
        "# intervalo do eixo x\n",
        "x = np.linspace(-10,10,num=100) # O comando 'num = 100' será responsável por gerar 100 pontos igualmente espaçados no intervalo de -5 a 5. "
      ],
      "metadata": {
        "id": "CQ2cb4MxABqB"
      },
      "execution_count": 35,
      "outputs": []
    },
    {
      "cell_type": "code",
      "source": [
        "# parâmetros da gaussiana\n",
        "amplitude = 2\n",
        "mean = 0   # ponto em x que a gaussiana tem o maior valor\n",
        "stddev = 1 #desvio padrão"
      ],
      "metadata": {
        "id": "gJoad412AVQW"
      },
      "execution_count": 36,
      "outputs": []
    },
    {
      "cell_type": "code",
      "source": [
        "# CRIANDO A GAUSSIANA:\n",
        "gaussian_function = gaussian(x, amplitude, mean, stddev)\n",
        "\n",
        "#PLOTANDO O GRÁFICO DA GAUSSIANA:\n",
        "plt.plot(x, gaussian_function)\n",
        "\n",
        "#EXIBE O GRÁFICO:\n",
        "plt.show()"
      ],
      "metadata": {
        "colab": {
          "base_uri": "https://localhost:8080/",
          "height": 265
        },
        "id": "8pu7zM_sAmoH",
        "outputId": "418000ed-29ab-404e-9b56-33f3bf7ea0b2"
      },
      "execution_count": 37,
      "outputs": [
        {
          "output_type": "display_data",
          "data": {
            "text/plain": [
              "<Figure size 432x288 with 1 Axes>"
            ],
            "image/png": "[encoded data removed]"
          },
          "metadata": {
            "needs_background": "light"
          }
        }
      ]
    }
  ]
}