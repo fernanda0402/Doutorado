{
  "nbformat": 4,
  "nbformat_minor": 0,
  "metadata": {
    "colab": {
      "provenance": [],
      "authorship_tag": "ABX9TyP4R6RUIUT7MemAsiwkWSWy",
      "include_colab_link": true
    },
    "kernelspec": {
      "name": "python3",
      "display_name": "Python 3"
    },
    "language_info": {
      "name": "python"
    }
  },
  "cells": [
    {
      "cell_type": "markdown",
      "metadata": {
        "id": "view-in-github",
        "colab_type": "text"
      },
      "source": [
        "<a href=\"https://colab.research.google.com/github/fernanda0402/Doutorado/blob/main/Trabalho_2_de_Cosmologia_1.ipynb\" target=\"_parent\"><img src=\"https://colab.research.google.com/assets/colab-badge.svg\" alt=\"Open In Colab\"/></a>"
      ]
    },
    {
      "cell_type": "markdown",
      "source": [
        "Nome: Fernanda Araujo de Oliveira\n",
        "\n",
        "Exercício 4 do dia 14/10/2022.\n",
        "\n",
        "a) Quantos fótons têm energia entre [0,5; 90] eV?\n",
        "\n",
        "b) Quantos fótons têm energia entre [90; $\\infty$) eV?"
      ],
      "metadata": {
        "id": "HjIB9zaWraCO"
      }
    },
    {
      "cell_type": "code",
      "execution_count": null,
      "metadata": {
        "id": "NnvyljVSrSfp"
      },
      "outputs": [],
      "source": [
        "from scipy.integrate import quad\n",
        "import numpy as np\n",
        "import math\n",
        "import matplotlib.pyplot as plt"
      ]
    },
    {
      "cell_type": "code",
      "source": [
        "def f(x):\n",
        "    return 1/(np.exp(x)-1)"
      ],
      "metadata": {
        "id": "PV1XPznVsWQ4"
      },
      "execution_count": null,
      "outputs": []
    },
    {
      "cell_type": "markdown",
      "source": [
        "Em que x = $\\frac{hf}{kT}$. Portanto, para o primeiro caso, temos que:\n",
        "\n",
        "*   hf = 0,5 eV:\n",
        "\n",
        "    $x_1$ = $\\frac{0,5}{0,5}$ = 1\n",
        "\n",
        "*   hf = 90 eV:\n",
        "\n",
        "    $x_2$ = $\\frac{90}{0,5}$ = 180\n",
        "\n"
      ],
      "metadata": {
        "id": "MG5sQ160xAjg"
      }
    },
    {
      "cell_type": "code",
      "source": [
        "I = quad(f, 1, 180)\n",
        "I"
      ],
      "metadata": {
        "colab": {
          "base_uri": "https://localhost:8080/"
        },
        "id": "XGb1e-FHsekk",
        "outputId": "03b40ed3-8de7-44ce-ba30-8acda8187afc"
      },
      "execution_count": null,
      "outputs": [
        {
          "output_type": "execute_result",
          "data": {
            "text/plain": [
              "(0.4586751453870819, 2.322484605533049e-11)"
            ]
          },
          "metadata": {},
          "execution_count": 3
        }
      ]
    },
    {
      "cell_type": "markdown",
      "source": [
        "Já para o segundo caso, temos que:\n",
        "\n",
        "*  hf = 90 eV:\n",
        "\n",
        "    $x_2$ = $\\frac{90}{0,5}$ = 180\n",
        "\n",
        "*   hf = $\\infty$ :\n",
        "\n",
        "    $x_2$ = $\\frac{\\infty}{0,5}$ = $\\infty$\n",
        "\n",
        "\n"
      ],
      "metadata": {
        "id": "sCyL-rTHxtY-"
      }
    },
    {
      "cell_type": "code",
      "source": [
        "I = quad(f, 180, np.inf)\n",
        "I"
      ],
      "metadata": {
        "colab": {
          "base_uri": "https://localhost:8080/"
        },
        "id": "a3VcnWorue2E",
        "outputId": "2dccfb96-7604-4ac7-aea0-acf3711e46c1"
      },
      "execution_count": null,
      "outputs": [
        {
          "output_type": "execute_result",
          "data": {
            "text/plain": [
              "(6.714108553454652e-79, 8.301263840325153e-80)"
            ]
          },
          "metadata": {},
          "execution_count": 4
        }
      ]
    },
    {
      "cell_type": "markdown",
      "source": [
        "Porém, o resultado das integrais deve ser multiplicado pelo fator de normalização $N_0$. Este fator é calculado da seguinte forma:\n",
        "\n",
        "$N_0$ = $n_b$ x $V_H (z = 1100)$ = 2,5.$10^2$ $cm^{-3}$. $(2.10^2 Mpc)^3$\n",
        "\n",
        "Sabendo que 1 Mpc $\\approx$ 3,1.$10^{24}$ cm:\n",
        "\n",
        "$N_0$ = 2,5.$10^2$. 8.$10^6$.3.$10^{73}$ = 6.$10^{82}$ bárions\n",
        "\n",
        "Porém, o que queremos é o número de fótons. Sabendo que na época do fluido matéria-radiação a relação entre o número de bárions e o de fótons era dada por:\n",
        "\n",
        "$\\frac{n_b}{n_\\gamma}$ = $10^9$\n",
        "\n",
        "O número de fótons $N_0$ era:\n",
        "\n",
        "$N_0$ = 6.$10^{91}$ fótons"
      ],
      "metadata": {
        "id": "zkDexeFdyG-u"
      }
    },
    {
      "cell_type": "markdown",
      "source": [
        "Então, a quantidade de fótons com energia entre 0 e 90 eV era:\n",
        "\n",
        "N = 6.$10^{91}$.0,46 = 2,8.6.$10^{91}$ fótons\n",
        "\n",
        "E a quantidade de fótons com energia entre 90 eV e $\\infty$ era:\n",
        "\n",
        "N = 6.$10^{91}$.6,7.$10^{-79}$ = 4,02.$10^{13}$ fótons\n",
        "\n",
        "Percebe-se então que a quantidade de fótons decresceu com o aumento da energia, o que é ilustrado no gráfico abaixo."
      ],
      "metadata": {
        "id": "O2cwackzz-Uq"
      }
    },
    {
      "cell_type": "code",
      "source": [
        "x=np.linspace(0,3)\n",
        "\n",
        "plt.plot(x,f(x))\n",
        "plt.xlabel('hf/kT')\n",
        "plt.ylabel('$N$')  \n",
        "plt.show()"
      ],
      "metadata": {
        "colab": {
          "base_uri": "https://localhost:8080/",
          "height": 315
        },
        "id": "N-zjg1uvu5Cv",
        "outputId": "90df4af9-7d6f-4312-dea9-5929e249bf22"
      },
      "execution_count": null,
      "outputs": [
        {
          "output_type": "stream",
          "name": "stderr",
          "text": [
            "/usr/local/lib/python3.7/dist-packages/ipykernel_launcher.py:2: RuntimeWarning: divide by zero encountered in true_divide\n",
            "  \n"
          ]
        },
        {
          "output_type": "display_data",
          "data": {
            "text/plain": [
              "<Figure size 432x288 with 1 Axes>"
            ],
            "image/png": "[encoded data removed]"
          },
          "metadata": {
            "needs_background": "light"
          }
        }
      ]
    },
    {
      "cell_type": "markdown",
      "source": [
        "Exercício 5 do dia 14/10/2022.\n",
        "\n",
        "Quantos fótons têm energia superior a 13,6 eV se a temperatura de equilíbrio do fluido fótons-bários é:\n",
        "\n",
        "a) kT = 1 eV;\n",
        "\n",
        "b) kT = 0,5 eV;\n",
        "\n",
        "c) kT = 0,3 eV."
      ],
      "metadata": {
        "id": "ENgugRaw1trL"
      }
    },
    {
      "cell_type": "markdown",
      "source": [
        "a) kT = 1 eV:\n",
        "\n",
        "Neste caso, x = 13,6 eV. Então:"
      ],
      "metadata": {
        "id": "M5WySi-j1-58"
      }
    },
    {
      "cell_type": "code",
      "source": [
        "I = quad(f, 13.6, np.inf)\n",
        "I"
      ],
      "metadata": {
        "colab": {
          "base_uri": "https://localhost:8080/"
        },
        "id": "zBgV-gpa2G3O",
        "outputId": "ae0dd4be-333d-4e71-a38c-e9fde3cf46a7"
      },
      "execution_count": null,
      "outputs": [
        {
          "output_type": "execute_result",
          "data": {
            "text/plain": [
              "(1.240495576697482e-06, 4.381625223534968e-09)"
            ]
          },
          "metadata": {},
          "execution_count": 6
        }
      ]
    },
    {
      "cell_type": "markdown",
      "source": [
        "Logo N = 7,4.$10^{85}$ fótons."
      ],
      "metadata": {
        "id": "OT-brFun2a4F"
      }
    },
    {
      "cell_type": "markdown",
      "source": [
        "b) kT = 0,5 eV:\n",
        "\n",
        "Neste caso, x = 27,2 eV. Então:"
      ],
      "metadata": {
        "id": "YCZecScd2g34"
      }
    },
    {
      "cell_type": "code",
      "source": [
        "I = quad(f, 27.2, np.inf)\n",
        "I"
      ],
      "metadata": {
        "colab": {
          "base_uri": "https://localhost:8080/"
        },
        "id": "PkpP-MaI2gNX",
        "outputId": "e5aed16a-aa7e-4c40-eaea-63a4f5fee9cf"
      },
      "execution_count": null,
      "outputs": [
        {
          "output_type": "execute_result",
          "data": {
            "text/plain": [
              "(1.5388106857022847e-12, 1.9025717860548377e-13)"
            ]
          },
          "metadata": {},
          "execution_count": 7
        }
      ]
    },
    {
      "cell_type": "markdown",
      "source": [
        "Logo N = 9,2.$10^{79}$ fótons."
      ],
      "metadata": {
        "id": "poiAgSoL2vnb"
      }
    },
    {
      "cell_type": "markdown",
      "source": [
        "c) kT = 0,3 eV:\n",
        "\n",
        "Neste caso x= 45,4 eV. Então:"
      ],
      "metadata": {
        "id": "Cf7Y1qwq2zjT"
      }
    },
    {
      "cell_type": "code",
      "source": [
        "I = quad(f, 45.4, np.inf)\n",
        "I"
      ],
      "metadata": {
        "colab": {
          "base_uri": "https://localhost:8080/"
        },
        "id": "7pdVbYsc27KL",
        "outputId": "1af62483-38e0-4b2d-e310-ed7e56aa781a"
      },
      "execution_count": null,
      "outputs": [
        {
          "output_type": "execute_result",
          "data": {
            "text/plain": [
              "(1.918781942942186e-20, 2.3723648543335293e-21)"
            ]
          },
          "metadata": {},
          "execution_count": 8
        }
      ]
    },
    {
      "cell_type": "markdown",
      "source": [
        "Logo N = 1,1.$10^{72}$ fótons."
      ],
      "metadata": {
        "id": "zOmHEVEQ3HEW"
      }
    },
    {
      "cell_type": "markdown",
      "source": [
        "Exercício 6 do dia 14/10/2022.\n",
        "\n",
        "Qual a densidade de energia dos fótons com energia superior a 13,6 eV nos casos a, b e c da questão anterior?"
      ],
      "metadata": {
        "id": "ntbJx9HX6LC2"
      }
    },
    {
      "cell_type": "markdown",
      "source": [
        "A densidade de energia é dada por:\n",
        "\n",
        "$\\epsilon$(f) = $\\frac{8 \\pi h}{c^3}$ $\\frac{f^3}{exp(hf/kT) - 1}$\n",
        "\n",
        "Integrando e reescrevendo esta expressão em função de x, temos:\n",
        "\n",
        "$\\epsilon$ = $\\frac{8 \\pi h}{c^3}$ $\\frac{k^4 T^4}{h^4}$ $\\int \\frac{x^3 dx}{e^x - 1}$"
      ],
      "metadata": {
        "id": "O6XL2SNwG48z"
      }
    },
    {
      "cell_type": "code",
      "source": [
        "def g(x):\n",
        "    return x**3/(np.exp(x)-1)"
      ],
      "metadata": {
        "id": "_ZkLdtW_6oKl"
      },
      "execution_count": null,
      "outputs": []
    },
    {
      "cell_type": "markdown",
      "source": [
        "a) kT = 1 eV e x = 13,6:"
      ],
      "metadata": {
        "id": "zxLFjOar6WvX"
      }
    },
    {
      "cell_type": "code",
      "source": [
        "I = quad(g, 13.6, np.inf)\n",
        "I"
      ],
      "metadata": {
        "colab": {
          "base_uri": "https://localhost:8080/"
        },
        "id": "r5V_zJFK6l1V",
        "outputId": "845d31b0-ba27-4b8a-fab8-6774b0b2c565"
      },
      "execution_count": null,
      "outputs": [
        {
          "output_type": "stream",
          "name": "stderr",
          "text": [
            "/usr/local/lib/python3.7/dist-packages/ipykernel_launcher.py:2: RuntimeWarning: overflow encountered in exp\n",
            "  \n"
          ]
        },
        {
          "output_type": "execute_result",
          "data": {
            "text/plain": [
              "(0.003917406235999717, 7.891625348348194e-09)"
            ]
          },
          "metadata": {},
          "execution_count": 14
        }
      ]
    },
    {
      "cell_type": "markdown",
      "source": [
        "Porém, para obtermos a densidade de energia, precisamos multiplicar o valor encontrado acima - resultado da integral - pelas constantes da expressão. O valor destas constantes, no caso de kT = 1 eV, é:\n",
        "\n",
        "$\\frac{8 \\pi h}{c^3}$ $\\frac{k^4 T^4}{h^4}$ = 1,27.$10^{28}$\n",
        "\n",
        "Logo, o valor da densidade de energia dos fótons é:\n",
        "\n",
        "$\\epsilon$ = 1,27.$10^{28}$.0,004 = 5,1.$10^{25}$"
      ],
      "metadata": {
        "id": "LOl9oWoc5eoK"
      }
    },
    {
      "cell_type": "markdown",
      "source": [
        "b) kT = 0,5 eV e x = 27,2:"
      ],
      "metadata": {
        "id": "tjunUzUw6aCL"
      }
    },
    {
      "cell_type": "code",
      "source": [
        "I = quad(g, 27.2, np.inf)\n",
        "I"
      ],
      "metadata": {
        "colab": {
          "base_uri": "https://localhost:8080/"
        },
        "id": "6h4vV11a6fpT",
        "outputId": "75c212ac-1574-4ec3-c580-b5d861b26966"
      },
      "execution_count": null,
      "outputs": [
        {
          "output_type": "execute_result",
          "data": {
            "text/plain": [
              "(3.464266032919829e-08, 3.079181556153567e-11)"
            ]
          },
          "metadata": {},
          "execution_count": 20
        }
      ]
    },
    {
      "cell_type": "markdown",
      "source": [
        "O valor das constantes, no caso de kT = 0,5 eV, é:\n",
        "\n",
        "$\\frac{8 \\pi h}{c^3}$ $\\frac{k^4 T^4}{h^4}$ = 8,2.$10^{26}$\n",
        "\n",
        "Logo, o valor da densidade de energia dos fótons é:\n",
        "\n",
        "$\\epsilon$ = 8,2.$10^{26}$.3,5.$10^{-8}$ = 2,9.$10^{19}$"
      ],
      "metadata": {
        "id": "PznjtmmK6yBp"
      }
    },
    {
      "cell_type": "markdown",
      "source": [
        "c) kT = 0,3 eV e x = 45,4:"
      ],
      "metadata": {
        "id": "BlqHwxZ86-EJ"
      }
    },
    {
      "cell_type": "code",
      "source": [
        "I = quad(g, 45.4, np.inf)\n",
        "I"
      ],
      "metadata": {
        "colab": {
          "base_uri": "https://localhost:8080/"
        },
        "id": "aNC9RB_b7HGN",
        "outputId": "b7ad1566-903e-4f64-c442-d83ae14bf113"
      },
      "execution_count": null,
      "outputs": [
        {
          "output_type": "execute_result",
          "data": {
            "text/plain": [
              "(1.919527209295779e-15, 6.309407413227672e-16)"
            ]
          },
          "metadata": {},
          "execution_count": 21
        }
      ]
    },
    {
      "cell_type": "markdown",
      "source": [
        "O valor das constantes, no caso de kT = 0,5 eV, é:\n",
        "\n",
        "$\\frac{8 \\pi h}{c^3}$ $\\frac{k^4 T^4}{h^4}$ = 0,94.$10^{26}$\n",
        "\n",
        "Logo, o valor da densidade de energia dos fótons é:\n",
        "\n",
        "$\\epsilon$ = 0,94.$10^{26}$.1,9.$10^{-15}$ = 1,8.$10^{11}$"
      ],
      "metadata": {
        "id": "jim_uVxl7xQn"
      }
    },
    {
      "cell_type": "markdown",
      "source": [
        "Exercício 7 do dia 14/10/2022.\n",
        "\n",
        "Problema 10.5 do livro do Liddle."
      ],
      "metadata": {
        "id": "xFxPEwMx4yQV"
      }
    },
    {
      "cell_type": "code",
      "source": [
        "def h(x):\n",
        "    return x**(-2)/(exp((1.6*10**(5))/x)-1)"
      ],
      "metadata": {
        "id": "sHjV267w478K"
      },
      "execution_count": null,
      "outputs": []
    }
  ]
}