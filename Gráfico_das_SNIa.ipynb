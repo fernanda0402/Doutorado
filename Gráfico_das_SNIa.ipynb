{
  "nbformat": 4,
  "nbformat_minor": 0,
  "metadata": {
    "colab": {
      "provenance": [],
      "include_colab_link": true
    },
    "kernelspec": {
      "name": "python3",
      "display_name": "Python 3"
    },
    "language_info": {
      "name": "python"
    }
  },
  "cells": [
    {
      "cell_type": "markdown",
      "metadata": {
        "id": "view-in-github",
        "colab_type": "text"
      },
      "source": [
        "<a href=\"https://colab.research.google.com/github/fernanda0402/Doutorado/blob/main/Gr%C3%A1fico_das_SNIa.ipynb\" target=\"_parent\"><img src=\"https://colab.research.google.com/assets/colab-badge.svg\" alt=\"Open In Colab\"/></a>"
      ]
    },
    {
      "cell_type": "code",
      "execution_count": 191,
      "metadata": {
        "id": "le3B6CANhbGS"
      },
      "outputs": [],
      "source": [
        "\n",
        "import urllib.request #usar biblioteca Pandas para ler o arquivo como um DataFrame e pular a primeira linha com o cabeçalho\n",
        "import pandas as pd\n",
        "import matplotlib.pyplot as plt\n",
        "import numpy as np\n",
        "from scipy.optimize import curve_fit\n",
        "import sympy as sm\n",
        "import scipy as sp\n",
        "import math\n",
        "from matplotlib import rc"
      ]
    },
    {
      "cell_type": "code",
      "source": [
        "# 1) BAIXANDO O ARQUIVO (SEM COVARIÂNCIA)\n",
        "\n",
        "url = \"https://raw.githubusercontent.com/PantheonPlusSH0ES/DataRelease/main/Pantheon%2B_Data/4_DISTANCES_AND_COVAR/Pantheon%2BSH0ES.dat\"\n",
        "filename = \"Pantheon+SH0ES.dat\"\n",
        "\n",
        "urllib.request.urlretrieve(url, filename)"
      ],
      "metadata": {
        "colab": {
          "base_uri": "https://localhost:8080/"
        },
        "id": "_gJq0FNRhiME",
        "outputId": "6a852baf-d25c-4ef2-eb82-8f546c91dd0c"
      },
      "execution_count": 192,
      "outputs": [
        {
          "output_type": "execute_result",
          "data": {
            "text/plain": [
              "('Pantheon+SH0ES.dat', <http.client.HTTPMessage at 0x7f4538866e50>)"
            ]
          },
          "metadata": {},
          "execution_count": 192
        }
      ]
    },
    {
      "cell_type": "code",
      "source": [
        "# 2) GERANDO O GRÁFICO COM OS DADOS DO CATÁLOGO PANTHEON+\n",
        "\n",
        "#primeira linha do arquivo contém o cabeçalho da tabela, com nomes de colunas e outros metadados, e não dados numéricos.\n",
        "df = pd.read_csv(filename, skiprows=2, delim_whitespace=True, names=['CID', 'IDSURVEY', 'zHD', 'zHDERR', 'zCMB', 'zCMBERR', 'zHEL', 'zHELERR', 'm_b_corr', 'm_b_corr_err_DIAG', 'MU_SH0ES', 'MU_SH0ES_ERR_DIAG', 'CEPH_DIST', 'IS_CALIBRATOR', 'USED_IN_SH0ES_HF', 'c', 'cERR', 'x1', 'x1ERR', 'mB', 'mBERR', 'x0', 'x0ERR', 'COV_x1_c', 'COV_x1_x0', 'COV_c_x0', 'RA', 'DEC', 'HOST_RA', 'HOST_DEC', 'HOST_ANGSEP', 'VPEC', 'VPECERR', 'MWEBV', 'HOST_LOGMASS', 'HOST_LOGMASS_ERR', 'PKMJD', 'PKMJDERR', 'NDOF', 'FITCHI2', 'FITPROB', 'm_b_corr_err_RAW', 'm_b_corr_err_VPEC', 'biasCor_m_b', 'biasCorErr_m_b', 'biasCor_m_b_COVSCALE', 'biasCor_m_b_COVADD'])\n",
        "# skiprows=1, especifica que o arquivo está separado por espaços em branco com o argumento delim_whitespace=True, e nomeia as colunas do DataFrame com o argumento names.\n"
      ],
      "metadata": {
        "id": "-AythmJxhobb"
      },
      "execution_count": 193,
      "outputs": []
    },
    {
      "cell_type": "code",
      "source": [
        "# definindo as variáveis de acordo com os dados fornecidos\n",
        "mu = df[\"MU_SH0ES\"]\n",
        "zCMB = df[\"zCMB\"]\n",
        "\n",
        "# definindo constantes\n",
        "c = 2.9*10**5 # velocidade da luz\n",
        "h0 = 70 #km/s/Mpc\n",
        "\n",
        "# definindo a velocidade\n",
        "v = c*zCMB #(km/s)\n",
        "\n",
        "# definindo os erros\n",
        "muerr = df[\"MU_SH0ES_ERR_DIAG\"]\n",
        "zCMBerr = df[\"zCMBERR\"]\n",
        "verr = np.sqrt((c**2)*((zCMBerr)**2))"
      ],
      "metadata": {
        "id": "GQn6QHcxVTKZ"
      },
      "execution_count": 194,
      "outputs": []
    },
    {
      "cell_type": "code",
      "source": [
        "# histograma dos dados\n",
        "values = pd.DataFrame(mu)\n",
        "values.hist( bins=100, color='turquoise', figsize=(8, 8))"
      ],
      "metadata": {
        "colab": {
          "base_uri": "https://localhost:8080/",
          "height": 513
        },
        "id": "uGdiHND6cj1y",
        "outputId": "2bbc2313-816e-4188-cdb2-dbbcae03968d"
      },
      "execution_count": 195,
      "outputs": [
        {
          "output_type": "execute_result",
          "data": {
            "text/plain": [
              "array([[<Axes: title={'center': 'MU_SH0ES'}>]], dtype=object)"
            ]
          },
          "metadata": {},
          "execution_count": 195
        },
        {
          "output_type": "display_data",
          "data": {
            "text/plain": [
              "<Figure size 576x576 with 1 Axes>"
            ],
            "image/png": "[encoded data removed]"
          },
          "metadata": {
            "needs_background": "light"
          }
        }
      ]
    },
    {
      "cell_type": "code",
      "source": [
        "#ver o tamanho ou quantidade de dados\n",
        "len(v)"
      ],
      "metadata": {
        "colab": {
          "base_uri": "https://localhost:8080/"
        },
        "id": "d0Aux1bPYtAY",
        "outputId": "8f866e78-ba8c-44e6-a0d3-dabcbd6d10e5"
      },
      "execution_count": 196,
      "outputs": [
        {
          "output_type": "execute_result",
          "data": {
            "text/plain": [
              "1700"
            ]
          },
          "metadata": {},
          "execution_count": 196
        }
      ]
    },
    {
      "cell_type": "markdown",
      "source": [
        "# Vamos plotar $d_L$ x $z$. Porém, os dados fornecidos são do módulo da distância de luminosidade $\\mu$. Logo, precisamos fazer a conversão para a distância de luminosidade."
      ],
      "metadata": {
        "id": "uZkMxv6vP9PR"
      }
    },
    {
      "cell_type": "code",
      "source": [
        "# convertendo para a distância de luminosidade\n",
        "Dl= np.power(10, ((mu-25)/5))\n",
        "\n",
        "# erro da distância de luminosidade\n",
        "Dlerr = np.sqrt(((2**((mu/5)-5)*(5**((mu/5)-6))*np.log(10))**2)*((muerr)**2))"
      ],
      "metadata": {
        "id": "gmkfomOGabD1"
      },
      "execution_count": 197,
      "outputs": []
    },
    {
      "cell_type": "code",
      "source": [
        "# distância de luminosidade x z do modelo LCDM\n",
        "\n",
        "# símbolos:\n",
        "z = sm.symbols('z', real=True)\n",
        "O_m0 = 0.3\n",
        "#O_m0 = sm.symbols('O_m0', real=True)  #se não quisermos definir um valor para O_m0, escrevemos isso\n",
        "\n",
        "# integrando\n",
        "f = 1/sm.sqrt(O_m0*(1+z)**3 + 1-O_m0) #no denominador é o H(z)\n",
        "\n",
        "# primitiva:\n",
        "sm.integrate(f, z)\n",
        "\n",
        "# algumas definições:\n",
        "gamma = math.gamma\n",
        "polar = sm.polar_lift # necessário se não tivéssemos previamente definido um valor para O_m0\n",
        "hyper = sp.special.hyp2f1\n",
        "\n",
        "# intervalo:\n",
        "z = np.linspace(0, 2.27, 1000)\n",
        "\n",
        "# solução I\n",
        "If = (0.398409536444798*(z+1)*gamma(1/3)*hyper(1/3, 1/2, 4/3, -0.428571428571429*(z+1)**3))/gamma(4/3)\n",
        "I0 = (0.398409536444798 * 1 * gamma(1/3)*hyper(1/3, 1/2, 4/3, -0.428571428571429  *  1**3))/gamma(4/3)\n",
        "\n",
        "I = If - I0\n",
        "\n",
        "# distância de luminosidade:\n",
        "dL = (c/h0)*(1+z)*I\n",
        "# dL = (1+z)*I\n",
        "\n",
        "# plote:\n",
        "\n",
        "plt.figure(figsize=(8, 6))\n",
        "plt.plot(z, dL, label='$\\Omega_{m0}=0.3$')\n",
        "plt.legend(loc='best')\n",
        "plt.xlabel('z')\n",
        "plt.ylabel('$d_L(z)$ (Mpc)')\n",
        "plt.show()"
      ],
      "metadata": {
        "colab": {
          "base_uri": "https://localhost:8080/",
          "height": 386
        },
        "id": "pXxZc42dUAML",
        "outputId": "98df7449-568d-4525-8bc6-808417dc20df"
      },
      "execution_count": 198,
      "outputs": [
        {
          "output_type": "display_data",
          "data": {
            "text/plain": [
              "<Figure size 576x432 with 1 Axes>"
            ],
            "image/png": "[encoded data removed]"
          },
          "metadata": {
            "needs_background": "light"
          }
        }
      ]
    },
    {
      "cell_type": "code",
      "source": [
        "zCMB.max() # valor máximo do redshift "
      ],
      "metadata": {
        "colab": {
          "base_uri": "https://localhost:8080/"
        },
        "id": "xLE0oyx_h5N5",
        "outputId": "3b307670-48d7-4c99-853b-a7d2ee81d8d0"
      },
      "execution_count": 199,
      "outputs": [
        {
          "output_type": "execute_result",
          "data": {
            "text/plain": [
              "2.2613"
            ]
          },
          "metadata": {},
          "execution_count": 199
        }
      ]
    },
    {
      "cell_type": "code",
      "source": [
        "# distância de luminosidade (dados SNIa) x z\n",
        "plt.figure(figsize=(8, 6))\n",
        "plt.scatter(zCMB, Dl, s=2, color=\"red\")\n",
        "plt.xlabel(\"z\")\n",
        "plt.ylabel(\"$d_L$ (Mpc)\")\n",
        "plt.show()"
      ],
      "metadata": {
        "colab": {
          "base_uri": "https://localhost:8080/",
          "height": 386
        },
        "id": "ABXECQDPSETg",
        "outputId": "4d732326-f968-4e5a-9962-896d82dc2456"
      },
      "execution_count": 200,
      "outputs": [
        {
          "output_type": "display_data",
          "data": {
            "text/plain": [
              "<Figure size 576x432 with 1 Axes>"
            ],
            "image/png": "[encoded data removed]"
          },
          "metadata": {
            "needs_background": "light"
          }
        }
      ]
    },
    {
      "cell_type": "code",
      "source": [
        "# plotando distância de luminosidade x z dos dados e do modelo LCDM juntos\n",
        "\n",
        "plt.figure(figsize=(8, 6))\n",
        "plt.plot(z, dL, label='$\\Lambda$CDM')\n",
        "plt.scatter(zCMB, Dl, s=2, color=\"red\", label='SNIa')\n",
        "plt.xlabel(\"z\")\n",
        "plt.ylabel(\"$d_L$ (Mpc)\")\n",
        "plt.legend(loc='best')\n",
        "plt.show()"
      ],
      "metadata": {
        "colab": {
          "base_uri": "https://localhost:8080/",
          "height": 386
        },
        "id": "DyMOldsKUmpu",
        "outputId": "771dfc65-d514-425f-dfe8-3f309ae1c4df"
      },
      "execution_count": 201,
      "outputs": [
        {
          "output_type": "display_data",
          "data": {
            "text/plain": [
              "<Figure size 576x432 with 1 Axes>"
            ],
            "image/png": "[encoded data removed]"
          },
          "metadata": {
            "needs_background": "light"
          }
        }
      ]
    },
    {
      "cell_type": "markdown",
      "source": [
        "# Agora, vamos fazer um plot das SNIa, considerando que os dados fornecidos são do módulo da distância de luminosidade $\\mu(z)$ e não de $d_L(z)$."
      ],
      "metadata": {
        "id": "_2VWbMPhu7d2"
      }
    },
    {
      "cell_type": "code",
      "source": [
        "plt.figure(figsize=(8, 6))\n",
        "plt.scatter(zCMB, mu, s=5, color=\"purple\")\n",
        "plt.xlabel(\"Redshift (z)\")\n",
        "plt.ylabel(\"$\\mu$\")\n",
        "plt.show()\n",
        "#df.info() #verificar se há algum valor nulo ou algum outro problema com os dados..."
      ],
      "metadata": {
        "colab": {
          "base_uri": "https://localhost:8080/",
          "height": 387
        },
        "id": "urLJvX2ViJOa",
        "outputId": "b04bb8c9-f25a-4175-ee68-4aa7933e7a0f"
      },
      "execution_count": 202,
      "outputs": [
        {
          "output_type": "display_data",
          "data": {
            "text/plain": [
              "<Figure size 576x432 with 1 Axes>"
            ],
            "image/png": "[encoded data removed]"
          },
          "metadata": {
            "needs_background": "light"
          }
        }
      ]
    },
    {
      "cell_type": "code",
      "source": [
        "print(df[\"zCMB\"].unique()) #visualizando coluna z\n",
        "print(df[\"MU_SH0ES\"].unique()) #visualizando coluna mu"
      ],
      "metadata": {
        "colab": {
          "base_uri": "https://localhost:8080/"
        },
        "id": "v0f-Mp3HiXgt",
        "outputId": "baa37baa-116c-4f9b-b3e6-350a71e1e8fc"
      },
      "execution_count": 203,
      "outputs": [
        {
          "output_type": "stream",
          "name": "stdout",
          "text": [
            "[1.22000e-03 2.56000e-03 2.99000e-03 ... 1.80111e+00 1.91160e+00\n",
            " 2.26130e+00]\n",
            "[29.0559 30.7233 30.7449 ... 45.4865 45.4233 46.1828]\n"
          ]
        }
      ]
    },
    {
      "cell_type": "code",
      "source": [
        "# outra forma de visualizar as colunas de z e mu\n",
        "print(mu)\n",
        "print(zCMB)"
      ],
      "metadata": {
        "colab": {
          "base_uri": "https://localhost:8080/"
        },
        "id": "zOZMDPUjitqc",
        "outputId": "ef04559d-65a5-4365-fd00-a873dd1a2ed5"
      },
      "execution_count": 204,
      "outputs": [
        {
          "output_type": "stream",
          "name": "stdout",
          "text": [
            "0       29.0559\n",
            "1       30.7233\n",
            "2       30.7449\n",
            "3       30.7757\n",
            "4       30.7946\n",
            "         ...   \n",
            "1695    45.1595\n",
            "1696    45.2863\n",
            "1697    45.4865\n",
            "1698    45.4233\n",
            "1699    46.1828\n",
            "Name: MU_SH0ES, Length: 1700, dtype: float64\n",
            "0       0.00122\n",
            "1       0.00256\n",
            "2       0.00256\n",
            "3       0.00299\n",
            "4       0.00350\n",
            "         ...   \n",
            "1695    1.61499\n",
            "1696    1.69702\n",
            "1697    1.80111\n",
            "1698    1.91160\n",
            "1699    2.26130\n",
            "Name: zCMB, Length: 1700, dtype: float64\n"
          ]
        }
      ]
    },
    {
      "cell_type": "markdown",
      "source": [
        "# Precisamos então encontrar o best-fit da curva encontrada para $\\mu(z)$ x $z$. Para isso, utilizaremos a biblioteca pyccl do Python. Porém, esta biblioteca não está no Colab, é necessário instalar através do comando abaixo."
      ],
      "metadata": {
        "id": "LaaQYysCQnJB"
      }
    },
    {
      "cell_type": "code",
      "source": [
        "!pip install -q condacolab\n",
        "import condacolab\n",
        "condacolab.install()\n",
        "!mamba install pyccl"
      ],
      "metadata": {
        "id": "JC7UgeKTTOb3",
        "colab": {
          "base_uri": "https://localhost:8080/"
        },
        "outputId": "965f6ffa-bf83-428b-90be-6e0ddc0724a7"
      },
      "execution_count": 205,
      "outputs": [
        {
          "output_type": "stream",
          "name": "stdout",
          "text": [
            "\u001b[33mWARNING: Running pip as the 'root' user can result in broken permissions and conflicting behaviour with the system package manager. It is recommended to use a virtual environment instead: https://pip.pypa.io/warnings/venv\u001b[0m\u001b[33m\n",
            "\u001b[0m✨🍰✨ Everything looks OK!\n",
            "\n",
            "                  __    __    __    __\n",
            "                 /  \\  /  \\  /  \\  /  \\\n",
            "                /    \\/    \\/    \\/    \\\n",
            "███████████████/  /██/  /██/  /██/  /████████████████████████\n",
            "              /  / \\   / \\   / \\   / \\  \\____\n",
            "             /  /   \\_/   \\_/   \\_/   \\    o \\__,\n",
            "            / _/                       \\_____/  `\n",
            "            |/\n",
            "        ███╗   ███╗ █████╗ ███╗   ███╗██████╗  █████╗\n",
            "        ████╗ ████║██╔══██╗████╗ ████║██╔══██╗██╔══██╗\n",
            "        ██╔████╔██║███████║██╔████╔██║██████╔╝███████║\n",
            "        ██║╚██╔╝██║██╔══██║██║╚██╔╝██║██╔══██╗██╔══██║\n",
            "        ██║ ╚═╝ ██║██║  ██║██║ ╚═╝ ██║██████╔╝██║  ██║\n",
            "        ╚═╝     ╚═╝╚═╝  ╚═╝╚═╝     ╚═╝╚═════╝ ╚═╝  ╚═╝\n",
            "\n",
            "        mamba (1.1.0) supported by @QuantStack\n",
            "\n",
            "        GitHub:  https://github.com/mamba-org/mamba\n",
            "        Twitter: https://twitter.com/QuantStack\n",
            "\n",
            "█████████████████████████████████████████████████████████████\n",
            "\n",
            "\n",
            "Looking for: ['pyccl']\n",
            "\n",
            "\u001b[?25l\u001b[2K\u001b[0G[+] 0.0s\n",
            "\u001b[2K\u001b[1A\u001b[2K\u001b[0G[+] 0.1s\n",
            "conda-forge/linux-64  ⣾  \n",
            "conda-forge/noarch    ⣾  \u001b[2K\u001b[1A\u001b[2K\u001b[1A\u001b[2K\u001b[0G[+] 0.2s\n",
            "conda-forge/linux-64  ⣾  \n",
            "conda-forge/noarch    ⣾  \u001b[2K\u001b[1A\u001b[2K\u001b[1A\u001b[2K\u001b[0Gconda-forge/linux-64                                          No change\n",
            "[+] 0.3s\n",
            "conda-forge/noarch  ⣾  \u001b[2K\u001b[1A\u001b[2K\u001b[0G[+] 0.4s\n",
            "conda-forge/noarch  ⣾  \u001b[2K\u001b[1A\u001b[2K\u001b[0G[+] 0.5s\n",
            "conda-forge/noarch  ⣾  \u001b[2K\u001b[1A\u001b[2K\u001b[0G[+] 0.6s\n",
            "conda-forge/noarch  ⣾  \u001b[2K\u001b[1A\u001b[2K\u001b[0G[+] 0.7s\n",
            "conda-forge/noarch  ⣾  \u001b[2K\u001b[1A\u001b[2K\u001b[0G[+] 0.8s\n",
            "conda-forge/noarch  ⣾  \u001b[2K\u001b[1A\u001b[2K\u001b[0G[+] 0.9s\n",
            "conda-forge/noarch  ⣾  \u001b[2K\u001b[1A\u001b[2K\u001b[0G[+] 1.0s\n",
            "conda-forge/noarch  ⣾  \u001b[2K\u001b[1A\u001b[2K\u001b[0G[+] 1.1s\n",
            "conda-forge/noarch  ⣾  \u001b[2K\u001b[1A\u001b[2K\u001b[0G[+] 1.2s\n",
            "conda-forge/noarch  ⣾  \u001b[2K\u001b[1A\u001b[2K\u001b[0G[+] 1.3s\n",
            "conda-forge/noarch  ⣾  \u001b[2K\u001b[1A\u001b[2K\u001b[0G[+] 1.4s\n",
            "conda-forge/noarch  ⣾  \u001b[2K\u001b[1A\u001b[2K\u001b[0G[+] 1.5s\n",
            "conda-forge/noarch  ⣾  \u001b[2K\u001b[1A\u001b[2K\u001b[0G[+] 1.6s\n",
            "conda-forge/noarch  ⣾  \u001b[2K\u001b[1A\u001b[2K\u001b[0G[+] 1.7s\n",
            "conda-forge/noarch  ⣾  \u001b[2K\u001b[1A\u001b[2K\u001b[0G[+] 1.8s\n",
            "conda-forge/noarch  ⣾  \u001b[2K\u001b[1A\u001b[2K\u001b[0G[+] 1.9s\n",
            "conda-forge/noarch  ⣾  \u001b[2K\u001b[1A\u001b[2K\u001b[0G[+] 2.0s\n",
            "conda-forge/noarch  ⣾  \u001b[2K\u001b[1A\u001b[2K\u001b[0G[+] 2.1s\n",
            "conda-forge/noarch  ⣾  \u001b[2K\u001b[1A\u001b[2K\u001b[0G[+] 2.2s\n",
            "conda-forge/noarch  ⣾  \u001b[2K\u001b[1A\u001b[2K\u001b[0G[+] 2.3s\n",
            "conda-forge/noarch  ⣾  \u001b[2K\u001b[1A\u001b[2K\u001b[0G[+] 2.4s\n",
            "conda-forge/noarch  ⣾  \u001b[2K\u001b[1A\u001b[2K\u001b[0G[+] 2.5s\n",
            "conda-forge/noarch  ⣾  \u001b[2K\u001b[1A\u001b[2K\u001b[0G[+] 2.6s\n",
            "conda-forge/noarch  ⣾  \u001b[2K\u001b[1A\u001b[2K\u001b[0G[+] 2.7s\n",
            "conda-forge/noarch  ⣾  \u001b[2K\u001b[1A\u001b[2K\u001b[0G[+] 2.8s\n",
            "conda-forge/noarch  ⣾  \u001b[2K\u001b[1A\u001b[2K\u001b[0G[+] 2.9s\n",
            "conda-forge/noarch  ⣾  \u001b[2K\u001b[1A\u001b[2K\u001b[0G[+] 3.0s\n",
            "conda-forge/noarch  ⣾  \u001b[2K\u001b[1A\u001b[2K\u001b[0G[+] 3.1s\n",
            "conda-forge/noarch  ⣾  \u001b[2K\u001b[1A\u001b[2K\u001b[0G[+] 3.2s\n",
            "conda-forge/noarch 100%\u001b[2K\u001b[1A\u001b[2K\u001b[0G[+] 3.3s\n",
            "\u001b[2K\u001b[1A\u001b[2K\u001b[0Gconda-forge/noarch                                \n",
            "\u001b[?25h\n",
            "Pinned packages:\n",
            "  - python 3.9.*\n",
            "  - python 3.9.*\n",
            "  - python_abi 3.9.* *cp39*\n",
            "  - cudatoolkit 11.8.*\n",
            "\n",
            "\n",
            "Transaction\n",
            "\n",
            "  Prefix: /usr/local\n",
            "\n",
            "  All requested packages already installed\n",
            "\n",
            "\u001b[?25l\u001b[2K\u001b[0G\u001b[?25h"
          ]
        }
      ]
    },
    {
      "cell_type": "code",
      "source": [
        "import pyccl as ccl"
      ],
      "metadata": {
        "id": "Yhg7L3oQTqdR"
      },
      "execution_count": 206,
      "outputs": []
    },
    {
      "cell_type": "code",
      "source": [
        "def mu_fit(z, Omc, h, w0):  #mu_fit é somente o nome da função, é arbitrário\n",
        "    \n",
        "    cosmo = ccl.Cosmology(Omega_c=Omc, Omega_b=0.0494, h=h, sigma8=0.8120, n_s=0.9649, w0=w0) #parâmetros comológicos\n",
        "    \n",
        "    a = 1. / (1. + zCMB) #fator de escala\n",
        "    \n",
        "    return ccl.distance_modulus(cosmo, a)"
      ],
      "metadata": {
        "id": "YxE5njz1Tui7"
      },
      "execution_count": 207,
      "outputs": []
    },
    {
      "cell_type": "code",
      "source": [
        "# best-fit\n",
        "\n",
        "popt, pcov = curve_fit(mu_fit, zCMB, mu, p0=[0.27, 0.67, -1],  #não entendi o que é  popt, pcov, p0 e bounds\n",
        "                      bounds=(-2, [2, 2, 2]), method='trf')\n",
        "\n",
        "\n",
        "print(popt)\n",
        "print(np.sqrt(np.diag(pcov)))\n",
        "\n",
        "plt.figure(figsize=(8, 6))\n",
        "plt.plot(zCMB, mu_fit(zCMB, *popt), color='blue')\n",
        "plt.xlabel(\"Redshift (z)\")\n",
        "plt.ylabel(\"$\\mu$\")\n",
        "#plt.errorbar(z, DA, DA_err, fmt='o')\n",
        "plt.show()"
      ],
      "metadata": {
        "colab": {
          "base_uri": "https://localhost:8080/",
          "height": 422
        },
        "id": "EHHwY9NRT0F_",
        "outputId": "76bd625b-a42a-48e0-cfd9-be6d0954fba4"
      },
      "execution_count": 208,
      "outputs": [
        {
          "output_type": "stream",
          "name": "stdout",
          "text": [
            "[ 0.24468795  0.71836292 -0.7950661 ]\n",
            "[0.0769622  0.00256231 0.13783072]\n"
          ]
        },
        {
          "output_type": "display_data",
          "data": {
            "text/plain": [
              "<Figure size 576x432 with 1 Axes>"
            ],
            "image/png": "[encoded data removed]"
          },
          "metadata": {
            "needs_background": "light"
          }
        }
      ]
    },
    {
      "cell_type": "markdown",
      "source": [
        "# Por fim, vamos plotar os dados com o best-fit. Lembrando que ainda não estamos considerando a covariância."
      ],
      "metadata": {
        "id": "ZUfTK-UoRB05"
      }
    },
    {
      "cell_type": "code",
      "source": [
        "plt.figure(figsize=(8, 6))\n",
        "plt.plot(zCMB, mu_fit(zCMB, *popt), color='blue', label='$\\Lambda$CDM')\n",
        "plt.scatter(zCMB, mu, s=5, color=\"red\", label='SNIa')\n",
        "plt.xlabel(\"Redshift (z)\")\n",
        "plt.ylabel(\"$\\mu$\")\n",
        "plt.legend()\n",
        "plt.show()"
      ],
      "metadata": {
        "colab": {
          "base_uri": "https://localhost:8080/",
          "height": 387
        },
        "id": "C4DF-auJHpVd",
        "outputId": "1f8b8c1f-eb78-4c1d-c5e6-b2c186d51617"
      },
      "execution_count": 209,
      "outputs": [
        {
          "output_type": "display_data",
          "data": {
            "text/plain": [
              "<Figure size 576x432 with 1 Axes>"
            ],
            "image/png": "[encoded data removed]"
          },
          "metadata": {
            "needs_background": "light"
          }
        }
      ]
    },
    {
      "cell_type": "markdown",
      "source": [
        "# Agora, vamos fazer o plot levando em consideração a **covariância**."
      ],
      "metadata": {
        "id": "NLvFUb-6IMSw"
      }
    },
    {
      "cell_type": "code",
      "source": [
        "!apt-get install texlive texlive-xetex texlive-latex-extra pandoc"
      ],
      "metadata": {
        "id": "a6UOsM01I_xK",
        "colab": {
          "base_uri": "https://localhost:8080/"
        },
        "outputId": "6fecf23a-8fdc-4456-95c1-83b400182fb2"
      },
      "execution_count": 210,
      "outputs": [
        {
          "output_type": "stream",
          "name": "stdout",
          "text": [
            "Reading package lists... Done\n",
            "Building dependency tree       \n",
            "Reading state information... Done\n",
            "pandoc is already the newest version (2.5-3build2).\n",
            "texlive is already the newest version (2019.20200218-1).\n",
            "texlive-latex-extra is already the newest version (2019.202000218-1).\n",
            "texlive-xetex is already the newest version (2019.20200218-1).\n",
            "0 upgraded, 0 newly installed, 0 to remove and 23 not upgraded.\n"
          ]
        }
      ]
    },
    {
      "cell_type": "code",
      "source": [
        "!apt-get install cm-super"
      ],
      "metadata": {
        "id": "GacbEi9nJqj4",
        "colab": {
          "base_uri": "https://localhost:8080/"
        },
        "outputId": "d22cfc3f-ac7f-41ac-daf0-58b7455df38d"
      },
      "execution_count": 211,
      "outputs": [
        {
          "output_type": "stream",
          "name": "stdout",
          "text": [
            "Reading package lists... Done\n",
            "Building dependency tree       \n",
            "Reading state information... Done\n",
            "cm-super is already the newest version (0.3.4-15).\n",
            "0 upgraded, 0 newly installed, 0 to remove and 23 not upgraded.\n"
          ]
        }
      ]
    },
    {
      "cell_type": "code",
      "source": [
        "!apt-get install dvipng"
      ],
      "metadata": {
        "id": "uumNMxvlL78T",
        "colab": {
          "base_uri": "https://localhost:8080/"
        },
        "outputId": "2b32def7-489e-4c92-d3e6-1cee2a34d936"
      },
      "execution_count": 212,
      "outputs": [
        {
          "output_type": "stream",
          "name": "stdout",
          "text": [
            "Reading package lists... Done\n",
            "Building dependency tree       \n",
            "Reading state information... Done\n",
            "dvipng is already the newest version (1.15-1.1).\n",
            "0 upgraded, 0 newly installed, 0 to remove and 23 not upgraded.\n"
          ]
        }
      ]
    },
    {
      "cell_type": "code",
      "source": [
        "#Baixando dados da covariância\n",
        "url = \"https://raw.githubusercontent.com/PantheonPlusSH0ES/DataRelease/main/Pantheon%2B_Data/4_DISTANCES_AND_COVAR/Pantheon%2BSH0ES_STAT%2BSYS.cov\"\n",
        "filename = \"Pantheon+SH0ES_STAT+SYS.cov\"\n",
        "\n",
        "urllib.request.urlretrieve(url, filename)"
      ],
      "metadata": {
        "colab": {
          "base_uri": "https://localhost:8080/"
        },
        "id": "znCG3aAlIT0d",
        "outputId": "e2f336e6-061d-4c03-a782-b2f37d3f7c1b"
      },
      "execution_count": 213,
      "outputs": [
        {
          "output_type": "execute_result",
          "data": {
            "text/plain": [
              "('Pantheon+SH0ES_STAT+SYS.cov', <http.client.HTTPMessage at 0x7f45418064c0>)"
            ]
          },
          "metadata": {},
          "execution_count": 213
        }
      ]
    },
    {
      "cell_type": "code",
      "source": [
        "cov = np.genfromtxt('Pantheon+SH0ES_STAT+SYS.cov', skip_header=1)\n",
        "cov = np.reshape(cov, (1701, 1701))\n",
        "\n",
        "print(np.shape(cov))\n",
        "\n",
        "plt.rcParams['text.usetex'] = True\n",
        "\n",
        "z = data['zCMB']\n",
        "\n",
        "mu = data['MU_SH0ES']\n",
        "\n",
        "\n",
        "\n",
        "# definindo a função\n",
        "def mu_teorico(z, h, Om_c):\n",
        "\n",
        "    cosmo = ccl.Cosmology(Omega_c=Om_c, Omega_b=0.049411603, Omega_k=0, h=h, w0=-1, wa=0, sigma8=0.8120, n_s=0.9649)\n",
        "\n",
        "    a = 1. / (1. + z)\n",
        "\n",
        "    return ccl.distance_modulus(cosmo, a) \n",
        "\n",
        "#Ajuste da função de módulo da distância\n",
        "\n",
        "popt, pcov = curve_fit(mu_teorico, z, mu, sigma=cov, p0=[0.7, 0.3], bounds=([0., 0.], [1., 1.]), method='trf')\n",
        "\n",
        "p1 = popt[0] * 100\n",
        "p2 = popt[1] + 0.049411603\n",
        "\n",
        "Erro = np.sqrt(np.diag(pcov))\n",
        "\n",
        "e1 = Erro[0]\n",
        "e2 = Erro[1]\n",
        "\n",
        "\n",
        "\n",
        "# PLOTANDO O GRAFICO COM CURVA DE AJUSTE\n",
        "\n",
        "zi = np.linspace(min(z), max(z), 1000)\n",
        "\n",
        "plt.figure(figsize=(8, 6))\n",
        "plt.tick_params(labelsize=14, color='red')\n",
        "plt.xlabel(r'$z$', fontsize=16)\n",
        "plt.ylabel(r'$\\mu(z)$', fontsize=16)\n",
        "plt.errorbar(z, mu, np.sqrt(np.diag(cov)), fmt='s', color='red', label='SNIa', markersize = 4)\n",
        "plt.plot(zi, mu_teorico(zi, popt[0], popt[1]), color='blue', label=r'$H_0$ = '+str(np.round(p1, 3))+' $\\pm$ '+str(np.round(e1, 3))+' ; '+'$\\Omega$ = '+str(np.round(p2, 3))+' $\\pm$ '+str(np.round(e2, 3)))\n",
        "plt.legend()\n",
        "plt.show()"
      ],
      "metadata": {
        "colab": {
          "base_uri": "https://localhost:8080/",
          "height": 412
        },
        "id": "NcnA5GyWIgLi",
        "outputId": "26d3ba3a-f25b-4a26-d82e-7ec50db13853"
      },
      "execution_count": 214,
      "outputs": [
        {
          "output_type": "stream",
          "name": "stdout",
          "text": [
            "(1701, 1701)\n"
          ]
        },
        {
          "output_type": "display_data",
          "data": {
            "text/plain": [
              "<Figure size 576x432 with 1 Axes>"
            ],
            "image/png": "[encoded data removed]"
          },
          "metadata": {
            "needs_background": "light"
          }
        }
      ]
    }
  ]
}