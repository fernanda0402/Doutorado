{
  "nbformat": 4,
  "nbformat_minor": 0,
  "metadata": {
    "colab": {
      "provenance": [],
      "authorship_tag": "ABX9TyP+qcNalS+5swEI+AhY1P9a",
      "include_colab_link": true
    },
    "kernelspec": {
      "name": "python3",
      "display_name": "Python 3"
    },
    "language_info": {
      "name": "python"
    }
  },
  "cells": [
    {
      "cell_type": "markdown",
      "metadata": {
        "id": "view-in-github",
        "colab_type": "text"
      },
      "source": [
        "<a href=\"https://colab.research.google.com/github/fernanda0402/Doutorado/blob/main/Teste_chi%5E2.ipynb\" target=\"_parent\"><img src=\"https://colab.research.google.com/assets/colab-badge.svg\" alt=\"Open In Colab\"/></a>"
      ]
    },
    {
      "cell_type": "code",
      "execution_count": 47,
      "metadata": {
        "id": "2visEFO_FKQg"
      },
      "outputs": [],
      "source": [
        "import numpy as np\n",
        "import matplotlib.pyplot as plt\n",
        "from scipy.integrate import solve_ivp\n",
        "from scipy.optimize import curve_fit\n",
        "from scipy.stats import linregress\n",
        "from scipy.interpolate import interp1d"
      ]
    },
    {
      "cell_type": "code",
      "source": [
        "x = np.array([2, 6, 7])\n",
        "y = np.array([3.5, 5.2, 8])\n",
        "e = np.array([0.4, 0.8, 1.2])\n",
        "\n",
        "def f(x, a, b):\n",
        "  return b*x + a"
      ],
      "metadata": {
        "id": "aLBn3aV5FVGM"
      },
      "execution_count": 15,
      "outputs": []
    },
    {
      "cell_type": "code",
      "source": [
        "# ajuste da função\n",
        "\n",
        "popt, pcov = curve_fit(f, x, y, sigma=e, p0=[0., 0.], bounds=([0., 0.], [10., 10.]), method='trf')\n",
        "\n",
        "p1 = popt[0]\n",
        "p2 = popt[1]\n",
        "\n",
        "print(popt[0])\n",
        "print(popt[1])"
      ],
      "metadata": {
        "colab": {
          "base_uri": "https://localhost:8080/"
        },
        "id": "AmHnmF6gK0Lr",
        "outputId": "892f1b59-a276-4f47-edfe-d78a588bafbc"
      },
      "execution_count": 17,
      "outputs": [
        {
          "output_type": "stream",
          "name": "stdout",
          "text": [
            "1.3694172146228669e-10\n",
            "2.3651120545729143e-10\n"
          ]
        }
      ]
    },
    {
      "cell_type": "code",
      "source": [
        "plt.scatter(x, y, s=5, color=\"red\")\n",
        "plt.plot(x, f(x, *popt), color='blue')\n",
        "plt.xlabel(\"x\")\n",
        "plt.ylabel(\"y\")\n",
        "plt.show()"
      ],
      "metadata": {
        "colab": {
          "base_uri": "https://localhost:8080/",
          "height": 449
        },
        "id": "eNG_gA9IM4Cb",
        "outputId": "864178dd-fe4a-44c7-ae97-5889a31ce87a"
      },
      "execution_count": 22,
      "outputs": [
        {
          "output_type": "display_data",
          "data": {
            "text/plain": [
              "<Figure size 640x480 with 1 Axes>"
            ],
            "image/png": "[encoded data removed]"
          },
          "metadata": {}
        }
      ]
    },
    {
      "cell_type": "markdown",
      "source": [
        "Outro teste:"
      ],
      "metadata": {
        "id": "sqz8yDK9PjHk"
      }
    },
    {
      "cell_type": "code",
      "source": [
        "x = np.array([0,1,2,3,4,5,6,7,8,9])\n",
        "y = np.array([-3,2,7,12,17,22,27,32,37,42])\n",
        "e = np.array([0.4, 0.8, 1.2, 1.2, 1.5,2.3,2.8,3,3.7,4.1])\n",
        "\n",
        "def g(x, a, b):\n",
        "  return b*x + a"
      ],
      "metadata": {
        "id": "sazBlzjgPlWS"
      },
      "execution_count": 24,
      "outputs": []
    },
    {
      "cell_type": "code",
      "source": [
        "# ajuste da função\n",
        "\n",
        "popt, pcov = curve_fit(g, x, y, sigma=e, p0=[0., 0.], bounds=([0., 0.], [10., 10.]), method='trf')\n",
        "\n",
        "p1 = popt[0]\n",
        "p2 = popt[1]\n",
        "\n",
        "print(popt[0])\n",
        "print(popt[1])\n",
        "\n",
        "plt.scatter(x, y, s=5, color=\"red\")\n",
        "plt.plot(x, g(x, *popt), color='blue')\n",
        "plt.xlabel(\"x\")\n",
        "plt.ylabel(\"y\")\n",
        "plt.show()"
      ],
      "metadata": {
        "colab": {
          "base_uri": "https://localhost:8080/",
          "height": 484
        },
        "id": "-19NzJf5QJIH",
        "outputId": "a7680e17-feec-4d61-ef81-5698b24422bf"
      },
      "execution_count": 26,
      "outputs": [
        {
          "output_type": "stream",
          "name": "stdout",
          "text": [
            "1.1689742505879482e-10\n",
            "2.404082512759931e-10\n"
          ]
        },
        {
          "output_type": "display_data",
          "data": {
            "text/plain": [
              "<Figure size 640x480 with 1 Axes>"
            ],
            "image/png": "[encoded data removed]"
          },
          "metadata": {}
        }
      ]
    },
    {
      "cell_type": "markdown",
      "source": [
        "Outro teste:"
      ],
      "metadata": {
        "id": "erduSBaVQQeg"
      }
    },
    {
      "cell_type": "code",
      "source": [
        "def func(x, a, b):\n",
        "  return a + b*x\n",
        "\n",
        "xdata = np.linspace(0, 10, 10)\n",
        "y = func(xdata, 2.5, 1.3)\n",
        "rng = np.random.default_rng()\n",
        "y_noise = 0.2 * rng.normal(size=xdata.size)\n",
        "ydata = y + y_noise\n",
        "\n",
        "plt.plot(xdata, ydata)\n",
        "plt.show()"
      ],
      "metadata": {
        "colab": {
          "base_uri": "https://localhost:8080/",
          "height": 430
        },
        "id": "1Pud10UBQSD0",
        "outputId": "f736cdcb-0210-478c-d4ee-3d7fc00e942d"
      },
      "execution_count": 45,
      "outputs": [
        {
          "output_type": "display_data",
          "data": {
            "text/plain": [
              "<Figure size 640x480 with 1 Axes>"
            ],
            "image/png": "[encoded data removed]"
          },
          "metadata": {}
        }
      ]
    },
    {
      "cell_type": "code",
      "source": [
        "popt, pcov = curve_fit(func, xdata, ydata)\n",
        "\n",
        "p1 = popt[0]\n",
        "p2 = popt[1]\n",
        "\n",
        "print(popt[0])\n",
        "print(popt[1])\n",
        "\n",
        "plt.scatter(xdata, ydata, s=6, color=\"red\")\n",
        "plt.plot(xdata, func(xdata, *popt), color='blue', label=r'f = '+str(np.round(p1, 3))+ '$x$ + ' +str(np.round(p2, 3))  )\n",
        "plt.legend()\n",
        "plt.xlabel(\"x\")\n",
        "plt.ylabel(\"y\")\n",
        "plt.show()"
      ],
      "metadata": {
        "colab": {
          "base_uri": "https://localhost:8080/",
          "height": 484
        },
        "id": "9Y1xTpLbQvi0",
        "outputId": "e7085413-8c02-4fbd-e0c4-348f2e854fd8"
      },
      "execution_count": 46,
      "outputs": [
        {
          "output_type": "stream",
          "name": "stdout",
          "text": [
            "2.696735469029618\n",
            "1.2609654888764592\n"
          ]
        },
        {
          "output_type": "display_data",
          "data": {
            "text/plain": [
              "<Figure size 640x480 with 1 Axes>"
            ],
            "image/png": "[encoded data removed]"
          },
          "metadata": {}
        }
      ]
    },
    {
      "cell_type": "code",
      "source": [
        "print(np.asarray(xdata).shape)\n",
        "print(np.asarray(func).shape)"
      ],
      "metadata": {
        "colab": {
          "base_uri": "https://localhost:8080/"
        },
        "id": "PVmghKtAVKgM",
        "outputId": "11131c3f-8250-4018-d133-6d421195245a"
      },
      "execution_count": 54,
      "outputs": [
        {
          "output_type": "stream",
          "name": "stdout",
          "text": [
            "(10,)\n",
            "()\n"
          ]
        }
      ]
    },
    {
      "cell_type": "code",
      "source": [
        "# interpolação da solução\n",
        "func_interp = interp1d(xdata, ydata)\n",
        "\n",
        "# valores de x desejados\n",
        "xdata = np.linspace(0, 10, 10)\n",
        "\n",
        "# valores de y correspondentes\n",
        "func = func_interp(1/(1+xdata))\n",
        "\n",
        "# impressão dos valores de y\n",
        "for i in range(len(func)):\n",
        "    print(f\"x = {i}: y = {func[i]:.3f}\")"
      ],
      "metadata": {
        "colab": {
          "base_uri": "https://localhost:8080/"
        },
        "id": "GdbtqrM8UDzI",
        "outputId": "0edea0b2-ed8a-4001-d7e9-a089f46df028"
      },
      "execution_count": 72,
      "outputs": [
        {
          "output_type": "stream",
          "name": "stdout",
          "text": [
            "x = 0: y = 3.478\n",
            "x = 1: y = 3.505\n",
            "x = 2: y = 3.513\n",
            "x = 3: y = 3.517\n",
            "x = 4: y = 3.519\n",
            "x = 5: y = 3.521\n",
            "x = 6: y = 3.522\n",
            "x = 7: y = 3.523\n",
            "x = 8: y = 3.523\n",
            "x = 9: y = 3.524\n"
          ]
        }
      ]
    },
    {
      "cell_type": "code",
      "source": [
        "# pegar valores específicos da função (que é o y) de acordo com os valores específicos de x\n",
        "\n",
        "# valores de y correspondentes\n",
        "y = np.zeros_like(x)\n",
        "for i in range(len(x)):\n",
        "    y[i] = func_interp(1/(1+xdata[i]))\n",
        "\n",
        "# impressão dos valores de y\n",
        "for i in range(len(y)):\n",
        "    print(f\"x = {xdata[i]:.1f}: y = {y[i]:.3f}\")"
      ],
      "metadata": {
        "colab": {
          "base_uri": "https://localhost:8080/"
        },
        "id": "-1zjEr7kV7eZ",
        "outputId": "50fcd162-649a-412f-8ea5-b5362f7bb109"
      },
      "execution_count": 74,
      "outputs": [
        {
          "output_type": "stream",
          "name": "stdout",
          "text": [
            "x = 0.0: y = 3.000\n",
            "x = 1.1: y = 3.000\n",
            "x = 2.2: y = 3.000\n",
            "x = 3.3: y = 3.000\n",
            "x = 4.4: y = 3.000\n",
            "x = 5.6: y = 3.000\n",
            "x = 6.7: y = 3.000\n",
            "x = 7.8: y = 3.000\n",
            "x = 8.9: y = 3.000\n",
            "x = 10.0: y = 3.000\n"
          ]
        }
      ]
    }
  ]
}