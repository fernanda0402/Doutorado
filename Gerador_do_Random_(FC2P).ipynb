{
  "nbformat": 4,
  "nbformat_minor": 0,
  "metadata": {
    "colab": {
      "provenance": [],
      "authorship_tag": "ABX9TyNeyeTgjrh3LPsqf6bXwQ7Q",
      "include_colab_link": true
    },
    "kernelspec": {
      "name": "python3",
      "display_name": "Python 3"
    },
    "language_info": {
      "name": "python"
    }
  },
  "cells": [
    {
      "cell_type": "markdown",
      "metadata": {
        "id": "view-in-github",
        "colab_type": "text"
      },
      "source": [
        "<a href=\"https://colab.research.google.com/github/fernanda0402/Doutorado/blob/main/Gerador_do_Random_(FC2P).ipynb\" target=\"_parent\"><img src=\"https://colab.research.google.com/assets/colab-badge.svg\" alt=\"Open In Colab\"/></a>"
      ]
    },
    {
      "cell_type": "markdown",
      "source": [
        "Gerando o random para a função de correlação de dois pontos"
      ],
      "metadata": {
        "id": "60rHtdIiMlm3"
      }
    },
    {
      "cell_type": "code",
      "execution_count": 10,
      "metadata": {
        "id": "mUNEn02LMdIQ"
      },
      "outputs": [],
      "source": [
        "import numpy as np"
      ]
    },
    {
      "cell_type": "code",
      "source": [
        "n = 10\n",
        "contador = 1\n",
        "\n",
        "while contador <= n:\n",
        "  RA = np.random.uniform(155, 200, 3428) #intervalo de dados e quantidade de dados (tem que ser a mesma quantidade do catálogo)\n",
        "  DECa = np.random.uniform(np.sin(np.deg2rad(0)), np.sin(np.deg2rad(18)), 3428) #intervalo de dados e quantidade de dados (tem que ser a mesma quantidade do catálogo)\n",
        "  DEC = np.rad2deg(np.arcsin(DECa))\n",
        "\n",
        "  RA = RA[:, np.newaxis]\n",
        "  DEC = DEC[:, np.newaxis]\n",
        "  \n",
        "  random = np.hstack([RA, DEC])\n",
        "  dados_random_angular = np.savetxt(r'random' + str(contador) + '.txt', random, delimiter=' ')\n",
        "\n",
        "  contador = contador + 1"
      ],
      "metadata": {
        "id": "dEy_jPqxOyIn"
      },
      "execution_count": 12,
      "outputs": []
    }
  ]
}