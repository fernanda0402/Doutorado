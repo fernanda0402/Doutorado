{
  "nbformat": 4,
  "nbformat_minor": 0,
  "metadata": {
    "colab": {
      "provenance": [],
      "include_colab_link": true
    },
    "kernelspec": {
      "name": "python3",
      "display_name": "Python 3"
    },
    "language_info": {
      "name": "python"
    }
  },
  "cells": [
    {
      "cell_type": "markdown",
      "metadata": {
        "id": "view-in-github",
        "colab_type": "text"
      },
      "source": [
        "<a href=\"https://colab.research.google.com/github/fernanda0402/Doutorado/blob/main/Gr%C3%A1fico_Da_x_z.ipynb\" target=\"_parent\"><img src=\"https://colab.research.google.com/assets/colab-badge.svg\" alt=\"Open In Colab\"/></a>"
      ]
    },
    {
      "cell_type": "markdown",
      "source": [
        "Tentando fazer um ajuste com alguns dados de z e $d_A$ de https://arxiv.org/pdf/2002.09293.pdf"
      ],
      "metadata": {
        "id": "J4DoFX7AjuFZ"
      }
    },
    {
      "cell_type": "code",
      "source": [
        "import matplotlib.pyplot as plt\n",
        "import numpy as np\n",
        "from scipy.optimize import curve_fit\n",
        "import sympy as sm\n",
        "import scipy as sp\n",
        "import math\n",
        "import pandas as pd"
      ],
      "metadata": {
        "id": "YXeBzm_AncZI"
      },
      "execution_count": 1,
      "outputs": []
    },
    {
      "cell_type": "code",
      "source": [
        "# criando uma tabela com os dados\n",
        "table = pd.DataFrame()"
      ],
      "metadata": {
        "id": "NInlsHd8RNbA"
      },
      "execution_count": 2,
      "outputs": []
    },
    {
      "cell_type": "code",
      "source": [
        "# pares ordenados do gráfico em que x1 = z, y1 = dA, y2 = theta_BAO e y2err = erro de theta_BAO \n",
        "x1 = np.array([0.11, 0.235, 0.365, 0.45, 0.47, 0.49, 0.51, 0.53, 0.55, 0.57, 0.59, 0.61, 0.63, 0.65, 2.225])\n",
        "table['z'] = x1\n",
        "y1 = np.array([6.715, 13.191, 17.081, 21.339, 20.000, 19.850, 20.321, 22.486, 22.405, 20.481, 21.144, 23.811, 23.217, 25.197, 25.856])\n",
        "table['dA'] = y1\n",
        "y2 = np.array([19.8, 9.06, 6.33, 4.77, 5.02, 4.99, 4.81, 4.29, 4.25, 4.59, 4.39, 3.85, 3.90, 3.55, 1.77]) \n",
        "table['thetaBAO'] = y2\n",
        "y2err = np.array([3.26, 0.23, 0.22, 0.17, 0.25, 0.21, 0.17, 0.30, 0.25, 0.36, 0.33, 0.31, 0.43, 0.16, 0.31])\n",
        "table['thetaBAOerr'] = y2err"
      ],
      "metadata": {
        "id": "MeRx61tYjxhA"
      },
      "execution_count": 3,
      "outputs": []
    },
    {
      "cell_type": "code",
      "source": [
        "# criando uma tabela com os dados de x1, y1, y2 e y2err no drive\n",
        "#table.to_csv('/content/drive/MyDrive/Doutorado/dados.csv')\n",
        "#table"
      ],
      "metadata": {
        "id": "8HldpdzaRdtx"
      },
      "execution_count": 4,
      "outputs": []
    },
    {
      "cell_type": "code",
      "source": [
        "# extranindo os dados do drive\n",
        "from google.colab import drive\n",
        "drive.mount('/content/drive')"
      ],
      "metadata": {
        "colab": {
          "base_uri": "https://localhost:8080/"
        },
        "id": "PptZHGvj5yIu",
        "outputId": "5b0c2e7f-4de7-4148-b402-b55b79c1cfb9"
      },
      "execution_count": 5,
      "outputs": [
        {
          "output_type": "stream",
          "name": "stdout",
          "text": [
            "Drive already mounted at /content/drive; to attempt to forcibly remount, call drive.mount(\"/content/drive\", force_remount=True).\n"
          ]
        }
      ]
    },
    {
      "cell_type": "code",
      "source": [
        "# tabela com os dados\n",
        "dados = pd.read_csv('/content/drive/MyDrive/Doutorado/dados.csv', sep=',') #chamando a partir do drive\n",
        "dados"
      ],
      "metadata": {
        "id": "FTcO3dOCSBGl",
        "colab": {
          "base_uri": "https://localhost:8080/",
          "height": 520
        },
        "outputId": "45a59828-7ce2-4603-ea06-95dd58de0ec9"
      },
      "execution_count": 6,
      "outputs": [
        {
          "output_type": "execute_result",
          "data": {
            "text/plain": [
              "    Unnamed: 0      z      dA  thetaBAO  thetaBAOerr\n",
              "0            0  0.110   6.715     19.80         3.26\n",
              "1            1  0.235  13.191      9.06         0.23\n",
              "2            2  0.365  17.081      6.33         0.22\n",
              "3            3  0.450  21.339      4.77         0.17\n",
              "4            4  0.470  20.000      5.02         0.25\n",
              "5            5  0.490  19.850      4.99         0.21\n",
              "6            6  0.510  20.321      4.81         0.17\n",
              "7            7  0.530  22.486      4.29         0.30\n",
              "8            8  0.550  22.405      4.25         0.25\n",
              "9            9  0.570  20.481      4.59         0.36\n",
              "10          10  0.590  21.144      4.39         0.33\n",
              "11          11  0.610  23.811      3.85         0.31\n",
              "12          12  0.630  23.217      3.90         0.43\n",
              "13          13  0.650  25.197      3.55         0.16\n",
              "14          14  2.225  25.856      1.77         0.31"
            ],
            "text/html": [
              "\n",
              "  <div id=\"df-856ee72b-af05-4c75-9de2-1aaa23abc265\">\n",
              "    <div class=\"colab-df-container\">\n",
              "      <div>\n",
              "<style scoped>\n",
              "    .dataframe tbody tr th:only-of-type {\n",
              "        vertical-align: middle;\n",
              "    }\n",
              "\n",
              "    .dataframe tbody tr th {\n",
              "        vertical-align: top;\n",
              "    }\n",
              "\n",
              "    .dataframe thead th {\n",
              "        text-align: right;\n",
              "    }\n",
              "</style>\n",
              "<table border=\"1\" class=\"dataframe\">\n",
              "  <thead>\n",
              "    <tr style=\"text-align: right;\">\n",
              "      <th></th>\n",
              "      <th>Unnamed: 0</th>\n",
              "      <th>z</th>\n",
              "      <th>dA</th>\n",
              "      <th>thetaBAO</th>\n",
              "      <th>thetaBAOerr</th>\n",
              "    </tr>\n",
              "  </thead>\n",
              "  <tbody>\n",
              "    <tr>\n",
              "      <th>0</th>\n",
              "      <td>0</td>\n",
              "      <td>0.110</td>\n",
              "      <td>6.715</td>\n",
              "      <td>19.80</td>\n",
              "      <td>3.26</td>\n",
              "    </tr>\n",
              "    <tr>\n",
              "      <th>1</th>\n",
              "      <td>1</td>\n",
              "      <td>0.235</td>\n",
              "      <td>13.191</td>\n",
              "      <td>9.06</td>\n",
              "      <td>0.23</td>\n",
              "    </tr>\n",
              "    <tr>\n",
              "      <th>2</th>\n",
              "      <td>2</td>\n",
              "      <td>0.365</td>\n",
              "      <td>17.081</td>\n",
              "      <td>6.33</td>\n",
              "      <td>0.22</td>\n",
              "    </tr>\n",
              "    <tr>\n",
              "      <th>3</th>\n",
              "      <td>3</td>\n",
              "      <td>0.450</td>\n",
              "      <td>21.339</td>\n",
              "      <td>4.77</td>\n",
              "      <td>0.17</td>\n",
              "    </tr>\n",
              "    <tr>\n",
              "      <th>4</th>\n",
              "      <td>4</td>\n",
              "      <td>0.470</td>\n",
              "      <td>20.000</td>\n",
              "      <td>5.02</td>\n",
              "      <td>0.25</td>\n",
              "    </tr>\n",
              "    <tr>\n",
              "      <th>5</th>\n",
              "      <td>5</td>\n",
              "      <td>0.490</td>\n",
              "      <td>19.850</td>\n",
              "      <td>4.99</td>\n",
              "      <td>0.21</td>\n",
              "    </tr>\n",
              "    <tr>\n",
              "      <th>6</th>\n",
              "      <td>6</td>\n",
              "      <td>0.510</td>\n",
              "      <td>20.321</td>\n",
              "      <td>4.81</td>\n",
              "      <td>0.17</td>\n",
              "    </tr>\n",
              "    <tr>\n",
              "      <th>7</th>\n",
              "      <td>7</td>\n",
              "      <td>0.530</td>\n",
              "      <td>22.486</td>\n",
              "      <td>4.29</td>\n",
              "      <td>0.30</td>\n",
              "    </tr>\n",
              "    <tr>\n",
              "      <th>8</th>\n",
              "      <td>8</td>\n",
              "      <td>0.550</td>\n",
              "      <td>22.405</td>\n",
              "      <td>4.25</td>\n",
              "      <td>0.25</td>\n",
              "    </tr>\n",
              "    <tr>\n",
              "      <th>9</th>\n",
              "      <td>9</td>\n",
              "      <td>0.570</td>\n",
              "      <td>20.481</td>\n",
              "      <td>4.59</td>\n",
              "      <td>0.36</td>\n",
              "    </tr>\n",
              "    <tr>\n",
              "      <th>10</th>\n",
              "      <td>10</td>\n",
              "      <td>0.590</td>\n",
              "      <td>21.144</td>\n",
              "      <td>4.39</td>\n",
              "      <td>0.33</td>\n",
              "    </tr>\n",
              "    <tr>\n",
              "      <th>11</th>\n",
              "      <td>11</td>\n",
              "      <td>0.610</td>\n",
              "      <td>23.811</td>\n",
              "      <td>3.85</td>\n",
              "      <td>0.31</td>\n",
              "    </tr>\n",
              "    <tr>\n",
              "      <th>12</th>\n",
              "      <td>12</td>\n",
              "      <td>0.630</td>\n",
              "      <td>23.217</td>\n",
              "      <td>3.90</td>\n",
              "      <td>0.43</td>\n",
              "    </tr>\n",
              "    <tr>\n",
              "      <th>13</th>\n",
              "      <td>13</td>\n",
              "      <td>0.650</td>\n",
              "      <td>25.197</td>\n",
              "      <td>3.55</td>\n",
              "      <td>0.16</td>\n",
              "    </tr>\n",
              "    <tr>\n",
              "      <th>14</th>\n",
              "      <td>14</td>\n",
              "      <td>2.225</td>\n",
              "      <td>25.856</td>\n",
              "      <td>1.77</td>\n",
              "      <td>0.31</td>\n",
              "    </tr>\n",
              "  </tbody>\n",
              "</table>\n",
              "</div>\n",
              "      <button class=\"colab-df-convert\" onclick=\"convertToInteractive('df-856ee72b-af05-4c75-9de2-1aaa23abc265')\"\n",
              "              title=\"Convert this dataframe to an interactive table.\"\n",
              "              style=\"display:none;\">\n",
              "        \n",
              "  <svg xmlns=\"http://www.w3.org/2000/svg\" height=\"24px\"viewBox=\"0 0 24 24\"\n",
              "       width=\"24px\">\n",
              "    <path d=\"M0 0h24v24H0V0z\" fill=\"none\"/>\n",
              "    <path d=\"M18.56 5.44l.94 2.06.94-2.06 2.06-.94-2.06-.94-.94-2.06-.94 2.06-2.06.94zm-11 1L8.5 8.5l.94-2.06 2.06-.94-2.06-.94L8.5 2.5l-.94 2.06-2.06.94zm10 10l.94 2.06.94-2.06 2.06-.94-2.06-.94-.94-2.06-.94 2.06-2.06.94z\"/><path d=\"M17.41 7.96l-1.37-1.37c-.4-.4-.92-.59-1.43-.59-.52 0-1.04.2-1.43.59L10.3 9.45l-7.72 7.72c-.78.78-.78 2.05 0 2.83L4 21.41c.39.39.9.59 1.41.59.51 0 1.02-.2 1.41-.59l7.78-7.78 2.81-2.81c.8-.78.8-2.07 0-2.86zM5.41 20L4 18.59l7.72-7.72 1.47 1.35L5.41 20z\"/>\n",
              "  </svg>\n",
              "      </button>\n",
              "      \n",
              "  <style>\n",
              "    .colab-df-container {\n",
              "      display:flex;\n",
              "      flex-wrap:wrap;\n",
              "      gap: 12px;\n",
              "    }\n",
              "\n",
              "    .colab-df-convert {\n",
              "      background-color: #E8F0FE;\n",
              "      border: none;\n",
              "      border-radius: 50%;\n",
              "      cursor: pointer;\n",
              "      display: none;\n",
              "      fill: #1967D2;\n",
              "      height: 32px;\n",
              "      padding: 0 0 0 0;\n",
              "      width: 32px;\n",
              "    }\n",
              "\n",
              "    .colab-df-convert:hover {\n",
              "      background-color: #E2EBFA;\n",
              "      box-shadow: 0px 1px 2px rgba(60, 64, 67, 0.3), 0px 1px 3px 1px rgba(60, 64, 67, 0.15);\n",
              "      fill: #174EA6;\n",
              "    }\n",
              "\n",
              "    [theme=dark] .colab-df-convert {\n",
              "      background-color: #3B4455;\n",
              "      fill: #D2E3FC;\n",
              "    }\n",
              "\n",
              "    [theme=dark] .colab-df-convert:hover {\n",
              "      background-color: #434B5C;\n",
              "      box-shadow: 0px 1px 3px 1px rgba(0, 0, 0, 0.15);\n",
              "      filter: drop-shadow(0px 1px 2px rgba(0, 0, 0, 0.3));\n",
              "      fill: #FFFFFF;\n",
              "    }\n",
              "  </style>\n",
              "\n",
              "      <script>\n",
              "        const buttonEl =\n",
              "          document.querySelector('#df-856ee72b-af05-4c75-9de2-1aaa23abc265 button.colab-df-convert');\n",
              "        buttonEl.style.display =\n",
              "          google.colab.kernel.accessAllowed ? 'block' : 'none';\n",
              "\n",
              "        async function convertToInteractive(key) {\n",
              "          const element = document.querySelector('#df-856ee72b-af05-4c75-9de2-1aaa23abc265');\n",
              "          const dataTable =\n",
              "            await google.colab.kernel.invokeFunction('convertToInteractive',\n",
              "                                                     [key], {});\n",
              "          if (!dataTable) return;\n",
              "\n",
              "          const docLinkHtml = 'Like what you see? Visit the ' +\n",
              "            '<a target=\"_blank\" href=https://colab.research.google.com/notebooks/data_table.ipynb>data table notebook</a>'\n",
              "            + ' to learn more about interactive tables.';\n",
              "          element.innerHTML = '';\n",
              "          dataTable['output_type'] = 'display_data';\n",
              "          await google.colab.output.renderOutput(dataTable, element);\n",
              "          const docLink = document.createElement('div');\n",
              "          docLink.innerHTML = docLinkHtml;\n",
              "          element.appendChild(docLink);\n",
              "        }\n",
              "      </script>\n",
              "    </div>\n",
              "  </div>\n",
              "  "
            ]
          },
          "metadata": {},
          "execution_count": 6
        }
      ]
    },
    {
      "cell_type": "code",
      "source": [
        "# nomeando os dados/colunas\n",
        "z = dados['z']\n",
        "dA = dados['dA']\n",
        "thetaBAO = dados['thetaBAO']\n",
        "thetaBAOerr = dados['thetaBAOerr']"
      ],
      "metadata": {
        "id": "TG8bg_TSSTwo"
      },
      "execution_count": 7,
      "outputs": []
    },
    {
      "cell_type": "code",
      "source": [
        "#cálculo da linha de ajuste\n",
        "slope, intercept = np.polyfit (x1, y1, 1) #1 indica a escala do gráfico"
      ],
      "metadata": {
        "id": "FLRJhuYenuEZ"
      },
      "execution_count": 8,
      "outputs": []
    },
    {
      "cell_type": "markdown",
      "source": [
        "Gráfico de $d_A(z)$ x $z$. Ccalculei a mão os dados de $d_A$ usando a seguinte fórmula:\n",
        "\n",
        "$d_A = \\frac{r_{drag}}{(1+z)\\theta_{BAO}}$, em que assumi $r_{drag}$ = 147,59"
      ],
      "metadata": {
        "id": "Xd4UQXtq9y5-"
      }
    },
    {
      "cell_type": "code",
      "source": [
        "# AJUSTE ERRADO\n",
        "plt.plot(z, dA, 'o')\n",
        "plt.plot(z, slope*x1 + intercept) #linha de ajuste é f(x) = slope*x + intercept. \n",
        "plt.xlabel('z') #rotula o eixo x\n",
        "plt.ylabel('$d_A$') #rotula o eixo y\n",
        "plt.show()"
      ],
      "metadata": {
        "id": "pir8M8sbnwOO",
        "colab": {
          "base_uri": "https://localhost:8080/",
          "height": 279
        },
        "outputId": "c4a1d887-9586-40fc-b593-e90d8fe08a4e"
      },
      "execution_count": 9,
      "outputs": [
        {
          "output_type": "display_data",
          "data": {
            "text/plain": [
              "<Figure size 432x288 with 1 Axes>"
            ],
            "image/png": "[encoded data removed]"
          },
          "metadata": {
            "needs_background": "light"
          }
        }
      ]
    },
    {
      "cell_type": "code",
      "source": [
        "# fazendo só o plot, sem a curva de ajuste\n",
        "plt.plot(x1, y1, 'o')\n",
        "plt.xlabel('z') #rotula o eixo x\n",
        "plt.ylabel('$d_A$') #rotula o eixo y\n",
        "plt.show()"
      ],
      "metadata": {
        "id": "WR5WmcVPoXiW",
        "colab": {
          "base_uri": "https://localhost:8080/",
          "height": 279
        },
        "outputId": "cc2f0eb1-1599-46ef-9d13-9c81605a09b7"
      },
      "execution_count": 10,
      "outputs": [
        {
          "output_type": "display_data",
          "data": {
            "text/plain": [
              "<Figure size 432x288 with 1 Axes>"
            ],
            "image/png": "[encoded data removed]"
          },
          "metadata": {
            "needs_background": "light"
          }
        }
      ]
    },
    {
      "cell_type": "markdown",
      "source": [
        "Gráfico de $\\theta_{BAO}$ x $z$ usando os dados do artigo."
      ],
      "metadata": {
        "id": "Zj3GFfyw-fHS"
      }
    },
    {
      "cell_type": "code",
      "source": [
        "plt.plot(z, thetaBAO, 'o')\n",
        "plt.xlabel('z') #rotula o eixo x\n",
        "plt.ylabel('$\\Theta_{BAO}$') #rotula o eixo y\n",
        "plt.show()"
      ],
      "metadata": {
        "id": "5OlCP2kmxBMl",
        "colab": {
          "base_uri": "https://localhost:8080/",
          "height": 279
        },
        "outputId": "c74b0d45-ef24-4721-a32c-7ea06711b44a"
      },
      "execution_count": 11,
      "outputs": [
        {
          "output_type": "display_data",
          "data": {
            "text/plain": [
              "<Figure size 432x288 with 1 Axes>"
            ],
            "image/png": "[encoded data removed]"
          },
          "metadata": {
            "needs_background": "light"
          }
        }
      ]
    },
    {
      "cell_type": "code",
      "source": [
        "# tentativa de plotar os dados de theta_BAO com os erros\n",
        "plt.errorbar(z, thetaBAO, thetaBAOerr, fmt='o')\n",
        "plt.show()"
      ],
      "metadata": {
        "colab": {
          "base_uri": "https://localhost:8080/",
          "height": 265
        },
        "id": "IJ3alOs68y10",
        "outputId": "7d7f445e-1174-4943-dca1-f230ee30ca7f"
      },
      "execution_count": 12,
      "outputs": [
        {
          "output_type": "display_data",
          "data": {
            "text/plain": [
              "<Figure size 432x288 with 1 Axes>"
            ],
            "image/png": "[encoded data removed]"
          },
          "metadata": {
            "needs_background": "light"
          }
        }
      ]
    },
    {
      "cell_type": "code",
      "source": [
        "# redefinindo theta_BAO\n",
        "theta = np.deg2rad(thetaBAO)\n",
        "theta_err = np.deg2rad(thetaBAOerr)"
      ],
      "metadata": {
        "id": "WwgEBytD97dP"
      },
      "execution_count": 13,
      "outputs": []
    },
    {
      "cell_type": "code",
      "source": [
        "# definindo a distância de diâmetro angular em função de z e thetaBAO\n",
        "rs = 150.0\n",
        "DA = rs/((1+z)*theta)  \n",
        "\n",
        "# definindo algumas funções para facilitar\n",
        "t1 = rs/(1+z)\n",
        "t2 = theta_err/theta\n",
        "\n",
        "\n",
        "# erro da distância de diâmetro angular\n",
        "DA_err = np.sqrt((t1**2)*(t2**2))  \n",
        "\n",
        "# plotando novamente dA cx z\n",
        "plt.errorbar(z, DA, DA_err, fmt='o')\n",
        "plt.xlabel('z')\n",
        "plt.ylabel('$d_A$')\n",
        "plt.plot(z, DA, 'o')\n",
        "plt.show()\n",
        "\n",
        "#print(dA_err)"
      ],
      "metadata": {
        "colab": {
          "base_uri": "https://localhost:8080/",
          "height": 279
        },
        "id": "kaj9mmpd-CWY",
        "outputId": "d4fa8f1e-de23-421c-df65-889b5b16b515"
      },
      "execution_count": 14,
      "outputs": [
        {
          "output_type": "display_data",
          "data": {
            "text/plain": [
              "<Figure size 432x288 with 1 Axes>"
            ],
            "image/png": "[encoded data removed]"
          },
          "metadata": {
            "needs_background": "light"
          }
        }
      ]
    },
    {
      "cell_type": "markdown",
      "source": [
        "Uma forma de obter a curva de ajuste para os dados da distância de diâmetro angular é usando a biblioteca pyccl do Python. Porém, esta biblioteca precisa ser instalada no Colab através do comando abaixo."
      ],
      "metadata": {
        "id": "DhHXU2ztru9f"
      }
    },
    {
      "cell_type": "code",
      "source": [
        "!pip install -q condacolab\n",
        "import condacolab\n",
        "condacolab.install()\n",
        "!mamba install pyccl"
      ],
      "metadata": {
        "id": "FfzsP6s5eOr7",
        "colab": {
          "base_uri": "https://localhost:8080/"
        },
        "outputId": "473b1ae2-1f52-40f9-c865-4c2dc82a8aab"
      },
      "execution_count": 15,
      "outputs": [
        {
          "output_type": "stream",
          "name": "stdout",
          "text": [
            "\u001b[33mWARNING: Running pip as the 'root' user can result in broken permissions and conflicting behaviour with the system package manager. It is recommended to use a virtual environment instead: https://pip.pypa.io/warnings/venv\u001b[0m\u001b[33m\n",
            "\u001b[0m✨🍰✨ Everything looks OK!\n",
            "\n",
            "                  __    __    __    __\n",
            "                 /  \\  /  \\  /  \\  /  \\\n",
            "                /    \\/    \\/    \\/    \\\n",
            "███████████████/  /██/  /██/  /██/  /████████████████████████\n",
            "              /  / \\   / \\   / \\   / \\  \\____\n",
            "             /  /   \\_/   \\_/   \\_/   \\    o \\__,\n",
            "            / _/                       \\_____/  `\n",
            "            |/\n",
            "        ███╗   ███╗ █████╗ ███╗   ███╗██████╗  █████╗\n",
            "        ████╗ ████║██╔══██╗████╗ ████║██╔══██╗██╔══██╗\n",
            "        ██╔████╔██║███████║██╔████╔██║██████╔╝███████║\n",
            "        ██║╚██╔╝██║██╔══██║██║╚██╔╝██║██╔══██╗██╔══██║\n",
            "        ██║ ╚═╝ ██║██║  ██║██║ ╚═╝ ██║██████╔╝██║  ██║\n",
            "        ╚═╝     ╚═╝╚═╝  ╚═╝╚═╝     ╚═╝╚═════╝ ╚═╝  ╚═╝\n",
            "\n",
            "        mamba (1.1.0) supported by @QuantStack\n",
            "\n",
            "        GitHub:  https://github.com/mamba-org/mamba\n",
            "        Twitter: https://twitter.com/QuantStack\n",
            "\n",
            "█████████████████████████████████████████████████████████████\n",
            "\n",
            "\n",
            "Looking for: ['pyccl']\n",
            "\n",
            "conda-forge/linux-64                                        Using cache\n",
            "conda-forge/noarch                                          Using cache\n",
            "\n",
            "Pinned packages:\n",
            "  - python 3.9.*\n",
            "  - python 3.9.*\n",
            "  - python_abi 3.9.* *cp39*\n",
            "  - cudatoolkit 11.8.*\n",
            "\n",
            "\n",
            "Transaction\n",
            "\n",
            "  Prefix: /usr/local\n",
            "\n",
            "  All requested packages already installed\n",
            "\n",
            "\u001b[?25l\u001b[2K\u001b[0G\u001b[?25h"
          ]
        }
      ]
    },
    {
      "cell_type": "code",
      "source": [
        "import pyccl as ccl"
      ],
      "metadata": {
        "id": "kjxEd0E0fY1t"
      },
      "execution_count": 16,
      "outputs": []
    },
    {
      "cell_type": "code",
      "source": [
        "#cosmological model\n",
        "# Planck cosmological parameters\n",
        "#cosmo = ccl.Cosmology(\n",
        "#    Omega_c=0.2656, Omega_b=0.0494, h=0.6727, sigma8=0.8120, n_s=0.9649)\n",
        "\n",
        "def mu_fit(z, Omc, h, w0):  #mu_fit é somente o nome da função, é arbitrário\n",
        "    \n",
        "    cosmo = ccl.Cosmology(\n",
        "        Omega_c=Omc, Omega_b=0.0494, h=h, sigma8=0.8120, n_s=0.9649, w0=w0) #parâmetros comológicos\n",
        "    \n",
        "    a = 1. / (1. + z) #fator de escala\n",
        "    \n",
        "    return ccl.angular_diameter_distance(cosmo, a)  # distância de diâmetro angular"
      ],
      "metadata": {
        "id": "zG3U1W82-V3t"
      },
      "execution_count": 17,
      "outputs": []
    },
    {
      "cell_type": "code",
      "source": [
        "# best-fit\n",
        "\n",
        "popt, pcov = curve_fit(mu_fit, z, DA, sigma=DA_err, p0=[0.27, 0.67, -1],  #não entendi o que é  popt, pcov, p0 e bounds\n",
        "                      bounds=(-2, [2, 2, 2]), method='trf')\n",
        "\n",
        "\n",
        "#não sei o que são\n",
        "print(popt)\n",
        "print(np.sqrt(np.diag(pcov)))\n",
        "\n",
        "\n",
        "# plotando dA x z\n",
        "plt.figure(figsize=(8, 6))\n",
        "plt.plot(z, mu_fit(z, *popt), color='red')\n",
        "plt.errorbar(z, DA, DA_err, fmt='o')\n",
        "plt.xlabel('z')\n",
        "plt.ylabel('$d_A$')\n",
        "plt.show()"
      ],
      "metadata": {
        "id": "YssizXzF-nyM",
        "colab": {
          "base_uri": "https://localhost:8080/",
          "height": 423
        },
        "outputId": "6f3ab269-3978-49e3-ae12-7a4588f6c5ef"
      },
      "execution_count": 18,
      "outputs": [
        {
          "output_type": "stream",
          "name": "stdout",
          "text": [
            "[ 0.40807371  0.72742165 -1.69587549]\n",
            "[0.14248192 0.136627   2.29225462]\n"
          ]
        },
        {
          "output_type": "display_data",
          "data": {
            "text/plain": [
              "<Figure size 576x432 with 1 Axes>"
            ],
            "image/png": "[encoded data removed]"
          },
          "metadata": {
            "needs_background": "light"
          }
        }
      ]
    },
    {
      "cell_type": "markdown",
      "source": [
        "Agora, vamos plotar outro observável cosmológico, que é a distância de luminosidade. Vamos graficar $d_L(z)$ x $z$ usando a função exata deste observável, dada por:\n",
        "\n",
        "$d_L = (1+z) \\int_0^z \\frac{dz}{\\sqrt([\\Omega_m (1+z)^3 + 1 - \\Omega_m])}$."
      ],
      "metadata": {
        "id": "g2ddB8vj-nx3"
      }
    },
    {
      "cell_type": "code",
      "source": [
        "# código do Bruno Wesley\n",
        "\n",
        "# símbolos:\n",
        "Z = sm.symbols('Z', real=True)\n",
        "O_m0 = 0.3\n",
        "#O_m0 = sm.symbols('O_m0', real=True)  #se não quisermos definir um valor para O_m0, escrevemos isso\n",
        "\n",
        "# integrando\n",
        "f = 1/sm.sqrt(O_m0*(1+Z)**3 + 1-O_m0) #no denominador é o H(z)\n",
        "\n",
        "# primitiva:\n",
        "sm.integrate(f, Z)"
      ],
      "metadata": {
        "id": "lfCjK1QZPEaA",
        "colab": {
          "base_uri": "https://localhost:8080/",
          "height": 83
        },
        "outputId": "b2f71475-963d-4de0-adfd-283343d20510"
      },
      "execution_count": 19,
      "outputs": [
        {
          "output_type": "execute_result",
          "data": {
            "text/plain": [
              "0.398409536444798*(Z + 1)*gamma(1/3)*hyper((1/3, 1/2), (4/3,), 0.428571428571429*(Z + 1)**3*exp_polar(I*pi))/gamma(4/3)"
            ],
            "text/latex": "$\\displaystyle \\frac{0.398409536444798 \\left(Z + 1\\right) \\Gamma\\left(\\frac{1}{3}\\right) {{}_{2}F_{1}\\left(\\begin{matrix} \\frac{1}{3}, \\frac{1}{2} \\\\ \\frac{4}{3} \\end{matrix}\\middle| {0.428571428571429 \\left(Z + 1\\right)^{3} e^{i \\pi}} \\right)}}{\\Gamma\\left(\\frac{4}{3}\\right)}$"
          },
          "metadata": {},
          "execution_count": 19
        }
      ]
    },
    {
      "cell_type": "code",
      "source": [
        "# algumas definições:\n",
        "gamma = math.gamma\n",
        "#polar = sm.polar_lift # necessário se não tivéssemos previamente definido um valor para O_m0\n",
        "hyper = sp.special.hyp2f1"
      ],
      "metadata": {
        "id": "iW9xPEKGPg_h"
      },
      "execution_count": 20,
      "outputs": []
    },
    {
      "cell_type": "code",
      "source": [
        "# intervalo:\n",
        "Z = np.linspace(0, 2, 1000)"
      ],
      "metadata": {
        "id": "Gv7VaILGPjwa"
      },
      "execution_count": 21,
      "outputs": []
    },
    {
      "cell_type": "code",
      "source": [
        "# solução I\n",
        "If = (0.398409536444798*(Z+1)*gamma(1/3)*hyper(1/3, 1/2, 4/3, -0.428571428571429*(Z+1)**3))/gamma(4/3)\n",
        "I0 = (0.398409536444798 * 1 * gamma(1/3)*hyper(1/3, 1/2, 4/3, -0.428571428571429  *  1**3))/gamma(4/3)\n",
        "\n",
        "I = If - I0\n",
        "\n",
        "# distância de luminosidade:\n",
        "dL = (1+Z)*I"
      ],
      "metadata": {
        "id": "9ktHDVLrPlo-"
      },
      "execution_count": 22,
      "outputs": []
    },
    {
      "cell_type": "code",
      "source": [
        "# plotando a distância de luminosidade:\n",
        "plt.figure(figsize=(8, 6))\n",
        "plt.plot(Z, dL, label='$\\Omega_{m0}=0.3$')\n",
        "plt.legend(loc='best')\n",
        "plt.xlabel('z')\n",
        "plt.ylabel('$H_0 d_L(z)/c$')\n",
        "plt.show()"
      ],
      "metadata": {
        "id": "2QOF6I94Pprw",
        "colab": {
          "base_uri": "https://localhost:8080/",
          "height": 388
        },
        "outputId": "0fffe618-4aa8-4ea8-fed7-c815f4dae7e5"
      },
      "execution_count": 23,
      "outputs": [
        {
          "output_type": "display_data",
          "data": {
            "text/plain": [
              "<Figure size 576x432 with 1 Axes>"
            ],
            "image/png": "[encoded data removed]"
          },
          "metadata": {
            "needs_background": "light"
          }
        }
      ]
    },
    {
      "cell_type": "markdown",
      "source": [
        "Agora, vamos plotar $d_A(z)$ x $z$ a partir da função exata deste observável, dada por:\n",
        "\n",
        "$d_A = \\frac{d_L}{(1+z)^2}$."
      ],
      "metadata": {
        "id": "wLR1-4z0_S7H"
      }
    },
    {
      "cell_type": "code",
      "source": [
        "# constantes\n",
        "c = 2.9*10**5 # velocidade da luz\n",
        "h0 = 70 #km/s/Mpc"
      ],
      "metadata": {
        "id": "8fk304NJg4bt"
      },
      "execution_count": 24,
      "outputs": []
    },
    {
      "cell_type": "code",
      "source": [
        "# distância de diâmetro angular\n",
        "da = (c/h0)*((1+Z)**(-1))*I"
      ],
      "metadata": {
        "id": "42CPU6gRbXgS"
      },
      "execution_count": 25,
      "outputs": []
    },
    {
      "cell_type": "code",
      "source": [
        "# plotando a distância de diâmetro angular:\n",
        "plt.figure(figsize=(8, 6))\n",
        "plt.plot(Z, da, label='$\\Omega_{m0}=0.3$')\n",
        "plt.legend(loc='best')\n",
        "plt.xlabel('z')\n",
        "plt.ylabel('$d_A(z)$')\n",
        "plt.show()"
      ],
      "metadata": {
        "id": "PCnKst40ckrC",
        "colab": {
          "base_uri": "https://localhost:8080/",
          "height": 388
        },
        "outputId": "c6819865-cec4-4b6b-b8df-c2c3a89ee0dd"
      },
      "execution_count": 26,
      "outputs": [
        {
          "output_type": "display_data",
          "data": {
            "text/plain": [
              "<Figure size 576x432 with 1 Axes>"
            ],
            "image/png": "[encoded data removed]"
          },
          "metadata": {
            "needs_background": "light"
          }
        }
      ]
    },
    {
      "cell_type": "code",
      "source": [
        "# plotando a função exata e comparando com o obtido através dos dados\n",
        "\n",
        "plt.figure(figsize=(8, 6))\n",
        "plt.plot(Z, da, label='$\\Omega_{m0}=0.3$')\n",
        "plt.plot(z, mu_fit(z, *popt), color='red', label='Ajuste dos dados')\n",
        "#plt.plot(z, DA, 'o')\n",
        "plt.errorbar(z, DA, DA_err, fmt='o')  \n",
        "plt.legend(loc='best')\n",
        "plt.xlabel('z')\n",
        "plt.ylabel('$d_A(z)$')\n",
        "plt.show()"
      ],
      "metadata": {
        "id": "W64J30tigrdy",
        "colab": {
          "base_uri": "https://localhost:8080/",
          "height": 388
        },
        "outputId": "bc56e083-04f2-4927-cb16-c52f30af667e"
      },
      "execution_count": 27,
      "outputs": [
        {
          "output_type": "display_data",
          "data": {
            "text/plain": [
              "<Figure size 576x432 with 1 Axes>"
            ],
            "image/png": "[encoded data removed]"
          },
          "metadata": {
            "needs_background": "light"
          }
        }
      ]
    }
  ]
}