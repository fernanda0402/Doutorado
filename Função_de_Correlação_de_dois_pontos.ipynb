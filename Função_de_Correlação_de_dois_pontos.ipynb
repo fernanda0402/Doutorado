{
  "nbformat": 4,
  "nbformat_minor": 0,
  "metadata": {
    "colab": {
      "provenance": [],
      "authorship_tag": "ABX9TyPo8Gu7YoFCyCmfgTNdH190",
      "include_colab_link": true
    },
    "kernelspec": {
      "name": "python3",
      "display_name": "Python 3"
    },
    "language_info": {
      "name": "python"
    }
  },
  "cells": [
    {
      "cell_type": "markdown",
      "metadata": {
        "id": "view-in-github",
        "colab_type": "text"
      },
      "source": [
        "<a href=\"https://colab.research.google.com/github/fernanda0402/Doutorado/blob/main/Fun%C3%A7%C3%A3o_de_Correla%C3%A7%C3%A3o_de_dois_pontos.ipynb\" target=\"_parent\"><img src=\"https://colab.research.google.com/assets/colab-badge.svg\" alt=\"Open In Colab\"/></a>"
      ]
    },
    {
      "cell_type": "markdown",
      "source": [
        "Trabalho de Cosmologia I\n",
        "\n",
        "Função de correlação de dois pontos\n",
        "\n",
        "Nome: Fernanda Araujo de Oliveira"
      ],
      "metadata": {
        "id": "QGBr0OspL_3F"
      }
    },
    {
      "cell_type": "code",
      "source": [
        "import numpy as np\n",
        "import pandas as pd\n",
        "import matplotlib.pyplot as plt\n",
        "import time\n",
        "from itertools import combinations"
      ],
      "metadata": {
        "id": "Tzf-CYwUQmhh"
      },
      "execution_count": 39,
      "outputs": []
    },
    {
      "cell_type": "code",
      "source": [
        "#Para sabermos quanto tempo durou\n",
        "start = time.time()"
      ],
      "metadata": {
        "id": "1MKusD_FUVHp"
      },
      "execution_count": 40,
      "outputs": []
    },
    {
      "cell_type": "code",
      "source": [
        "alfalfa = 'ALFALFA_RA_155-200_DEC_0-18_3428objects.csv'"
      ],
      "metadata": {
        "id": "8xY2NGldTJLf"
      },
      "execution_count": 41,
      "outputs": []
    },
    {
      "cell_type": "code",
      "source": [
        "dados = pd.read_csv(alfalfa, sep=',')\n",
        "dados.head()"
      ],
      "metadata": {
        "id": "pObEnkryTMJE",
        "colab": {
          "base_uri": "https://localhost:8080/",
          "height": 270
        },
        "outputId": "618cb68d-3e1a-441f-94c1-22f74ed107db"
      },
      "execution_count": 42,
      "outputs": [
        {
          "output_type": "execute_result",
          "data": {
            "text/plain": [
              "    AGCNr      Name   RAdeg_HI  DECdeg_HI   RAdeg_OC  DECdeg_OC  Vhelio  W50  \\\n",
              "0  204096  ........  155.00166    4.69167  155.00458    4.68972    9764   76   \n",
              "1  200259  065-001.  155.03999   13.33222  155.03958   13.33028    8613  138   \n",
              "2  201359  037-001.  155.04332    6.95222  155.04124    6.95222    3799  138   \n",
              "3  202771  ........  155.04541   13.02000  155.04208   13.01472   13866   97   \n",
              "4  202980  ........  155.04666   13.42833  155.04332   13.42611   13229  109   \n",
              "\n",
              "   sigW  W20  HIflux  sigflux   SNR   RMS   Dist  sigDist  logMH  siglogMH  \\\n",
              "0    16   89    0.60     0.06   6.5  2.34  144.5      2.4   9.47      0.06   \n",
              "1     2  153    2.77     0.07  22.3  2.35  127.8      2.3  10.03      0.05   \n",
              "2     3  162    3.23     0.07  26.8  2.29   56.5      4.3   9.39      0.08   \n",
              "3    15  145    0.87     0.08   7.6  2.59  202.9      2.2   9.93      0.06   \n",
              "4     7  121    0.68     0.06   6.4  2.24  193.8      2.2   9.78      0.06   \n",
              "\n",
              "   HIcode  \n",
              "0       1  \n",
              "1       1  \n",
              "2       1  \n",
              "3       1  \n",
              "4       1  "
            ],
            "text/html": [
              "\n",
              "  <div id=\"df-81942d68-8cf0-4355-9ead-974e60cdc4fd\">\n",
              "    <div class=\"colab-df-container\">\n",
              "      <div>\n",
              "<style scoped>\n",
              "    .dataframe tbody tr th:only-of-type {\n",
              "        vertical-align: middle;\n",
              "    }\n",
              "\n",
              "    .dataframe tbody tr th {\n",
              "        vertical-align: top;\n",
              "    }\n",
              "\n",
              "    .dataframe thead th {\n",
              "        text-align: right;\n",
              "    }\n",
              "</style>\n",
              "<table border=\"1\" class=\"dataframe\">\n",
              "  <thead>\n",
              "    <tr style=\"text-align: right;\">\n",
              "      <th></th>\n",
              "      <th>AGCNr</th>\n",
              "      <th>Name</th>\n",
              "      <th>RAdeg_HI</th>\n",
              "      <th>DECdeg_HI</th>\n",
              "      <th>RAdeg_OC</th>\n",
              "      <th>DECdeg_OC</th>\n",
              "      <th>Vhelio</th>\n",
              "      <th>W50</th>\n",
              "      <th>sigW</th>\n",
              "      <th>W20</th>\n",
              "      <th>HIflux</th>\n",
              "      <th>sigflux</th>\n",
              "      <th>SNR</th>\n",
              "      <th>RMS</th>\n",
              "      <th>Dist</th>\n",
              "      <th>sigDist</th>\n",
              "      <th>logMH</th>\n",
              "      <th>siglogMH</th>\n",
              "      <th>HIcode</th>\n",
              "    </tr>\n",
              "  </thead>\n",
              "  <tbody>\n",
              "    <tr>\n",
              "      <th>0</th>\n",
              "      <td>204096</td>\n",
              "      <td>........</td>\n",
              "      <td>155.00166</td>\n",
              "      <td>4.69167</td>\n",
              "      <td>155.00458</td>\n",
              "      <td>4.68972</td>\n",
              "      <td>9764</td>\n",
              "      <td>76</td>\n",
              "      <td>16</td>\n",
              "      <td>89</td>\n",
              "      <td>0.60</td>\n",
              "      <td>0.06</td>\n",
              "      <td>6.5</td>\n",
              "      <td>2.34</td>\n",
              "      <td>144.5</td>\n",
              "      <td>2.4</td>\n",
              "      <td>9.47</td>\n",
              "      <td>0.06</td>\n",
              "      <td>1</td>\n",
              "    </tr>\n",
              "    <tr>\n",
              "      <th>1</th>\n",
              "      <td>200259</td>\n",
              "      <td>065-001.</td>\n",
              "      <td>155.03999</td>\n",
              "      <td>13.33222</td>\n",
              "      <td>155.03958</td>\n",
              "      <td>13.33028</td>\n",
              "      <td>8613</td>\n",
              "      <td>138</td>\n",
              "      <td>2</td>\n",
              "      <td>153</td>\n",
              "      <td>2.77</td>\n",
              "      <td>0.07</td>\n",
              "      <td>22.3</td>\n",
              "      <td>2.35</td>\n",
              "      <td>127.8</td>\n",
              "      <td>2.3</td>\n",
              "      <td>10.03</td>\n",
              "      <td>0.05</td>\n",
              "      <td>1</td>\n",
              "    </tr>\n",
              "    <tr>\n",
              "      <th>2</th>\n",
              "      <td>201359</td>\n",
              "      <td>037-001.</td>\n",
              "      <td>155.04332</td>\n",
              "      <td>6.95222</td>\n",
              "      <td>155.04124</td>\n",
              "      <td>6.95222</td>\n",
              "      <td>3799</td>\n",
              "      <td>138</td>\n",
              "      <td>3</td>\n",
              "      <td>162</td>\n",
              "      <td>3.23</td>\n",
              "      <td>0.07</td>\n",
              "      <td>26.8</td>\n",
              "      <td>2.29</td>\n",
              "      <td>56.5</td>\n",
              "      <td>4.3</td>\n",
              "      <td>9.39</td>\n",
              "      <td>0.08</td>\n",
              "      <td>1</td>\n",
              "    </tr>\n",
              "    <tr>\n",
              "      <th>3</th>\n",
              "      <td>202771</td>\n",
              "      <td>........</td>\n",
              "      <td>155.04541</td>\n",
              "      <td>13.02000</td>\n",
              "      <td>155.04208</td>\n",
              "      <td>13.01472</td>\n",
              "      <td>13866</td>\n",
              "      <td>97</td>\n",
              "      <td>15</td>\n",
              "      <td>145</td>\n",
              "      <td>0.87</td>\n",
              "      <td>0.08</td>\n",
              "      <td>7.6</td>\n",
              "      <td>2.59</td>\n",
              "      <td>202.9</td>\n",
              "      <td>2.2</td>\n",
              "      <td>9.93</td>\n",
              "      <td>0.06</td>\n",
              "      <td>1</td>\n",
              "    </tr>\n",
              "    <tr>\n",
              "      <th>4</th>\n",
              "      <td>202980</td>\n",
              "      <td>........</td>\n",
              "      <td>155.04666</td>\n",
              "      <td>13.42833</td>\n",
              "      <td>155.04332</td>\n",
              "      <td>13.42611</td>\n",
              "      <td>13229</td>\n",
              "      <td>109</td>\n",
              "      <td>7</td>\n",
              "      <td>121</td>\n",
              "      <td>0.68</td>\n",
              "      <td>0.06</td>\n",
              "      <td>6.4</td>\n",
              "      <td>2.24</td>\n",
              "      <td>193.8</td>\n",
              "      <td>2.2</td>\n",
              "      <td>9.78</td>\n",
              "      <td>0.06</td>\n",
              "      <td>1</td>\n",
              "    </tr>\n",
              "  </tbody>\n",
              "</table>\n",
              "</div>\n",
              "      <button class=\"colab-df-convert\" onclick=\"convertToInteractive('df-81942d68-8cf0-4355-9ead-974e60cdc4fd')\"\n",
              "              title=\"Convert this dataframe to an interactive table.\"\n",
              "              style=\"display:none;\">\n",
              "        \n",
              "  <svg xmlns=\"http://www.w3.org/2000/svg\" height=\"24px\"viewBox=\"0 0 24 24\"\n",
              "       width=\"24px\">\n",
              "    <path d=\"M0 0h24v24H0V0z\" fill=\"none\"/>\n",
              "    <path d=\"M18.56 5.44l.94 2.06.94-2.06 2.06-.94-2.06-.94-.94-2.06-.94 2.06-2.06.94zm-11 1L8.5 8.5l.94-2.06 2.06-.94-2.06-.94L8.5 2.5l-.94 2.06-2.06.94zm10 10l.94 2.06.94-2.06 2.06-.94-2.06-.94-.94-2.06-.94 2.06-2.06.94z\"/><path d=\"M17.41 7.96l-1.37-1.37c-.4-.4-.92-.59-1.43-.59-.52 0-1.04.2-1.43.59L10.3 9.45l-7.72 7.72c-.78.78-.78 2.05 0 2.83L4 21.41c.39.39.9.59 1.41.59.51 0 1.02-.2 1.41-.59l7.78-7.78 2.81-2.81c.8-.78.8-2.07 0-2.86zM5.41 20L4 18.59l7.72-7.72 1.47 1.35L5.41 20z\"/>\n",
              "  </svg>\n",
              "      </button>\n",
              "      \n",
              "  <style>\n",
              "    .colab-df-container {\n",
              "      display:flex;\n",
              "      flex-wrap:wrap;\n",
              "      gap: 12px;\n",
              "    }\n",
              "\n",
              "    .colab-df-convert {\n",
              "      background-color: #E8F0FE;\n",
              "      border: none;\n",
              "      border-radius: 50%;\n",
              "      cursor: pointer;\n",
              "      display: none;\n",
              "      fill: #1967D2;\n",
              "      height: 32px;\n",
              "      padding: 0 0 0 0;\n",
              "      width: 32px;\n",
              "    }\n",
              "\n",
              "    .colab-df-convert:hover {\n",
              "      background-color: #E2EBFA;\n",
              "      box-shadow: 0px 1px 2px rgba(60, 64, 67, 0.3), 0px 1px 3px 1px rgba(60, 64, 67, 0.15);\n",
              "      fill: #174EA6;\n",
              "    }\n",
              "\n",
              "    [theme=dark] .colab-df-convert {\n",
              "      background-color: #3B4455;\n",
              "      fill: #D2E3FC;\n",
              "    }\n",
              "\n",
              "    [theme=dark] .colab-df-convert:hover {\n",
              "      background-color: #434B5C;\n",
              "      box-shadow: 0px 1px 3px 1px rgba(0, 0, 0, 0.15);\n",
              "      filter: drop-shadow(0px 1px 2px rgba(0, 0, 0, 0.3));\n",
              "      fill: #FFFFFF;\n",
              "    }\n",
              "  </style>\n",
              "\n",
              "      <script>\n",
              "        const buttonEl =\n",
              "          document.querySelector('#df-81942d68-8cf0-4355-9ead-974e60cdc4fd button.colab-df-convert');\n",
              "        buttonEl.style.display =\n",
              "          google.colab.kernel.accessAllowed ? 'block' : 'none';\n",
              "\n",
              "        async function convertToInteractive(key) {\n",
              "          const element = document.querySelector('#df-81942d68-8cf0-4355-9ead-974e60cdc4fd');\n",
              "          const dataTable =\n",
              "            await google.colab.kernel.invokeFunction('convertToInteractive',\n",
              "                                                     [key], {});\n",
              "          if (!dataTable) return;\n",
              "\n",
              "          const docLinkHtml = 'Like what you see? Visit the ' +\n",
              "            '<a target=\"_blank\" href=https://colab.research.google.com/notebooks/data_table.ipynb>data table notebook</a>'\n",
              "            + ' to learn more about interactive tables.';\n",
              "          element.innerHTML = '';\n",
              "          dataTable['output_type'] = 'display_data';\n",
              "          await google.colab.output.renderOutput(dataTable, element);\n",
              "          const docLink = document.createElement('div');\n",
              "          docLink.innerHTML = docLinkHtml;\n",
              "          element.appendChild(docLink);\n",
              "        }\n",
              "      </script>\n",
              "    </div>\n",
              "  </div>\n",
              "  "
            ]
          },
          "metadata": {},
          "execution_count": 42
        }
      ]
    },
    {
      "cell_type": "code",
      "source": [
        "rad, decd = np.deg2rad(dados['RAdeg_HI']), np.deg2rad(dados['DECdeg_HI'])\n",
        "dados = np.transpose(np.vstack([rad, decd]))\n",
        "print(dados.shape) "
      ],
      "metadata": {
        "id": "iJAfJ-1uTPBw",
        "colab": {
          "base_uri": "https://localhost:8080/"
        },
        "outputId": "b99f378f-4f3e-4169-a106-fa6b0a72b798"
      },
      "execution_count": 43,
      "outputs": [
        {
          "output_type": "stream",
          "name": "stdout",
          "text": [
            "(3427, 2)\n"
          ]
        }
      ]
    },
    {
      "cell_type": "markdown",
      "source": [
        "Temos 3427 dados."
      ],
      "metadata": {
        "id": "21rACnY6TTpx"
      }
    },
    {
      "cell_type": "code",
      "source": [
        "def dist_dados(p0, p1):\n",
        "    rad0, decd0 = p0\n",
        "    rad1, decd1 = p1\n",
        "    return np.rad2deg(np.arccos((np.sin(decd0) * np.sin(decd1)) + (np.cos(decd0) * np.cos(decd1) * np.cos(rad0 - rad1))))"
      ],
      "metadata": {
        "id": "y5tL3EuOTXQ-"
      },
      "execution_count": 44,
      "outputs": []
    },
    {
      "cell_type": "code",
      "source": [
        "dd = np.array([dist_dados(*pares) for pares in combinations(dados, 2)])\n",
        "print(f'DDmax = {max(dd)}') #distância máxima"
      ],
      "metadata": {
        "id": "zAfym_4GTaMJ",
        "colab": {
          "base_uri": "https://localhost:8080/"
        },
        "outputId": "d9dea05e-37bf-4978-b6c8-a939bbfd1ce3"
      },
      "execution_count": 45,
      "outputs": [
        {
          "output_type": "stream",
          "name": "stdout",
          "text": [
            "DDmax = 46.7984061306959\n"
          ]
        }
      ]
    },
    {
      "cell_type": "code",
      "source": [
        "#hist_dd = np.histogram(dd, 80, (0, 40)) # 80 bins e (0,40) é um corte que vai ditar o intervalo do histograma\n",
        "#print(hist_dd)\n",
        "\n",
        "hist_dd = np.histogram(dd, 70, (0, 35)) # 70 bins e (0,35) é um corte que vai ditar o intervalo do histograma\n",
        "print(hist_dd)"
      ],
      "metadata": {
        "id": "sVikk131T-tq",
        "colab": {
          "base_uri": "https://localhost:8080/"
        },
        "outputId": "fc907997-7e50-42a3-ebfd-356ef7144444"
      },
      "execution_count": 46,
      "outputs": [
        {
          "output_type": "stream",
          "name": "stdout",
          "text": [
            "(array([  7675,  20293,  31473,  41141,  51004,  60255,  69265,  77535,\n",
            "        85799,  92685,  98015, 103471, 108167, 112326, 116917, 121280,\n",
            "       124161, 127596, 128427, 129665, 131354, 131471, 131937, 132052,\n",
            "       131147, 131242, 129055, 125595, 122543, 120010, 114307, 110765,\n",
            "       106997, 103563, 100258,  96932,  94648,  91203,  89243,  87247,\n",
            "        84562,  82463,  80116,  77339,  75840,  72925,  71932,  69123,\n",
            "        67426,  65747,  63600,  61599,  60738,  58794,  57554,  56069,\n",
            "        54115,  52319,  50213,  48065,  45126,  43023,  40558,  37729,\n",
            "        34920,  33203,  30886,  29034,  27070,  25232]), array([ 0. ,  0.5,  1. ,  1.5,  2. ,  2.5,  3. ,  3.5,  4. ,  4.5,  5. ,\n",
            "        5.5,  6. ,  6.5,  7. ,  7.5,  8. ,  8.5,  9. ,  9.5, 10. , 10.5,\n",
            "       11. , 11.5, 12. , 12.5, 13. , 13.5, 14. , 14.5, 15. , 15.5, 16. ,\n",
            "       16.5, 17. , 17.5, 18. , 18.5, 19. , 19.5, 20. , 20.5, 21. , 21.5,\n",
            "       22. , 22.5, 23. , 23.5, 24. , 24.5, 25. , 25.5, 26. , 26.5, 27. ,\n",
            "       27.5, 28. , 28.5, 29. , 29.5, 30. , 30.5, 31. , 31.5, 32. , 32.5,\n",
            "       33. , 33.5, 34. , 34.5, 35. ]))\n"
          ]
        }
      ]
    },
    {
      "cell_type": "code",
      "source": [
        "#Normalização dos dados, não é obrigatório pros nossos dados em questão mas é bom saber fazer para casos futuros\n",
        "\n",
        "ng = len(dados)\n",
        "dd = hist_dd[0]\n",
        "dd_norm = dd / ((ng * (ng - 1)) / 2)"
      ],
      "metadata": {
        "id": "LMsdnFixUA13"
      },
      "execution_count": 47,
      "outputs": []
    },
    {
      "cell_type": "code",
      "source": [
        "omega = []\n",
        "\n",
        "n = 10\n",
        "cont = 1\n",
        "while cont <= n:\n",
        "    ran = np.genfromtxt('random' + str(cont) + '.txt', delimiter='')\n",
        "\n",
        "    rar = ran[:, 0]\n",
        "    decr = ran[:, 1]\n",
        "\n",
        "    rar = rar[:, np.newaxis]\n",
        "    decr = decr[:, np.newaxis]\n",
        "\n",
        "    rar = np.deg2rad(rar)\n",
        "    decr = np.deg2rad(decr)\n",
        "\n",
        "    ran = np.hstack([rar, decr])\n",
        "\n",
        "\n",
        "    def dist_random(pi, pj):\n",
        "        rari, decri = pi\n",
        "        rarj, decrj = pj\n",
        "        return np.rad2deg(np.arccos((np.sin(decri) * np.sin(decrj)) + (np.cos(decri) * np.cos(decrj) * np.cos(rari - rarj))))\n",
        "#voltamos pra graus\n",
        "\n",
        "    rr = np.array([dist_random(*pares) for pares in combinations(ran, 2)])\n",
        "    print(f'RRmax = {max(rr)}')\n",
        "\n",
        "    hist_rr = np.histogram(rr, 70, (0, 35))\n",
        "\n",
        "    nr = len(ran)\n",
        "    rr = hist_rr[0]\n",
        "    rr_norm = rr / ((nr * (nr - 1)) / 2)\n",
        "\n",
        "    omegai = (dd_norm / rr_norm) - 1               #expressão da função de correlação\n",
        "    omega.append(omegai)\n",
        "\n",
        "    cont = cont + 1"
      ],
      "metadata": {
        "id": "AclU-Q4FUK4g",
        "colab": {
          "base_uri": "https://localhost:8080/"
        },
        "outputId": "ebfe1708-9480-4c2d-8f89-641817522103"
      },
      "execution_count": 48,
      "outputs": [
        {
          "output_type": "stream",
          "name": "stdout",
          "text": [
            "RRmax = 47.17212761497596\n",
            "RRmax = 47.447362725882364\n",
            "RRmax = 47.23602423643845\n",
            "RRmax = 47.181735178007926\n",
            "RRmax = 46.94285224671278\n",
            "RRmax = 47.26654770012766\n",
            "RRmax = 47.297318042650666\n",
            "RRmax = 47.231052003849705\n",
            "RRmax = 47.33500041815723\n",
            "RRmax = 47.26369933626786\n"
          ]
        }
      ]
    },
    {
      "cell_type": "code",
      "source": [
        "dist = list(hist_dd[1])\n",
        "dist = dist[1:len(dist)]\n",
        "header = str(dist)[1:-1]\n",
        "np.savetxt('omega_ran.csv', omega, delimiter=',', header=header, comments='')"
      ],
      "metadata": {
        "id": "FFNic3Ygkxrc"
      },
      "execution_count": 49,
      "outputs": []
    },
    {
      "cell_type": "code",
      "source": [
        "omega_data = pd.read_csv('omega_ran.csv', sep=',')\n",
        "omega_data.head()"
      ],
      "metadata": {
        "id": "iR3jHVeDk0ZJ",
        "colab": {
          "base_uri": "https://localhost:8080/",
          "height": 300
        },
        "outputId": "0a5387d7-4a76-4635-f99b-fbfdd987f64a"
      },
      "execution_count": 50,
      "outputs": [
        {
          "output_type": "execute_result",
          "data": {
            "text/plain": [
              "        0.5       1.0       1.5       2.0       2.5       3.0       3.5  \\\n",
              "0  0.360163  0.219657  0.156750  0.115855  0.098989  0.088840  0.092095   \n",
              "1  0.328860  0.226064  0.167125  0.110257  0.110855  0.090100  0.093525   \n",
              "2  0.368160  0.211940  0.169683  0.109450  0.099890  0.092728  0.092577   \n",
              "3  0.351307  0.215859  0.159647  0.115220  0.102980  0.098482  0.100278   \n",
              "4  0.355123  0.204678  0.151043  0.103886  0.094746  0.095607  0.095236   \n",
              "\n",
              "        4.0       4.5       5.0  ...      30.5      31.0      31.5      32.0  \\\n",
              "0  0.095302  0.097744  0.091305  ... -0.034526 -0.052367 -0.070720 -0.109015   \n",
              "1  0.086011  0.095084  0.082364  ... -0.035371 -0.048639 -0.075757 -0.106337   \n",
              "2  0.092849  0.100122  0.096388  ... -0.021936 -0.033647 -0.061695 -0.089042   \n",
              "3  0.101507  0.098840  0.093957  ... -0.002753 -0.007834 -0.038417 -0.068083   \n",
              "4  0.081544  0.092839  0.084731  ... -0.049784 -0.065269 -0.083128 -0.112534   \n",
              "\n",
              "       32.5      33.0      33.5      34.0      34.5      35.0  \n",
              "0 -0.147130 -0.148428 -0.169068 -0.179630 -0.202960 -0.220708  \n",
              "1 -0.154784 -0.155377 -0.176200 -0.191704 -0.222878 -0.227504  \n",
              "2 -0.126687 -0.131918 -0.152432 -0.166950 -0.175821 -0.185983  \n",
              "3 -0.097381 -0.097071 -0.120045 -0.136185 -0.128373 -0.151570  \n",
              "4 -0.154723 -0.165015 -0.184009 -0.200689 -0.219317 -0.221165  \n",
              "\n",
              "[5 rows x 70 columns]"
            ],
            "text/html": [
              "\n",
              "  <div id=\"df-0d0e93e8-6a07-4def-b888-bc51c98ea318\">\n",
              "    <div class=\"colab-df-container\">\n",
              "      <div>\n",
              "<style scoped>\n",
              "    .dataframe tbody tr th:only-of-type {\n",
              "        vertical-align: middle;\n",
              "    }\n",
              "\n",
              "    .dataframe tbody tr th {\n",
              "        vertical-align: top;\n",
              "    }\n",
              "\n",
              "    .dataframe thead th {\n",
              "        text-align: right;\n",
              "    }\n",
              "</style>\n",
              "<table border=\"1\" class=\"dataframe\">\n",
              "  <thead>\n",
              "    <tr style=\"text-align: right;\">\n",
              "      <th></th>\n",
              "      <th>0.5</th>\n",
              "      <th>1.0</th>\n",
              "      <th>1.5</th>\n",
              "      <th>2.0</th>\n",
              "      <th>2.5</th>\n",
              "      <th>3.0</th>\n",
              "      <th>3.5</th>\n",
              "      <th>4.0</th>\n",
              "      <th>4.5</th>\n",
              "      <th>5.0</th>\n",
              "      <th>...</th>\n",
              "      <th>30.5</th>\n",
              "      <th>31.0</th>\n",
              "      <th>31.5</th>\n",
              "      <th>32.0</th>\n",
              "      <th>32.5</th>\n",
              "      <th>33.0</th>\n",
              "      <th>33.5</th>\n",
              "      <th>34.0</th>\n",
              "      <th>34.5</th>\n",
              "      <th>35.0</th>\n",
              "    </tr>\n",
              "  </thead>\n",
              "  <tbody>\n",
              "    <tr>\n",
              "      <th>0</th>\n",
              "      <td>0.360163</td>\n",
              "      <td>0.219657</td>\n",
              "      <td>0.156750</td>\n",
              "      <td>0.115855</td>\n",
              "      <td>0.098989</td>\n",
              "      <td>0.088840</td>\n",
              "      <td>0.092095</td>\n",
              "      <td>0.095302</td>\n",
              "      <td>0.097744</td>\n",
              "      <td>0.091305</td>\n",
              "      <td>...</td>\n",
              "      <td>-0.034526</td>\n",
              "      <td>-0.052367</td>\n",
              "      <td>-0.070720</td>\n",
              "      <td>-0.109015</td>\n",
              "      <td>-0.147130</td>\n",
              "      <td>-0.148428</td>\n",
              "      <td>-0.169068</td>\n",
              "      <td>-0.179630</td>\n",
              "      <td>-0.202960</td>\n",
              "      <td>-0.220708</td>\n",
              "    </tr>\n",
              "    <tr>\n",
              "      <th>1</th>\n",
              "      <td>0.328860</td>\n",
              "      <td>0.226064</td>\n",
              "      <td>0.167125</td>\n",
              "      <td>0.110257</td>\n",
              "      <td>0.110855</td>\n",
              "      <td>0.090100</td>\n",
              "      <td>0.093525</td>\n",
              "      <td>0.086011</td>\n",
              "      <td>0.095084</td>\n",
              "      <td>0.082364</td>\n",
              "      <td>...</td>\n",
              "      <td>-0.035371</td>\n",
              "      <td>-0.048639</td>\n",
              "      <td>-0.075757</td>\n",
              "      <td>-0.106337</td>\n",
              "      <td>-0.154784</td>\n",
              "      <td>-0.155377</td>\n",
              "      <td>-0.176200</td>\n",
              "      <td>-0.191704</td>\n",
              "      <td>-0.222878</td>\n",
              "      <td>-0.227504</td>\n",
              "    </tr>\n",
              "    <tr>\n",
              "      <th>2</th>\n",
              "      <td>0.368160</td>\n",
              "      <td>0.211940</td>\n",
              "      <td>0.169683</td>\n",
              "      <td>0.109450</td>\n",
              "      <td>0.099890</td>\n",
              "      <td>0.092728</td>\n",
              "      <td>0.092577</td>\n",
              "      <td>0.092849</td>\n",
              "      <td>0.100122</td>\n",
              "      <td>0.096388</td>\n",
              "      <td>...</td>\n",
              "      <td>-0.021936</td>\n",
              "      <td>-0.033647</td>\n",
              "      <td>-0.061695</td>\n",
              "      <td>-0.089042</td>\n",
              "      <td>-0.126687</td>\n",
              "      <td>-0.131918</td>\n",
              "      <td>-0.152432</td>\n",
              "      <td>-0.166950</td>\n",
              "      <td>-0.175821</td>\n",
              "      <td>-0.185983</td>\n",
              "    </tr>\n",
              "    <tr>\n",
              "      <th>3</th>\n",
              "      <td>0.351307</td>\n",
              "      <td>0.215859</td>\n",
              "      <td>0.159647</td>\n",
              "      <td>0.115220</td>\n",
              "      <td>0.102980</td>\n",
              "      <td>0.098482</td>\n",
              "      <td>0.100278</td>\n",
              "      <td>0.101507</td>\n",
              "      <td>0.098840</td>\n",
              "      <td>0.093957</td>\n",
              "      <td>...</td>\n",
              "      <td>-0.002753</td>\n",
              "      <td>-0.007834</td>\n",
              "      <td>-0.038417</td>\n",
              "      <td>-0.068083</td>\n",
              "      <td>-0.097381</td>\n",
              "      <td>-0.097071</td>\n",
              "      <td>-0.120045</td>\n",
              "      <td>-0.136185</td>\n",
              "      <td>-0.128373</td>\n",
              "      <td>-0.151570</td>\n",
              "    </tr>\n",
              "    <tr>\n",
              "      <th>4</th>\n",
              "      <td>0.355123</td>\n",
              "      <td>0.204678</td>\n",
              "      <td>0.151043</td>\n",
              "      <td>0.103886</td>\n",
              "      <td>0.094746</td>\n",
              "      <td>0.095607</td>\n",
              "      <td>0.095236</td>\n",
              "      <td>0.081544</td>\n",
              "      <td>0.092839</td>\n",
              "      <td>0.084731</td>\n",
              "      <td>...</td>\n",
              "      <td>-0.049784</td>\n",
              "      <td>-0.065269</td>\n",
              "      <td>-0.083128</td>\n",
              "      <td>-0.112534</td>\n",
              "      <td>-0.154723</td>\n",
              "      <td>-0.165015</td>\n",
              "      <td>-0.184009</td>\n",
              "      <td>-0.200689</td>\n",
              "      <td>-0.219317</td>\n",
              "      <td>-0.221165</td>\n",
              "    </tr>\n",
              "  </tbody>\n",
              "</table>\n",
              "<p>5 rows × 70 columns</p>\n",
              "</div>\n",
              "      <button class=\"colab-df-convert\" onclick=\"convertToInteractive('df-0d0e93e8-6a07-4def-b888-bc51c98ea318')\"\n",
              "              title=\"Convert this dataframe to an interactive table.\"\n",
              "              style=\"display:none;\">\n",
              "        \n",
              "  <svg xmlns=\"http://www.w3.org/2000/svg\" height=\"24px\"viewBox=\"0 0 24 24\"\n",
              "       width=\"24px\">\n",
              "    <path d=\"M0 0h24v24H0V0z\" fill=\"none\"/>\n",
              "    <path d=\"M18.56 5.44l.94 2.06.94-2.06 2.06-.94-2.06-.94-.94-2.06-.94 2.06-2.06.94zm-11 1L8.5 8.5l.94-2.06 2.06-.94-2.06-.94L8.5 2.5l-.94 2.06-2.06.94zm10 10l.94 2.06.94-2.06 2.06-.94-2.06-.94-.94-2.06-.94 2.06-2.06.94z\"/><path d=\"M17.41 7.96l-1.37-1.37c-.4-.4-.92-.59-1.43-.59-.52 0-1.04.2-1.43.59L10.3 9.45l-7.72 7.72c-.78.78-.78 2.05 0 2.83L4 21.41c.39.39.9.59 1.41.59.51 0 1.02-.2 1.41-.59l7.78-7.78 2.81-2.81c.8-.78.8-2.07 0-2.86zM5.41 20L4 18.59l7.72-7.72 1.47 1.35L5.41 20z\"/>\n",
              "  </svg>\n",
              "      </button>\n",
              "      \n",
              "  <style>\n",
              "    .colab-df-container {\n",
              "      display:flex;\n",
              "      flex-wrap:wrap;\n",
              "      gap: 12px;\n",
              "    }\n",
              "\n",
              "    .colab-df-convert {\n",
              "      background-color: #E8F0FE;\n",
              "      border: none;\n",
              "      border-radius: 50%;\n",
              "      cursor: pointer;\n",
              "      display: none;\n",
              "      fill: #1967D2;\n",
              "      height: 32px;\n",
              "      padding: 0 0 0 0;\n",
              "      width: 32px;\n",
              "    }\n",
              "\n",
              "    .colab-df-convert:hover {\n",
              "      background-color: #E2EBFA;\n",
              "      box-shadow: 0px 1px 2px rgba(60, 64, 67, 0.3), 0px 1px 3px 1px rgba(60, 64, 67, 0.15);\n",
              "      fill: #174EA6;\n",
              "    }\n",
              "\n",
              "    [theme=dark] .colab-df-convert {\n",
              "      background-color: #3B4455;\n",
              "      fill: #D2E3FC;\n",
              "    }\n",
              "\n",
              "    [theme=dark] .colab-df-convert:hover {\n",
              "      background-color: #434B5C;\n",
              "      box-shadow: 0px 1px 3px 1px rgba(0, 0, 0, 0.15);\n",
              "      filter: drop-shadow(0px 1px 2px rgba(0, 0, 0, 0.3));\n",
              "      fill: #FFFFFF;\n",
              "    }\n",
              "  </style>\n",
              "\n",
              "      <script>\n",
              "        const buttonEl =\n",
              "          document.querySelector('#df-0d0e93e8-6a07-4def-b888-bc51c98ea318 button.colab-df-convert');\n",
              "        buttonEl.style.display =\n",
              "          google.colab.kernel.accessAllowed ? 'block' : 'none';\n",
              "\n",
              "        async function convertToInteractive(key) {\n",
              "          const element = document.querySelector('#df-0d0e93e8-6a07-4def-b888-bc51c98ea318');\n",
              "          const dataTable =\n",
              "            await google.colab.kernel.invokeFunction('convertToInteractive',\n",
              "                                                     [key], {});\n",
              "          if (!dataTable) return;\n",
              "\n",
              "          const docLinkHtml = 'Like what you see? Visit the ' +\n",
              "            '<a target=\"_blank\" href=https://colab.research.google.com/notebooks/data_table.ipynb>data table notebook</a>'\n",
              "            + ' to learn more about interactive tables.';\n",
              "          element.innerHTML = '';\n",
              "          dataTable['output_type'] = 'display_data';\n",
              "          await google.colab.output.renderOutput(dataTable, element);\n",
              "          const docLink = document.createElement('div');\n",
              "          docLink.innerHTML = docLinkHtml;\n",
              "          element.appendChild(docLink);\n",
              "        }\n",
              "      </script>\n",
              "    </div>\n",
              "  </div>\n",
              "  "
            ]
          },
          "metadata": {},
          "execution_count": 50
        }
      ]
    },
    {
      "cell_type": "code",
      "source": [
        "points = omega_data.iloc[:, :].values"
      ],
      "metadata": {
        "id": "WUawIReCk3eX"
      },
      "execution_count": 51,
      "outputs": []
    },
    {
      "cell_type": "code",
      "source": [
        "omega_p = np.mean(np.nan_to_num(points), axis=0) #axis=0 lê as colunas"
      ],
      "metadata": {
        "id": "UcsbkHZdk5Hd"
      },
      "execution_count": 52,
      "outputs": []
    },
    {
      "cell_type": "code",
      "source": [
        "#desvio padrão\n",
        "std = np.std(points, axis=0)"
      ],
      "metadata": {
        "id": "b_pYvF5jlADD"
      },
      "execution_count": 53,
      "outputs": []
    },
    {
      "cell_type": "code",
      "source": [
        "center = list(hist_dd[1])\n",
        "bin_center = []\n",
        "\n",
        "for i in range(0, len(hist_dd[1]) - 1):\n",
        "    bin_center.append((center[i] + center[i + 1]) / 2)"
      ],
      "metadata": {
        "id": "hdbgF_vllDOV"
      },
      "execution_count": 54,
      "outputs": []
    },
    {
      "cell_type": "code",
      "source": [
        "plt.figure(dpi=300)\n",
        "plt.scatter(bin_center, omega_p, s=3)\n",
        "plt.errorbar(bin_center, omega_p, yerr=std, fmt='o', capsize=3, markersize=3, label='Dados')\n",
        "plt.xlabel('$\\\\theta \\ [graus]$')\n",
        "plt.ylabel('$\\\\omega(\\\\theta)$')\n",
        "plt.legend(loc=\"upper right\")\n",
        "plt.axhline(y=0, color='black', linestyle='-', linewidth=0.8)\n",
        "plt.savefig('plot_tpacf.png', format='png')\n",
        "plt.show()"
      ],
      "metadata": {
        "id": "_n7UBQuLlF5p",
        "colab": {
          "base_uri": "https://localhost:8080/",
          "height": 644
        },
        "outputId": "5a77f736-e868-4175-b37a-ab1ac68bc273"
      },
      "execution_count": 55,
      "outputs": [
        {
          "output_type": "display_data",
          "data": {
            "text/plain": [
              "<Figure size 1800x1200 with 1 Axes>"
            ],
            "image/png": "[encoded data removed]"
          },
          "metadata": {
            "needs_background": "light"
          }
        }
      ]
    },
    {
      "cell_type": "code",
      "source": [
        "#ver quanto tempo durou\n",
        "end = time.time()\n",
        "tempo = end - start\n",
        "\n",
        "if int(tempo) >= 3600:\n",
        "    print(f'Execução = {int(tempo) / 3600} hora(s)')\n",
        "elif int(tempo) >= 60:\n",
        "    print(f'Execução = {int(tempo) / 60} minuto(s)')\n",
        "else:\n",
        "    print(f'Execução = {int(tempo)} segundo(s)')"
      ],
      "metadata": {
        "id": "q41BT67SlOCd",
        "colab": {
          "base_uri": "https://localhost:8080/"
        },
        "outputId": "adea2b6b-a843-46ff-c97e-2c96cd8ab897"
      },
      "execution_count": 56,
      "outputs": [
        {
          "output_type": "stream",
          "name": "stdout",
          "text": [
            "Execução = 13.066666666666666 minuto(s)\n"
          ]
        }
      ]
    },
    {
      "cell_type": "code",
      "source": [
        "#diminuir a quantidade de dados e assim observarmos melhor a lei de potência da função de correlação\n",
        "b = 60\n",
        "omega_b = omega_data.iloc[:, 0:b].values\n",
        "omega_pb = np.mean(np.nan_to_num(omega_b), axis=0)\n",
        "std_b = np.std(omega_b, axis=0)\n",
        "\n",
        "center = list(hist_dd[1])\n",
        "bin_centerb = []\n",
        "\n",
        "for i in range(b):\n",
        "    bin_centerb.append((center[i] + center[i + 1]) / 2)"
      ],
      "metadata": {
        "id": "dXLeDxrDlV4J"
      },
      "execution_count": 57,
      "outputs": []
    },
    {
      "cell_type": "code",
      "source": [
        "plt.figure(dpi=300)\n",
        "plt.scatter(bin_centerb, omega_pb, s=3)\n",
        "plt.errorbar(bin_centerb, omega_pb, yerr=std_b, fmt='o', capsize=3, markersize=3, label='Dados')\n",
        "plt.xlabel('$\\\\theta \\ [graus]$')\n",
        "plt.ylabel('$\\\\omega(\\\\theta)$')\n",
        "plt.legend(loc=\"upper right\")\n",
        "plt.axhline(y=0, color='black', linestyle='-', linewidth=0.8)\n",
        "plt.savefig('plot_tpacf.png', format='png')\n",
        "plt.show()"
      ],
      "metadata": {
        "id": "PtMBnYUklZY2",
        "colab": {
          "base_uri": "https://localhost:8080/",
          "height": 658
        },
        "outputId": "40330b60-d517-489e-9b57-3cdb8037785a"
      },
      "execution_count": 58,
      "outputs": [
        {
          "output_type": "display_data",
          "data": {
            "text/plain": [
              "<Figure size 1800x1200 with 1 Axes>"
            ],
            "image/png": "[encoded data removed]"
          },
          "metadata": {
            "needs_background": "light"
          }
        }
      ]
    }
  ]
}