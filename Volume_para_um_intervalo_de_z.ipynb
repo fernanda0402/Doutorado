{
  "nbformat": 4,
  "nbformat_minor": 0,
  "metadata": {
    "colab": {
      "provenance": [],
      "authorship_tag": "ABX9TyPmmRUqMqzqiYyQKLIyDcgX",
      "include_colab_link": true
    },
    "kernelspec": {
      "name": "python3",
      "display_name": "Python 3"
    },
    "language_info": {
      "name": "python"
    }
  },
  "cells": [
    {
      "cell_type": "markdown",
      "metadata": {
        "id": "view-in-github",
        "colab_type": "text"
      },
      "source": [
        "<a href=\"https://colab.research.google.com/github/fernanda0402/Doutorado/blob/main/Volume_para_um_intervalo_de_z.ipynb\" target=\"_parent\"><img src=\"https://colab.research.google.com/assets/colab-badge.svg\" alt=\"Open In Colab\"/></a>"
      ]
    },
    {
      "cell_type": "code",
      "source": [
        "import matplotlib.pyplot as plt\n",
        "import numpy as np"
      ],
      "metadata": {
        "id": "KnHa_K46vc_f"
      },
      "execution_count": 1,
      "outputs": []
    },
    {
      "cell_type": "code",
      "execution_count": null,
      "metadata": {
        "id": "r3R7QCYovMnb"
      },
      "outputs": [],
      "source": [
        "!pip install -q condacolab\n",
        "import condacolab\n",
        "condacolab.install()\n",
        "!mamba install pyccl"
      ]
    },
    {
      "cell_type": "code",
      "source": [
        "import pyccl as ccl"
      ],
      "metadata": {
        "id": "S43wcONWv-h9"
      },
      "execution_count": 3,
      "outputs": []
    },
    {
      "cell_type": "code",
      "source": [
        "cosmo = ccl.Cosmology(\n",
        "    Omega_c=0.2656, Omega_b=0.0494, h=0.6727, sigma8=0.8120, n_s=0.9649)\n",
        "\n",
        "# definir distâncias\n",
        "def dist(z):\n",
        "    \n",
        "    a = 1. / (1. + z)\n",
        "    \n",
        "    r = ccl.comoving_radial_distance(cosmo, a)\n",
        "    \n",
        "    return r*0.6727 # em Mpc"
      ],
      "metadata": {
        "id": "bZtfEkPiwBMT"
      },
      "execution_count": 4,
      "outputs": []
    },
    {
      "cell_type": "code",
      "source": [
        "def dV1(zi, zf, A):\n",
        "    \n",
        "    f = A / 41252.96125  # fração do céu observada pelo survey\n",
        "    #c = 3. * (10 ** 5)\n",
        "    \n",
        "    ri = dist(zi)\n",
        "    rf = dist(zf)\n",
        "    \n",
        "    k = f * 4*np.pi*(1. / 3.)\n",
        "    \n",
        "    dr3 = (rf ** 3) - (ri ** 3)\n",
        "    \n",
        "    dV = (k * dr3) / (10 ** 9)   # o 10**9 em baixo dá o resultado em Gpc\n",
        "    \n",
        "    L = (k * dr3) ** (1. / 3.)  # tamanho do cubo que tem este volume\n",
        "\n",
        "    return dV, L\n",
        "    \n",
        "print(dV1(0.0, 0.4, 7000))    # volume para o z mínimo e máximo"
      ],
      "metadata": {
        "colab": {
          "base_uri": "https://localhost:8080/"
        },
        "id": "ZR5CKWyqwEC6",
        "outputId": "5eafd097-d366-440a-8200-4e51c749464e"
      },
      "execution_count": 7,
      "outputs": [
        {
          "output_type": "stream",
          "name": "stdout",
          "text": [
            "(0.8989736405688724, 965.1222305081604)\n"
          ]
        }
      ]
    }
  ]
}