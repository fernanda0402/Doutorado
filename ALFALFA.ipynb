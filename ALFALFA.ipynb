{
  "nbformat": 4,
  "nbformat_minor": 0,
  "metadata": {
    "colab": {
      "provenance": [],
      "authorship_tag": "ABX9TyMynHmtJzG0ZRGuRkFdldJ6",
      "include_colab_link": true
    },
    "kernelspec": {
      "name": "python3",
      "display_name": "Python 3"
    },
    "language_info": {
      "name": "python"
    }
  },
  "cells": [
    {
      "cell_type": "markdown",
      "metadata": {
        "id": "view-in-github",
        "colab_type": "text"
      },
      "source": [
        "<a href=\"https://colab.research.google.com/github/fernanda0402/Doutorado/blob/main/ALFALFA.ipynb\" target=\"_parent\"><img src=\"https://colab.research.google.com/assets/colab-badge.svg\" alt=\"Open In Colab\"/></a>"
      ]
    },
    {
      "cell_type": "markdown",
      "source": [
        "A partir dos dados do Hemisfério Norte do ALFALFA, vamos calcular $\\delta_m$. Para isso, vamos calcular a densidade $\\rho_i$ por cascas de raio igual a 10 Mpc. São fornecidos os valores das massas dos objetos e sabemos que o volume de cada casca é dado por:\n",
        "\n",
        "$V_{casca} = \\frac{V_E ^{maior} - V_E ^{menor}}{\\theta/180º}$,\n",
        "\n",
        "em que $\\theta$ é o ângulo de abertura do cone. No caso do Hemisfério Norte, $\\theta$ = 135º.\n",
        "\n",
        "Logo, tendo os dados da massa e conhecendo o volume por casca, é possível calcular $\\rho_i$."
      ],
      "metadata": {
        "id": "04IPw_eBCDOl"
      }
    },
    {
      "cell_type": "code",
      "execution_count": 121,
      "metadata": {
        "id": "4sxI2HDv-Mhs"
      },
      "outputs": [],
      "source": [
        "import urllib.request #usar biblioteca Pandas para ler o arquivo como um DataFrame e pular a primeira linha com o cabeçalho\n",
        "import pandas as pd\n",
        "import matplotlib.pyplot as plt\n",
        "import numpy as np\n",
        "from scipy.optimize import curve_fit\n",
        "import sympy as sm\n",
        "import scipy as sp\n",
        "import math\n",
        "from matplotlib import rc"
      ]
    },
    {
      "cell_type": "code",
      "source": [
        "# extraindo os dados do drive\n",
        "from google.colab import drive\n",
        "drive.mount('/content/drive')"
      ],
      "metadata": {
        "id": "jZoN1EK_-VgT",
        "colab": {
          "base_uri": "https://localhost:8080/"
        },
        "outputId": "9cf0e160-0f64-4f53-a40e-9ca298b68c85"
      },
      "execution_count": 122,
      "outputs": [
        {
          "output_type": "stream",
          "name": "stdout",
          "text": [
            "Drive already mounted at /content/drive; to attempt to forcibly remount, call drive.mount(\"/content/drive\", force_remount=True).\n"
          ]
        }
      ]
    },
    {
      "cell_type": "code",
      "source": [
        "alfalfa = pd.read_csv('/content/drive/MyDrive/Colab Notebooks/a100.code12.table2.190808_modificado_code1_RA_110-250 - HN.csv', sep=',')\n",
        "alfalfa"
      ],
      "metadata": {
        "colab": {
          "base_uri": "https://localhost:8080/",
          "height": 488
        },
        "id": "FjHFnw2m_0W7",
        "outputId": "41548328-9860-4119-e5e7-1920c311b456"
      },
      "execution_count": 123,
      "outputs": [
        {
          "output_type": "execute_result",
          "data": {
            "text/plain": [
              "        AGCNr      Name   RAdeg_HI  DECdeg_HI   RAdeg_OC  DECdeg_OC  Vhelio  \\\n",
              "0      174577  ........  110.34333    7.92194  110.34583    7.92139    4930   \n",
              "1       12926  FGC.629.  111.14958    6.15028  111.15000    6.14889    3845   \n",
              "2        3839  057-011.  111.29124    9.51167  111.29333    9.51583    5264   \n",
              "3      170326  057-010.  111.31000    9.20750  111.29708    9.20444   14002   \n",
              "4      174578  ........  111.35708    9.80444  111.35792    9.80472    8564   \n",
              "...       ...       ...        ...        ...        ...        ...     ...   \n",
              "16280   10495  052-057.  249.85791    7.29056  249.86082    7.28444   13519   \n",
              "16281  265128  ........  250.00792   24.03417  250.00456   24.03278   10983   \n",
              "16282  262738  ........  250.08748   28.47222  250.09248   28.47167     964   \n",
              "16283  262737  ........  250.09291   28.76417  250.08917   28.76556     963   \n",
              "16284  265166  ........  250.18289   26.29111  250.19583   26.28889   16415   \n",
              "\n",
              "       W50  sigW  W20  HIflux  sigflux   SNR   RMS   Dist  sigDist  logMH  \\\n",
              "0      209     6  236    3.33     0.10  20.9  2.46   72.2      2.3   9.61   \n",
              "1      226     5  244    3.77     0.13  16.5  3.39   57.3      2.2   9.46   \n",
              "2      200     5  215    3.14     0.09  19.6  2.53   76.8      2.4   9.64   \n",
              "3      218    70  269    1.97     0.12  11.5  2.59  202.8      2.2  10.28   \n",
              "4      135     9  166    3.15     0.08  22.5  2.69  125.1      2.2  10.06   \n",
              "...    ...   ...  ...     ...      ...   ...   ...    ...      ...    ...   \n",
              "16280  495    21  514    2.86     0.16   8.8  2.92  193.8      2.1  10.40   \n",
              "16281  204    22  216    2.13     0.12  10.2  3.28  157.3      2.3  10.09   \n",
              "16282   32    11   71    0.60     0.05  10.5  2.16   18.6      2.3   7.69   \n",
              "16283   80     2   92    4.23     0.09  29.1  3.59   18.6      2.2   8.54   \n",
              "16284  246    43  260    1.07     0.09   6.8  2.23  234.8      2.3  10.14   \n",
              "\n",
              "       siglogMH  HIcode  \n",
              "0          0.05       1  \n",
              "1          0.06       1  \n",
              "2          0.05       1  \n",
              "3          0.05       1  \n",
              "4          0.05       1  \n",
              "...         ...     ...  \n",
              "16280      0.05       1  \n",
              "16281      0.05       1  \n",
              "16282      0.12       1  \n",
              "16283      0.11       1  \n",
              "16284      0.06       1  \n",
              "\n",
              "[16285 rows x 19 columns]"
            ],
            "text/html": [
              "\n",
              "  <div id=\"df-667d7b05-9fe1-4f26-9a4d-9778be7b51cd\">\n",
              "    <div class=\"colab-df-container\">\n",
              "      <div>\n",
              "<style scoped>\n",
              "    .dataframe tbody tr th:only-of-type {\n",
              "        vertical-align: middle;\n",
              "    }\n",
              "\n",
              "    .dataframe tbody tr th {\n",
              "        vertical-align: top;\n",
              "    }\n",
              "\n",
              "    .dataframe thead th {\n",
              "        text-align: right;\n",
              "    }\n",
              "</style>\n",
              "<table border=\"1\" class=\"dataframe\">\n",
              "  <thead>\n",
              "    <tr style=\"text-align: right;\">\n",
              "      <th></th>\n",
              "      <th>AGCNr</th>\n",
              "      <th>Name</th>\n",
              "      <th>RAdeg_HI</th>\n",
              "      <th>DECdeg_HI</th>\n",
              "      <th>RAdeg_OC</th>\n",
              "      <th>DECdeg_OC</th>\n",
              "      <th>Vhelio</th>\n",
              "      <th>W50</th>\n",
              "      <th>sigW</th>\n",
              "      <th>W20</th>\n",
              "      <th>HIflux</th>\n",
              "      <th>sigflux</th>\n",
              "      <th>SNR</th>\n",
              "      <th>RMS</th>\n",
              "      <th>Dist</th>\n",
              "      <th>sigDist</th>\n",
              "      <th>logMH</th>\n",
              "      <th>siglogMH</th>\n",
              "      <th>HIcode</th>\n",
              "    </tr>\n",
              "  </thead>\n",
              "  <tbody>\n",
              "    <tr>\n",
              "      <th>0</th>\n",
              "      <td>174577</td>\n",
              "      <td>........</td>\n",
              "      <td>110.34333</td>\n",
              "      <td>7.92194</td>\n",
              "      <td>110.34583</td>\n",
              "      <td>7.92139</td>\n",
              "      <td>4930</td>\n",
              "      <td>209</td>\n",
              "      <td>6</td>\n",
              "      <td>236</td>\n",
              "      <td>3.33</td>\n",
              "      <td>0.10</td>\n",
              "      <td>20.9</td>\n",
              "      <td>2.46</td>\n",
              "      <td>72.2</td>\n",
              "      <td>2.3</td>\n",
              "      <td>9.61</td>\n",
              "      <td>0.05</td>\n",
              "      <td>1</td>\n",
              "    </tr>\n",
              "    <tr>\n",
              "      <th>1</th>\n",
              "      <td>12926</td>\n",
              "      <td>FGC.629.</td>\n",
              "      <td>111.14958</td>\n",
              "      <td>6.15028</td>\n",
              "      <td>111.15000</td>\n",
              "      <td>6.14889</td>\n",
              "      <td>3845</td>\n",
              "      <td>226</td>\n",
              "      <td>5</td>\n",
              "      <td>244</td>\n",
              "      <td>3.77</td>\n",
              "      <td>0.13</td>\n",
              "      <td>16.5</td>\n",
              "      <td>3.39</td>\n",
              "      <td>57.3</td>\n",
              "      <td>2.2</td>\n",
              "      <td>9.46</td>\n",
              "      <td>0.06</td>\n",
              "      <td>1</td>\n",
              "    </tr>\n",
              "    <tr>\n",
              "      <th>2</th>\n",
              "      <td>3839</td>\n",
              "      <td>057-011.</td>\n",
              "      <td>111.29124</td>\n",
              "      <td>9.51167</td>\n",
              "      <td>111.29333</td>\n",
              "      <td>9.51583</td>\n",
              "      <td>5264</td>\n",
              "      <td>200</td>\n",
              "      <td>5</td>\n",
              "      <td>215</td>\n",
              "      <td>3.14</td>\n",
              "      <td>0.09</td>\n",
              "      <td>19.6</td>\n",
              "      <td>2.53</td>\n",
              "      <td>76.8</td>\n",
              "      <td>2.4</td>\n",
              "      <td>9.64</td>\n",
              "      <td>0.05</td>\n",
              "      <td>1</td>\n",
              "    </tr>\n",
              "    <tr>\n",
              "      <th>3</th>\n",
              "      <td>170326</td>\n",
              "      <td>057-010.</td>\n",
              "      <td>111.31000</td>\n",
              "      <td>9.20750</td>\n",
              "      <td>111.29708</td>\n",
              "      <td>9.20444</td>\n",
              "      <td>14002</td>\n",
              "      <td>218</td>\n",
              "      <td>70</td>\n",
              "      <td>269</td>\n",
              "      <td>1.97</td>\n",
              "      <td>0.12</td>\n",
              "      <td>11.5</td>\n",
              "      <td>2.59</td>\n",
              "      <td>202.8</td>\n",
              "      <td>2.2</td>\n",
              "      <td>10.28</td>\n",
              "      <td>0.05</td>\n",
              "      <td>1</td>\n",
              "    </tr>\n",
              "    <tr>\n",
              "      <th>4</th>\n",
              "      <td>174578</td>\n",
              "      <td>........</td>\n",
              "      <td>111.35708</td>\n",
              "      <td>9.80444</td>\n",
              "      <td>111.35792</td>\n",
              "      <td>9.80472</td>\n",
              "      <td>8564</td>\n",
              "      <td>135</td>\n",
              "      <td>9</td>\n",
              "      <td>166</td>\n",
              "      <td>3.15</td>\n",
              "      <td>0.08</td>\n",
              "      <td>22.5</td>\n",
              "      <td>2.69</td>\n",
              "      <td>125.1</td>\n",
              "      <td>2.2</td>\n",
              "      <td>10.06</td>\n",
              "      <td>0.05</td>\n",
              "      <td>1</td>\n",
              "    </tr>\n",
              "    <tr>\n",
              "      <th>...</th>\n",
              "      <td>...</td>\n",
              "      <td>...</td>\n",
              "      <td>...</td>\n",
              "      <td>...</td>\n",
              "      <td>...</td>\n",
              "      <td>...</td>\n",
              "      <td>...</td>\n",
              "      <td>...</td>\n",
              "      <td>...</td>\n",
              "      <td>...</td>\n",
              "      <td>...</td>\n",
              "      <td>...</td>\n",
              "      <td>...</td>\n",
              "      <td>...</td>\n",
              "      <td>...</td>\n",
              "      <td>...</td>\n",
              "      <td>...</td>\n",
              "      <td>...</td>\n",
              "      <td>...</td>\n",
              "    </tr>\n",
              "    <tr>\n",
              "      <th>16280</th>\n",
              "      <td>10495</td>\n",
              "      <td>052-057.</td>\n",
              "      <td>249.85791</td>\n",
              "      <td>7.29056</td>\n",
              "      <td>249.86082</td>\n",
              "      <td>7.28444</td>\n",
              "      <td>13519</td>\n",
              "      <td>495</td>\n",
              "      <td>21</td>\n",
              "      <td>514</td>\n",
              "      <td>2.86</td>\n",
              "      <td>0.16</td>\n",
              "      <td>8.8</td>\n",
              "      <td>2.92</td>\n",
              "      <td>193.8</td>\n",
              "      <td>2.1</td>\n",
              "      <td>10.40</td>\n",
              "      <td>0.05</td>\n",
              "      <td>1</td>\n",
              "    </tr>\n",
              "    <tr>\n",
              "      <th>16281</th>\n",
              "      <td>265128</td>\n",
              "      <td>........</td>\n",
              "      <td>250.00792</td>\n",
              "      <td>24.03417</td>\n",
              "      <td>250.00456</td>\n",
              "      <td>24.03278</td>\n",
              "      <td>10983</td>\n",
              "      <td>204</td>\n",
              "      <td>22</td>\n",
              "      <td>216</td>\n",
              "      <td>2.13</td>\n",
              "      <td>0.12</td>\n",
              "      <td>10.2</td>\n",
              "      <td>3.28</td>\n",
              "      <td>157.3</td>\n",
              "      <td>2.3</td>\n",
              "      <td>10.09</td>\n",
              "      <td>0.05</td>\n",
              "      <td>1</td>\n",
              "    </tr>\n",
              "    <tr>\n",
              "      <th>16282</th>\n",
              "      <td>262738</td>\n",
              "      <td>........</td>\n",
              "      <td>250.08748</td>\n",
              "      <td>28.47222</td>\n",
              "      <td>250.09248</td>\n",
              "      <td>28.47167</td>\n",
              "      <td>964</td>\n",
              "      <td>32</td>\n",
              "      <td>11</td>\n",
              "      <td>71</td>\n",
              "      <td>0.60</td>\n",
              "      <td>0.05</td>\n",
              "      <td>10.5</td>\n",
              "      <td>2.16</td>\n",
              "      <td>18.6</td>\n",
              "      <td>2.3</td>\n",
              "      <td>7.69</td>\n",
              "      <td>0.12</td>\n",
              "      <td>1</td>\n",
              "    </tr>\n",
              "    <tr>\n",
              "      <th>16283</th>\n",
              "      <td>262737</td>\n",
              "      <td>........</td>\n",
              "      <td>250.09291</td>\n",
              "      <td>28.76417</td>\n",
              "      <td>250.08917</td>\n",
              "      <td>28.76556</td>\n",
              "      <td>963</td>\n",
              "      <td>80</td>\n",
              "      <td>2</td>\n",
              "      <td>92</td>\n",
              "      <td>4.23</td>\n",
              "      <td>0.09</td>\n",
              "      <td>29.1</td>\n",
              "      <td>3.59</td>\n",
              "      <td>18.6</td>\n",
              "      <td>2.2</td>\n",
              "      <td>8.54</td>\n",
              "      <td>0.11</td>\n",
              "      <td>1</td>\n",
              "    </tr>\n",
              "    <tr>\n",
              "      <th>16284</th>\n",
              "      <td>265166</td>\n",
              "      <td>........</td>\n",
              "      <td>250.18289</td>\n",
              "      <td>26.29111</td>\n",
              "      <td>250.19583</td>\n",
              "      <td>26.28889</td>\n",
              "      <td>16415</td>\n",
              "      <td>246</td>\n",
              "      <td>43</td>\n",
              "      <td>260</td>\n",
              "      <td>1.07</td>\n",
              "      <td>0.09</td>\n",
              "      <td>6.8</td>\n",
              "      <td>2.23</td>\n",
              "      <td>234.8</td>\n",
              "      <td>2.3</td>\n",
              "      <td>10.14</td>\n",
              "      <td>0.06</td>\n",
              "      <td>1</td>\n",
              "    </tr>\n",
              "  </tbody>\n",
              "</table>\n",
              "<p>16285 rows × 19 columns</p>\n",
              "</div>\n",
              "      <button class=\"colab-df-convert\" onclick=\"convertToInteractive('df-667d7b05-9fe1-4f26-9a4d-9778be7b51cd')\"\n",
              "              title=\"Convert this dataframe to an interactive table.\"\n",
              "              style=\"display:none;\">\n",
              "        \n",
              "  <svg xmlns=\"http://www.w3.org/2000/svg\" height=\"24px\"viewBox=\"0 0 24 24\"\n",
              "       width=\"24px\">\n",
              "    <path d=\"M0 0h24v24H0V0z\" fill=\"none\"/>\n",
              "    <path d=\"M18.56 5.44l.94 2.06.94-2.06 2.06-.94-2.06-.94-.94-2.06-.94 2.06-2.06.94zm-11 1L8.5 8.5l.94-2.06 2.06-.94-2.06-.94L8.5 2.5l-.94 2.06-2.06.94zm10 10l.94 2.06.94-2.06 2.06-.94-2.06-.94-.94-2.06-.94 2.06-2.06.94z\"/><path d=\"M17.41 7.96l-1.37-1.37c-.4-.4-.92-.59-1.43-.59-.52 0-1.04.2-1.43.59L10.3 9.45l-7.72 7.72c-.78.78-.78 2.05 0 2.83L4 21.41c.39.39.9.59 1.41.59.51 0 1.02-.2 1.41-.59l7.78-7.78 2.81-2.81c.8-.78.8-2.07 0-2.86zM5.41 20L4 18.59l7.72-7.72 1.47 1.35L5.41 20z\"/>\n",
              "  </svg>\n",
              "      </button>\n",
              "      \n",
              "  <style>\n",
              "    .colab-df-container {\n",
              "      display:flex;\n",
              "      flex-wrap:wrap;\n",
              "      gap: 12px;\n",
              "    }\n",
              "\n",
              "    .colab-df-convert {\n",
              "      background-color: #E8F0FE;\n",
              "      border: none;\n",
              "      border-radius: 50%;\n",
              "      cursor: pointer;\n",
              "      display: none;\n",
              "      fill: #1967D2;\n",
              "      height: 32px;\n",
              "      padding: 0 0 0 0;\n",
              "      width: 32px;\n",
              "    }\n",
              "\n",
              "    .colab-df-convert:hover {\n",
              "      background-color: #E2EBFA;\n",
              "      box-shadow: 0px 1px 2px rgba(60, 64, 67, 0.3), 0px 1px 3px 1px rgba(60, 64, 67, 0.15);\n",
              "      fill: #174EA6;\n",
              "    }\n",
              "\n",
              "    [theme=dark] .colab-df-convert {\n",
              "      background-color: #3B4455;\n",
              "      fill: #D2E3FC;\n",
              "    }\n",
              "\n",
              "    [theme=dark] .colab-df-convert:hover {\n",
              "      background-color: #434B5C;\n",
              "      box-shadow: 0px 1px 3px 1px rgba(0, 0, 0, 0.15);\n",
              "      filter: drop-shadow(0px 1px 2px rgba(0, 0, 0, 0.3));\n",
              "      fill: #FFFFFF;\n",
              "    }\n",
              "  </style>\n",
              "\n",
              "      <script>\n",
              "        const buttonEl =\n",
              "          document.querySelector('#df-667d7b05-9fe1-4f26-9a4d-9778be7b51cd button.colab-df-convert');\n",
              "        buttonEl.style.display =\n",
              "          google.colab.kernel.accessAllowed ? 'block' : 'none';\n",
              "\n",
              "        async function convertToInteractive(key) {\n",
              "          const element = document.querySelector('#df-667d7b05-9fe1-4f26-9a4d-9778be7b51cd');\n",
              "          const dataTable =\n",
              "            await google.colab.kernel.invokeFunction('convertToInteractive',\n",
              "                                                     [key], {});\n",
              "          if (!dataTable) return;\n",
              "\n",
              "          const docLinkHtml = 'Like what you see? Visit the ' +\n",
              "            '<a target=\"_blank\" href=https://colab.research.google.com/notebooks/data_table.ipynb>data table notebook</a>'\n",
              "            + ' to learn more about interactive tables.';\n",
              "          element.innerHTML = '';\n",
              "          dataTable['output_type'] = 'display_data';\n",
              "          await google.colab.output.renderOutput(dataTable, element);\n",
              "          const docLink = document.createElement('div');\n",
              "          docLink.innerHTML = docLinkHtml;\n",
              "          element.appendChild(docLink);\n",
              "        }\n",
              "      </script>\n",
              "    </div>\n",
              "  </div>\n",
              "  "
            ]
          },
          "metadata": {},
          "execution_count": 123
        }
      ]
    },
    {
      "cell_type": "code",
      "source": [
        "# nomeando dados/colunas\n",
        "massa = alfalfa['logMH']\n",
        "distancia = alfalfa['Dist']\n",
        "\n",
        "# definindo constantes\n",
        "c = 2.9*10**5 # velocidade da luz\n",
        "h0 = 70 #km/s/Mpc\n",
        "\n",
        "# definindo o redshift\n",
        "z = (distancia*h0)/c\n",
        "\n",
        "# vamos verificar os valores máximo e mínimo do redshift\n",
        "print('O valor máximo do redshift é', z.max())\n",
        "print('O valor mínimo do redshift é', z.min())\n",
        "\n",
        "# agora vamos verificar o valor máximo da distância para saber até qual distância faremos o corte\n",
        "print('O valor máximo de distância é', distancia.max())"
      ],
      "metadata": {
        "colab": {
          "base_uri": "https://localhost:8080/"
        },
        "id": "V5igAYyNAAfo",
        "outputId": "71d24873-b595-4ccb-9067-4334b8c4c915"
      },
      "execution_count": 124,
      "outputs": [
        {
          "output_type": "stream",
          "name": "stdout",
          "text": [
            "O valor máximo do redshift é 0.062155172413793106\n",
            "O valor mínimo do redshift é 9.655172413793103e-05\n",
            "O valor máximo de distância é 257.5\n"
          ]
        }
      ]
    },
    {
      "cell_type": "code",
      "source": [
        "# histograma dos dados\n",
        "values = pd.DataFrame(distancia)\n",
        "values.hist( bins=100, color='turquoise', figsize=(8, 8))"
      ],
      "metadata": {
        "colab": {
          "base_uri": "https://localhost:8080/",
          "height": 717
        },
        "id": "ZzMCFHuhBbAt",
        "outputId": "5257b195-d1f6-4a5f-8a44-26d68a02f084"
      },
      "execution_count": 125,
      "outputs": [
        {
          "output_type": "execute_result",
          "data": {
            "text/plain": [
              "array([[<Axes: title={'center': 'Dist'}>]], dtype=object)"
            ]
          },
          "metadata": {},
          "execution_count": 125
        },
        {
          "output_type": "display_data",
          "data": {
            "text/plain": [
              "<Figure size 800x800 with 1 Axes>"
            ],
            "image/png": "[encoded data removed]"
          },
          "metadata": {}
        }
      ]
    },
    {
      "cell_type": "markdown",
      "source": [
        "Vamos fazer o primeiro recorte: entre 10 Mpc e 20 Mpc."
      ],
      "metadata": {
        "id": "nmtMa1-YNB2H"
      }
    },
    {
      "cell_type": "code",
      "source": [
        "mask = (distancia <= 20) & (distancia >= 10)\n",
        "distancia_mask = distancia[mask]\n",
        "massa_mask = np.sum(massa[mask])\n",
        "print(len(distancia_mask))  # quantidade de dados entre 10 e 20 Mpc\n",
        "\n",
        "volume_casca1 = ((4*np.pi*(20**3))/3 - (4*np.pi*(10**3))/3)/(135/180)\n",
        "print(volume_casca1)\n",
        "\n",
        "densidade_casca1 = massa_mask/volume_casca1\n",
        "print(densidade_casca1)"
      ],
      "metadata": {
        "colab": {
          "base_uri": "https://localhost:8080/"
        },
        "id": "a_hUxKpRNDwN",
        "outputId": "5c60a677-7dde-4685-cc01-3f53caacb50a"
      },
      "execution_count": 126,
      "outputs": [
        {
          "output_type": "stream",
          "name": "stdout",
          "text": [
            "695\n",
            "39095.375244672985\n",
            "0.14491483876400352\n"
          ]
        }
      ]
    },
    {
      "cell_type": "markdown",
      "source": [
        "Vamos fazer o segundo recorte: entre 20 Mpc e 30 Mpc."
      ],
      "metadata": {
        "id": "v3iqNA_gPcRC"
      }
    },
    {
      "cell_type": "code",
      "source": [
        "mask2 = (distancia <= 30) & (distancia >= 20)\n",
        "distancia_mask2 = distancia[mask2]\n",
        "massa_mask2 = np.sum(massa[mask2])\n",
        "print(len(distancia_mask2))   # quantidade de dados entre 20 e 30 Mpc\n",
        "\n",
        "volume_casca2 = ((4*np.pi*(30**3))/3 - (4*np.pi*(20**3))/3)/(135/180)\n",
        "print(volume_casca2)\n",
        "\n",
        "densidade_casca2 = massa_mask2/volume_casca2\n",
        "print(densidade_casca2)"
      ],
      "metadata": {
        "colab": {
          "base_uri": "https://localhost:8080/"
        },
        "id": "p56kAHadPhap",
        "outputId": "6764d5c5-14f2-40cb-b74d-5ae5864fce73"
      },
      "execution_count": 127,
      "outputs": [
        {
          "output_type": "stream",
          "name": "stdout",
          "text": [
            "681\n",
            "106116.01852125523\n",
            "0.05487588095696977\n"
          ]
        }
      ]
    },
    {
      "cell_type": "markdown",
      "source": [
        "Vamos fazer o terceiro recorte: entre 30 Mpc e 40 Mpc."
      ],
      "metadata": {
        "id": "IWOol1X6R7ET"
      }
    },
    {
      "cell_type": "code",
      "source": [
        "mask3 = (distancia <= 40) & (distancia >= 30)\n",
        "distancia_mask3 = distancia[mask3]\n",
        "massa_mask3 = np.sum(massa[mask3])\n",
        "print(len(distancia_mask3))  # quantidade de dados entre 30 e 40 Mpc\n",
        "\n",
        "volume_casca3 = ((4*np.pi*(40**3))/3 - (4*np.pi*(30**3))/3)/(135/180)\n",
        "print(volume_casca3)\n",
        "\n",
        "densidade_casca3 = massa_mask3/volume_casca3\n",
        "print(densidade_casca3)"
      ],
      "metadata": {
        "colab": {
          "base_uri": "https://localhost:8080/"
        },
        "id": "5LGKgTKCR91T",
        "outputId": "13c7d84c-a36f-47bd-c210-791a25dbc334"
      },
      "execution_count": 128,
      "outputs": [
        {
          "output_type": "stream",
          "name": "stdout",
          "text": [
            "490\n",
            "206646.9834361286\n",
            "0.02084845337861716\n"
          ]
        }
      ]
    },
    {
      "cell_type": "markdown",
      "source": [
        "Vamos fazer o quarto recorte: entre 40 Mpc e 50 Mpc."
      ],
      "metadata": {
        "id": "qz1UeBatSi49"
      }
    },
    {
      "cell_type": "code",
      "source": [
        "mask4 = (distancia <= 50) & (distancia >= 40)\n",
        "distancia_mask4 = distancia[mask4]\n",
        "massa_mask4 = np.sum(massa[mask4])\n",
        "print(len(distancia_mask4))  # quantidade de dados entre 30 e 40 Mpc\n",
        "\n",
        "volume_casca4 = ((4*np.pi*(50**3))/3 - (4*np.pi*(40**3))/3)/(135/180)\n",
        "print(volume_casca4)\n",
        "\n",
        "densidade_casca4 = massa_mask4/volume_casca4\n",
        "print(densidade_casca4)"
      ],
      "metadata": {
        "colab": {
          "base_uri": "https://localhost:8080/"
        },
        "id": "0Qs7EthmSoJ9",
        "outputId": "4d317418-5ace-4207-8feb-85b50402a0f3"
      },
      "execution_count": 129,
      "outputs": [
        {
          "output_type": "stream",
          "name": "stdout",
          "text": [
            "413\n",
            "340688.26998929307\n",
            "0.01092145027510614\n"
          ]
        }
      ]
    },
    {
      "cell_type": "markdown",
      "source": [
        "Vamos fazer o quinto recorte: entre 50 Mpc e 60 Mpc."
      ],
      "metadata": {
        "id": "scp1HU-HTJ-f"
      }
    },
    {
      "cell_type": "code",
      "source": [
        "mask5 = (distancia <= 60) & (distancia >= 50)\n",
        "distancia_mask5 = distancia[mask5]\n",
        "massa_mask5 = np.sum(massa[mask5])\n",
        "print(len(distancia_mask5))  # quantidade de dados entre 30 e 40 Mpc\n",
        "\n",
        "volume_casca5 = ((4*np.pi*(60**3))/3 - (4*np.pi*(50**3))/3)/(135/180)\n",
        "print(volume_casca5)\n",
        "\n",
        "densidade_casca5 = massa_mask5/volume_casca5\n",
        "print(densidade_casca5)"
      ],
      "metadata": {
        "colab": {
          "base_uri": "https://localhost:8080/"
        },
        "id": "JSMoWMjWTNuC",
        "outputId": "bc6cf0d6-ce65-4e33-8574-2324551bdb00"
      },
      "execution_count": 130,
      "outputs": [
        {
          "output_type": "stream",
          "name": "stdout",
          "text": [
            "548\n",
            "508239.87818074884\n",
            "0.009830141660436992\n"
          ]
        }
      ]
    },
    {
      "cell_type": "markdown",
      "source": [
        "Vamos fazer o sexto recorte: entre 60 Mpc e 70 Mpc."
      ],
      "metadata": {
        "id": "v85QEBXjTXtE"
      }
    },
    {
      "cell_type": "code",
      "source": [
        "mask6 = (distancia <= 70) & (distancia >= 60)\n",
        "distancia_mask6 = distancia[mask6]\n",
        "massa_mask6 = np.sum(massa[mask6])\n",
        "print(len(distancia_mask6))  # quantidade de dados entre 30 e 40 Mpc\n",
        "\n",
        "volume_casca6 = ((4*np.pi*(70**3))/3 - (4*np.pi*(60**3))/3)/(135/180)\n",
        "print(volume_casca6)\n",
        "\n",
        "densidade_casca6 = massa_mask6/volume_casca6\n",
        "print(densidade_casca6)"
      ],
      "metadata": {
        "colab": {
          "base_uri": "https://localhost:8080/"
        },
        "id": "YLO2ZzLQTbRo",
        "outputId": "b8e83868-e5b8-4ecd-c6dc-3979571954e8"
      },
      "execution_count": 131,
      "outputs": [
        {
          "output_type": "stream",
          "name": "stdout",
          "text": [
            "743\n",
            "709301.8080104954\n",
            "0.009663629674405929\n"
          ]
        }
      ]
    },
    {
      "cell_type": "markdown",
      "source": [
        "Vamos fazer o sétimo recorte: entre 70 Mpc e 80 Mpc."
      ],
      "metadata": {
        "id": "JadyhCr6m_jD"
      }
    },
    {
      "cell_type": "code",
      "source": [
        "mask7 = (distancia <= 80) & (distancia >= 70)\n",
        "distancia_mask7 = distancia[mask7]\n",
        "massa_mask7 = np.sum(massa[mask7])\n",
        "print(len(distancia_mask7))  # quantidade de dados entre 30 e 40 Mpc\n",
        "\n",
        "volume_casca7 = ((4*np.pi*(80**3))/3 - (4*np.pi*(70**3))/3)/(135/180)\n",
        "print(volume_casca7)\n",
        "\n",
        "densidade_casca7 = massa_mask7/volume_casca7\n",
        "print(densidade_casca7)"
      ],
      "metadata": {
        "colab": {
          "base_uri": "https://localhost:8080/"
        },
        "id": "xvv-V67lnDEh",
        "outputId": "dadc5f0c-6448-4901-e192-acbc0500b739"
      },
      "execution_count": 132,
      "outputs": [
        {
          "output_type": "stream",
          "name": "stdout",
          "text": [
            "715\n",
            "943874.0594785335\n",
            "0.007066832627739677\n"
          ]
        }
      ]
    },
    {
      "cell_type": "markdown",
      "source": [
        "Vamos fazer o oitavo corte: 80 Mpc a 90 Mpc"
      ],
      "metadata": {
        "id": "u9KwkLDgnN5S"
      }
    },
    {
      "cell_type": "code",
      "source": [
        "mask8 = (distancia <= 90) & (distancia >= 80)\n",
        "distancia_mask8 = distancia[mask8]\n",
        "massa_mask8 = np.sum(massa[mask8])\n",
        "print(len(distancia_mask8))  # quantidade de dados entre 30 e 40 Mpc\n",
        "\n",
        "volume_casca8 = ((4*np.pi*(90**3))/3 - (4*np.pi*(80**3))/3)/(135/180)\n",
        "print(volume_casca8)\n",
        "\n",
        "densidade_casca8 = massa_mask8/volume_casca8\n",
        "print(densidade_casca8)"
      ],
      "metadata": {
        "colab": {
          "base_uri": "https://localhost:8080/"
        },
        "id": "Vzppo4u2nRYM",
        "outputId": "b48ad70a-bb56-4093-f6e2-b2a7a322aa4c"
      },
      "execution_count": 133,
      "outputs": [
        {
          "output_type": "stream",
          "name": "stdout",
          "text": [
            "561\n",
            "1211956.6325848624\n",
            "0.004372540945378205\n"
          ]
        }
      ]
    },
    {
      "cell_type": "markdown",
      "source": [
        "Vamos fazer o nono corte: 90 Mpc a 100 Mpc"
      ],
      "metadata": {
        "id": "RZ4Dh2bsnc66"
      }
    },
    {
      "cell_type": "code",
      "source": [
        "mask9 = (distancia <= 100) & (distancia >= 90)\n",
        "distancia_mask9 = distancia[mask9]\n",
        "massa_mask9 = np.sum(massa[mask9])\n",
        "print(len(distancia_mask9))  # quantidade de dados entre 30 e 40 Mpc\n",
        "\n",
        "volume_casca9 = ((4*np.pi*(100**3))/3 - (4*np.pi*(90**3))/3)/(135/180)\n",
        "print(volume_casca9)\n",
        "\n",
        "densidade_casca9 = massa_mask9/volume_casca9\n",
        "print(densidade_casca9)"
      ],
      "metadata": {
        "colab": {
          "base_uri": "https://localhost:8080/"
        },
        "id": "NHSm3xsFngd8",
        "outputId": "d573595f-c848-4488-e796-8b453ff344fd"
      },
      "execution_count": 134,
      "outputs": [
        {
          "output_type": "stream",
          "name": "stdout",
          "text": [
            "1474\n",
            "1513549.5273294821\n",
            "0.009272917566670905\n"
          ]
        }
      ]
    },
    {
      "cell_type": "markdown",
      "source": [
        "Vamos fazer o décimo corte: 100 Mpc a 110 Mpc"
      ],
      "metadata": {
        "id": "KuQJsuabnySS"
      }
    },
    {
      "cell_type": "code",
      "source": [
        "mask10 = (distancia <= 110) & (distancia >= 100)\n",
        "distancia_mask10 = distancia[mask10]\n",
        "massa_mask10 = np.sum(massa[mask10])\n",
        "print(len(distancia_mask10))  # quantidade de dados entre 30 e 40 Mpc\n",
        "\n",
        "volume_casca10 = ((4*np.pi*(110**3))/3 - (4*np.pi*(100**3))/3)/(135/180)\n",
        "print(volume_casca10)\n",
        "\n",
        "densidade_casca10 = massa_mask10/volume_casca10\n",
        "print(densidade_casca10)"
      ],
      "metadata": {
        "colab": {
          "base_uri": "https://localhost:8080/"
        },
        "id": "eNBIY9yGn1Bt",
        "outputId": "40b6f74f-a5a7-49c5-dc72-7c5af2405cd7"
      },
      "execution_count": 135,
      "outputs": [
        {
          "output_type": "stream",
          "name": "stdout",
          "text": [
            "1553\n",
            "1848652.7437123936\n",
            "0.008054595461827066\n"
          ]
        }
      ]
    },
    {
      "cell_type": "markdown",
      "source": [
        "Vamos fazer o décimo primeiro corte: 110 Mpc a 120 Mpc"
      ],
      "metadata": {
        "id": "krUBDek_oASt"
      }
    },
    {
      "cell_type": "code",
      "source": [
        "mask11 = (distancia <= 120) & (distancia >= 100)\n",
        "distancia_mask11 = distancia[mask11]\n",
        "massa_mask11 = np.sum(massa[mask11])\n",
        "print(len(distancia_mask11))  # quantidade de dados entre 30 e 40 Mpc\n",
        "\n",
        "volume_casca11 = ((4*np.pi*(120**3))/3 - (4*np.pi*(110**3))/3)/(135/180)\n",
        "print(volume_casca11)\n",
        "\n",
        "densidade_casca11 = massa_mask11/volume_casca11\n",
        "print(densidade_casca11)"
      ],
      "metadata": {
        "colab": {
          "base_uri": "https://localhost:8080/"
        },
        "id": "w2oZZW_BoFZj",
        "outputId": "c10be90b-ed81-43bd-a390-0d24a75e5233"
      },
      "execution_count": 136,
      "outputs": [
        {
          "output_type": "stream",
          "name": "stdout",
          "text": [
            "2615\n",
            "2217266.281733597\n",
            "0.011342584428035648\n"
          ]
        }
      ]
    },
    {
      "cell_type": "markdown",
      "source": [
        "Vamos fazer o décimo segundo corte: 120 Mpc a 130 Mpc"
      ],
      "metadata": {
        "id": "B-u7lvxmoSXc"
      }
    },
    {
      "cell_type": "code",
      "source": [
        "mask12 = (distancia <= 130) & (distancia >= 120)\n",
        "distancia_mask12 = distancia[mask12]\n",
        "massa_mask12 = np.sum(massa[mask12])\n",
        "print(len(distancia_mask12))  # quantidade de dados entre 30 e 40 Mpc\n",
        "\n",
        "volume_casca12 = ((4*np.pi*(130**3))/3 - (4*np.pi*(120**3))/3)/(135/180)\n",
        "print(volume_casca12)\n",
        "\n",
        "densidade_casca12 = massa_mask12/volume_casca12\n",
        "print(densidade_casca12)"
      ],
      "metadata": {
        "colab": {
          "base_uri": "https://localhost:8080/"
        },
        "id": "Omkym6suoWAl",
        "outputId": "6ed3c3ec-2ba8-4366-c54c-538cb728be8f"
      },
      "execution_count": 137,
      "outputs": [
        {
          "output_type": "stream",
          "name": "stdout",
          "text": [
            "931\n",
            "2619390.141393089\n",
            "0.0034713461947917788\n"
          ]
        }
      ]
    },
    {
      "cell_type": "markdown",
      "source": [
        "Vamos fazer o décimo terceiro corte: 130 Mpc a 140 Mpc"
      ],
      "metadata": {
        "id": "BLC18Woioioe"
      }
    },
    {
      "cell_type": "code",
      "source": [
        "mask13 = (distancia <= 140) & (distancia >= 130)\n",
        "distancia_mask13 = distancia[mask13]\n",
        "massa_mask13 = np.sum(massa[mask13])\n",
        "print(len(distancia_mask13))  \n",
        "\n",
        "volume_casca13 = ((4*np.pi*(140**3))/3 - (4*np.pi*(130**3))/3)/(135/180)\n",
        "print(volume_casca13)\n",
        "\n",
        "densidade_casca13 = massa_mask13/volume_casca13\n",
        "print(densidade_casca13)"
      ],
      "metadata": {
        "colab": {
          "base_uri": "https://localhost:8080/"
        },
        "id": "FlQkrTbyolXw",
        "outputId": "cc66cef8-1e50-4ec6-ea19-deefaeaea64d"
      },
      "execution_count": 138,
      "outputs": [
        {
          "output_type": "stream",
          "name": "stdout",
          "text": [
            "978\n",
            "3055024.3226908743\n",
            "0.0031362270764380713\n"
          ]
        }
      ]
    },
    {
      "cell_type": "markdown",
      "source": [
        "Vamos fazer o décimo quarto corte: 140 Mpc a 150 Mpc"
      ],
      "metadata": {
        "id": "mYGjz_hZoznY"
      }
    },
    {
      "cell_type": "code",
      "source": [
        "mask14 = (distancia <= 150) & (distancia >= 140)\n",
        "distancia_mask14 = distancia[mask14]\n",
        "massa_mask14 = np.sum(massa[mask14])\n",
        "print(len(distancia_mask14))  \n",
        "\n",
        "volume_casca14 = ((4*np.pi*(150**3))/3 - (4*np.pi*(140**3))/3)/(135/180)\n",
        "print(volume_casca14)\n",
        "\n",
        "densidade_casca14 = massa_mask14/volume_casca14\n",
        "print(densidade_casca14)"
      ],
      "metadata": {
        "colab": {
          "base_uri": "https://localhost:8080/"
        },
        "id": "HdRhaNNco4YY",
        "outputId": "a230d1e6-8fd7-4ca0-e400-e422058bf1f0"
      },
      "execution_count": 139,
      "outputs": [
        {
          "output_type": "stream",
          "name": "stdout",
          "text": [
            "1098\n",
            "3524168.825626952\n",
            "0.0030646119792739034\n"
          ]
        }
      ]
    },
    {
      "cell_type": "markdown",
      "source": [
        "Vamos fazer o décimo quinto corte: 150 Mpc a 160 Mpc"
      ],
      "metadata": {
        "id": "V58D-TvuptOS"
      }
    },
    {
      "cell_type": "code",
      "source": [
        "mask15 = (distancia <= 160) & (distancia >= 150)\n",
        "distancia_mask15 = distancia[mask15]\n",
        "massa_mask15 = np.sum(massa[mask15])\n",
        "print(len(distancia_mask15))  \n",
        "\n",
        "volume_casca15 = ((4*np.pi*(160**3))/3 - (4*np.pi*(150**3))/3)/(135/180)\n",
        "print(volume_casca15)\n",
        "\n",
        "densidade_casca15 = massa_mask15/volume_casca15\n",
        "print(densidade_casca15)"
      ],
      "metadata": {
        "colab": {
          "base_uri": "https://localhost:8080/"
        },
        "id": "6FQZzdIypwJy",
        "outputId": "9ed5f518-5756-455d-b77b-05247b549a3f"
      },
      "execution_count": 140,
      "outputs": [
        {
          "output_type": "stream",
          "name": "stdout",
          "text": [
            "822\n",
            "4026823.6502013155\n",
            "0.0020199618127288367\n"
          ]
        }
      ]
    },
    {
      "cell_type": "markdown",
      "source": [
        "Vamos fazer o décimo sexto corte: 160 Mpc a 170 Mpc"
      ],
      "metadata": {
        "id": "yCeTRbnFp8uu"
      }
    },
    {
      "cell_type": "code",
      "source": [
        "mask16 = (distancia <= 170) & (distancia >= 160)\n",
        "distancia_mask16 = distancia[mask16]\n",
        "massa_mask16 = np.sum(massa[mask16])\n",
        "print(len(distancia_mask16))  \n",
        "\n",
        "volume_casca16 = ((4*np.pi*(170**3))/3 - (4*np.pi*(160**3))/3)/(135/180)\n",
        "print(volume_casca16)\n",
        "\n",
        "densidade_casca16 = massa_mask16/volume_casca16\n",
        "print(densidade_casca16)"
      ],
      "metadata": {
        "colab": {
          "base_uri": "https://localhost:8080/"
        },
        "id": "tjxojI4QqBma",
        "outputId": "f81eaadf-0967-4c47-b43d-aa1aca0f81de"
      },
      "execution_count": 141,
      "outputs": [
        {
          "output_type": "stream",
          "name": "stdout",
          "text": [
            "598\n",
            "4562988.796413978\n",
            "0.0013021136507434356\n"
          ]
        }
      ]
    },
    {
      "cell_type": "markdown",
      "source": [
        "Vamos fazer o décimo sétimo corte: 170 Mpc a 180 Mpc"
      ],
      "metadata": {
        "id": "hGnLxZ6sqKij"
      }
    },
    {
      "cell_type": "code",
      "source": [
        "mask17 = (distancia <= 180) & (distancia >= 170)\n",
        "distancia_mask17 = distancia[mask17]\n",
        "massa_mask17 = np.sum(massa[mask17])\n",
        "print(len(distancia_mask17))  \n",
        "\n",
        "volume_casca17 = ((4*np.pi*(180**3))/3 - (4*np.pi*(170**3))/3)/(135/180)\n",
        "print(volume_casca17)\n",
        "\n",
        "densidade_casca17 = massa_mask17/volume_casca17\n",
        "print(densidade_casca17)"
      ],
      "metadata": {
        "colab": {
          "base_uri": "https://localhost:8080/"
        },
        "id": "7IUOqUKYqWhK",
        "outputId": "e62a3599-ffc6-403d-ff27-25d9017ca484"
      },
      "execution_count": 142,
      "outputs": [
        {
          "output_type": "stream",
          "name": "stdout",
          "text": [
            "567\n",
            "5132664.264264922\n",
            "0.0011052447048789079\n"
          ]
        }
      ]
    },
    {
      "cell_type": "markdown",
      "source": [
        "Vamos fazer o décimo oitavo corte: 180 Mpc a 190 Mpc"
      ],
      "metadata": {
        "id": "NYU0dcC8qdY2"
      }
    },
    {
      "cell_type": "code",
      "source": [
        "mask18 = (distancia <= 190) & (distancia >= 180)\n",
        "distancia_mask18 = distancia[mask18]\n",
        "massa_mask18 = np.sum(massa[mask18])\n",
        "print(len(distancia_mask18))  \n",
        "\n",
        "volume_casca18 = ((4*np.pi*(190**3))/3 - (4*np.pi*(180**3))/3)/(135/180)\n",
        "print(volume_casca18)\n",
        "\n",
        "densidade_casca18 = massa_mask18/volume_casca18\n",
        "print(densidade_casca18)"
      ],
      "metadata": {
        "colab": {
          "base_uri": "https://localhost:8080/"
        },
        "id": "BWkudMLdqok9",
        "outputId": "48b9ed08-bbd9-429d-fce6-b6e13d0045c0"
      },
      "execution_count": 143,
      "outputs": [
        {
          "output_type": "stream",
          "name": "stdout",
          "text": [
            "485\n",
            "5735850.053754166\n",
            "0.0008486989642997804\n"
          ]
        }
      ]
    },
    {
      "cell_type": "markdown",
      "source": [
        "Vamos fazer o décimo nono corte: 190 Mpc a 200 Mpc"
      ],
      "metadata": {
        "id": "mCVsf49qqz_H"
      }
    },
    {
      "cell_type": "code",
      "source": [
        "mask19 = (distancia <= 200) & (distancia >= 190)\n",
        "distancia_mask19 = distancia[mask19]\n",
        "massa_mask19 = np.sum(massa[mask19])\n",
        "print(len(distancia_mask19))  \n",
        "\n",
        "volume_casca19 = ((4*np.pi*(200**3))/3 - (4*np.pi*(190**3))/3)/(135/180)\n",
        "print(volume_casca19)\n",
        "\n",
        "densidade_casca19 = massa_mask19/volume_casca19\n",
        "print(densidade_casca19)"
      ],
      "metadata": {
        "colab": {
          "base_uri": "https://localhost:8080/"
        },
        "id": "ogfsVR3Fq3p_",
        "outputId": "e9b1978f-f68d-4984-84dc-065e2dc5e44b"
      },
      "execution_count": 144,
      "outputs": [
        {
          "output_type": "stream",
          "name": "stdout",
          "text": [
            "559\n",
            "6372546.164881691\n",
            "0.0008844565192890429\n"
          ]
        }
      ]
    },
    {
      "cell_type": "markdown",
      "source": [
        "Vamos fazer o vigésimo corte: 200 Mpc a 210 Mpc"
      ],
      "metadata": {
        "id": "n4BpkDfTrA_W"
      }
    },
    {
      "cell_type": "code",
      "source": [
        "mask20 = (distancia <= 210) & (distancia >= 200)\n",
        "distancia_mask20 = distancia[mask20]\n",
        "massa_mask20 = np.sum(massa[mask20])\n",
        "print(len(distancia_mask20))  \n",
        "\n",
        "volume_casca20 = ((4*np.pi*(210**3))/3 - (4*np.pi*(200**3))/3)/(135/180)\n",
        "print(volume_casca20)\n",
        "\n",
        "densidade_casca20 = massa_mask20/volume_casca20\n",
        "print(densidade_casca20)"
      ],
      "metadata": {
        "colab": {
          "base_uri": "https://localhost:8080/"
        },
        "id": "rKiNU7AZrHaP",
        "outputId": "77b2fc4a-8ecf-4ec5-b6d9-a8593436c2fb"
      },
      "execution_count": 145,
      "outputs": [
        {
          "output_type": "stream",
          "name": "stdout",
          "text": [
            "464\n",
            "7042752.597647523\n",
            "0.000667117002174601\n"
          ]
        }
      ]
    },
    {
      "cell_type": "markdown",
      "source": [
        "Vamos fazer o vigésimo primeiro corte: 210 Mpc a 220 Mpc"
      ],
      "metadata": {
        "id": "MHStugKbrUT3"
      }
    },
    {
      "cell_type": "code",
      "source": [
        "mask21 = (distancia <= 220) & (distancia >= 210)\n",
        "distancia_mask21 = distancia[mask21]\n",
        "massa_mask21 = np.sum(massa[mask21])\n",
        "print(len(distancia_mask21))  \n",
        "\n",
        "volume_casca21 = ((4*np.pi*(220**3))/3 - (4*np.pi*(210**3))/3)/(135/180)\n",
        "print(volume_casca21)\n",
        "\n",
        "densidade_casca21 = massa_mask21/volume_casca21\n",
        "print(densidade_casca21)"
      ],
      "metadata": {
        "colab": {
          "base_uri": "https://localhost:8080/"
        },
        "id": "CIwUNk_FratY",
        "outputId": "1d296e5e-6139-4169-c50a-9ecc25da9bb1"
      },
      "execution_count": 146,
      "outputs": [
        {
          "output_type": "stream",
          "name": "stdout",
          "text": [
            "362\n",
            "7746469.352051626\n",
            "0.0004748705291173382\n"
          ]
        }
      ]
    },
    {
      "cell_type": "markdown",
      "source": [
        "Vamos fazer o vigésimo segundo corte: 220 Mpc a 230 Mpc"
      ],
      "metadata": {
        "id": "p611pEOyroPR"
      }
    },
    {
      "cell_type": "code",
      "source": [
        "mask22 = (distancia <= 230) & (distancia >= 220)\n",
        "distancia_mask22 = distancia[mask22]\n",
        "massa_mask22 = np.sum(massa[mask22])\n",
        "print(len(distancia_mask22))  \n",
        "\n",
        "volume_casca22 = ((4*np.pi*(230**3))/3 - (4*np.pi*(220**3))/3)/(135/180)\n",
        "print(volume_casca22)\n",
        "\n",
        "densidade_casca22 = massa_mask22/volume_casca22\n",
        "print(densidade_casca22)"
      ],
      "metadata": {
        "colab": {
          "base_uri": "https://localhost:8080/"
        },
        "id": "kUdgVO00rsQi",
        "outputId": "c38fc22f-bb4e-4093-ace8-4bd4d84b5b61"
      },
      "execution_count": 147,
      "outputs": [
        {
          "output_type": "stream",
          "name": "stdout",
          "text": [
            "106\n",
            "8483696.428094039\n",
            "0.00012724995633094964\n"
          ]
        }
      ]
    },
    {
      "cell_type": "markdown",
      "source": [
        "Vamos fazer o vigésimo terceiro corte: 230 Mpc a 240 Mpc"
      ],
      "metadata": {
        "id": "kzHESd7ir50c"
      }
    },
    {
      "cell_type": "code",
      "source": [
        "mask23 = (distancia <= 240) & (distancia >= 230)\n",
        "distancia_mask23 = distancia[mask23]\n",
        "massa_mask23 = np.sum(massa[mask23])\n",
        "print(len(distancia_mask23))  \n",
        "\n",
        "volume_casca23 = ((4*np.pi*(240**3))/3 - (4*np.pi*(230**3))/3)/(135/180)\n",
        "print(volume_casca23)\n",
        "\n",
        "densidade_casca23 = massa_mask23/volume_casca23\n",
        "print(densidade_casca23)"
      ],
      "metadata": {
        "colab": {
          "base_uri": "https://localhost:8080/"
        },
        "id": "4-vtkyjRr8-6",
        "outputId": "d3407b82-4942-4a19-a334-3dc2b0a42d44"
      },
      "execution_count": 148,
      "outputs": [
        {
          "output_type": "stream",
          "name": "stdout",
          "text": [
            "153\n",
            "9254433.825774739\n",
            "0.00016959546413619828\n"
          ]
        }
      ]
    },
    {
      "cell_type": "markdown",
      "source": [
        "Vamos fazer o vigésimo quarto corte: 240 Mpc a 250 Mpc"
      ],
      "metadata": {
        "id": "FiB3zNYOsM1Y"
      }
    },
    {
      "cell_type": "code",
      "source": [
        "mask24 = (distancia <= 250) & (distancia >= 240)\n",
        "distancia_mask24 = distancia[mask24]\n",
        "massa_mask24 = np.sum(massa[mask24])\n",
        "print(len(distancia_mask24))  \n",
        "\n",
        "volume_casca24 = ((4*np.pi*(250**3))/3 - (4*np.pi*(240**3))/3)/(135/180)\n",
        "print(volume_casca24)\n",
        "\n",
        "densidade_casca24 = massa_mask24/volume_casca24\n",
        "print(densidade_casca24)"
      ],
      "metadata": {
        "colab": {
          "base_uri": "https://localhost:8080/"
        },
        "id": "01Ngyx3isUVz",
        "outputId": "86cc490a-ea0a-4043-c85c-7fec992cf874"
      },
      "execution_count": 149,
      "outputs": [
        {
          "output_type": "stream",
          "name": "stdout",
          "text": [
            "127\n",
            "10058681.545093715\n",
            "0.0001298589675141992\n"
          ]
        }
      ]
    },
    {
      "cell_type": "markdown",
      "source": [
        "Lembrando que a expressão para calcular o contraste $\\delta$ é:\n",
        "\n",
        "$\\delta = \\frac{\\rho_i - \\bar{\\rho}}{\\bar{\\rho}}$,\n",
        "\n",
        "em que $\\rho_i$ é a densidade das cascas somadas e $\\bar{\\rho}$ é a densidade média."
      ],
      "metadata": {
        "id": "qy5Znp1fuiJ8"
      }
    },
    {
      "cell_type": "code",
      "source": [
        "# calculando a densidade média\n",
        "volume_total = (4*np.pi*(240**3))/3\n",
        "massa_total = np.sum(massa)\n",
        "densidade_total = massa_total/volume_total\n",
        "print(densidade_total)\n",
        "\n",
        "# calculando a densidade das cascas somadas\n",
        "densidade_cascas = densidade_casca1 + densidade_casca2 + densidade_casca3 + densidade_casca4 + densidade_casca5 + densidade_casca6 + densidade_casca7 + densidade_casca8 + densidade_casca9 + densidade_casca10 + densidade_casca11 + densidade_casca12 + densidade_casca13 + densidade_casca14 + densidade_casca15 + densidade_casca16 + densidade_casca17 + densidade_casca18 + densidade_casca19 + densidade_casca20 + densidade_casca21 + densidade_casca22 + densidade_casca23 + densidade_casca24\n",
        "print(densidade_cascas)"
      ],
      "metadata": {
        "colab": {
          "base_uri": "https://localhost:8080/"
        },
        "id": "ed70pszqtnU7",
        "outputId": "cbdf495c-a077-4a67-d790-e0c514682e01"
      },
      "execution_count": 150,
      "outputs": [
        {
          "output_type": "stream",
          "name": "stdout",
          "text": [
            "0.002681363249129038\n",
            "0.308565218560908\n"
          ]
        }
      ]
    },
    {
      "cell_type": "code",
      "source": [
        "# calculando o contraste\n",
        "contraste = (densidade_cascas - densidade_total)/densidade_total\n",
        "print(contraste)"
      ],
      "metadata": {
        "colab": {
          "base_uri": "https://localhost:8080/"
        },
        "id": "Gt7iB-tBvBU-",
        "outputId": "b11ef33e-4d4d-4581-afb4-bb3fbb2ec13d"
      },
      "execution_count": 151,
      "outputs": [
        {
          "output_type": "stream",
          "name": "stdout",
          "text": [
            "114.0777384083027\n"
          ]
        }
      ]
    }
  ]
}