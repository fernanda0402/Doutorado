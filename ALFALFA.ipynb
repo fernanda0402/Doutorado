{
  "nbformat": 4,
  "nbformat_minor": 0,
  "metadata": {
    "colab": {
      "provenance": [],
      "authorship_tag": "ABX9TyNzAzTTYqR0wjM1D981ZMpO",
      "include_colab_link": true
    },
    "kernelspec": {
      "name": "python3",
      "display_name": "Python 3"
    },
    "language_info": {
      "name": "python"
    }
  },
  "cells": [
    {
      "cell_type": "markdown",
      "metadata": {
        "id": "view-in-github",
        "colab_type": "text"
      },
      "source": [
        "<a href=\"https://colab.research.google.com/github/fernanda0402/Doutorado/blob/main/ALFALFA.ipynb\" target=\"_parent\"><img src=\"https://colab.research.google.com/assets/colab-badge.svg\" alt=\"Open In Colab\"/></a>"
      ]
    },
    {
      "cell_type": "markdown",
      "source": [
        "A partir dos dados do Hemisfério Norte do ALFALFA, vamos calcular $\\delta_m$. Para isso, vamos calcular a densidade $\\rho_i$ por cascas de raio igual a 10 Mpc. São fornecidos os valores das massas dos objetos e sabemos que o volume de cada casca é dado por:\n",
        "\n",
        "$V_{casca} = \\frac{V_E ^{maior} - V_E ^{menor}}{\\theta/180º}$,\n",
        "\n",
        "em que $\\theta$ é o ângulo de abertura do cone. No caso do Hemisfério Norte, $\\theta$ = 135º.\n",
        "\n",
        "Logo, tendo os dados da massa e conhecendo o volume de cada casca, é possível calcular $\\rho_i$ e, consequentemente, $\\delta_i$ por casca.\n",
        "\n",
        "Lembrando que a expressão para calcular o contraste $\\delta$ é:\n",
        "\n",
        "$\\delta_i = \\frac{\\rho_i - \\bar{\\rho}}{\\bar{\\rho}}$,\n",
        "\n",
        "em que $\\rho_i$ é a densidade de cada casca e $\\bar{\\rho}$ é a densidade média."
      ],
      "metadata": {
        "id": "04IPw_eBCDOl"
      }
    },
    {
      "cell_type": "code",
      "execution_count": 42,
      "metadata": {
        "id": "4sxI2HDv-Mhs"
      },
      "outputs": [],
      "source": [
        "import urllib.request #usar biblioteca Pandas para ler o arquivo como um DataFrame e pular a primeira linha com o cabeçalho\n",
        "import pandas as pd\n",
        "import matplotlib.pyplot as plt\n",
        "import numpy as np\n",
        "from scipy.optimize import curve_fit\n",
        "import sympy as sm\n",
        "import scipy as sp\n",
        "import math\n",
        "from matplotlib import rc"
      ]
    },
    {
      "cell_type": "code",
      "source": [
        "# extraindo os dados do drive\n",
        "from google.colab import drive\n",
        "drive.mount('/content/drive')"
      ],
      "metadata": {
        "id": "jZoN1EK_-VgT",
        "colab": {
          "base_uri": "https://localhost:8080/"
        },
        "outputId": "68398bcf-85ad-4827-acd3-04bc6b1e7974"
      },
      "execution_count": 43,
      "outputs": [
        {
          "output_type": "stream",
          "name": "stdout",
          "text": [
            "Drive already mounted at /content/drive; to attempt to forcibly remount, call drive.mount(\"/content/drive\", force_remount=True).\n"
          ]
        }
      ]
    },
    {
      "cell_type": "code",
      "source": [
        "alfalfa = pd.read_csv('/content/drive/MyDrive/Colab Notebooks/a100.code12.table2.190808_modificado_code1_RA_110-250 - HN.csv', sep=',')\n",
        "alfalfa"
      ],
      "metadata": {
        "colab": {
          "base_uri": "https://localhost:8080/",
          "height": 424
        },
        "id": "FjHFnw2m_0W7",
        "outputId": "fea8dc35-5514-495f-fd8b-6f2620a1da38"
      },
      "execution_count": 44,
      "outputs": [
        {
          "output_type": "execute_result",
          "data": {
            "text/plain": [
              "        AGCNr      Name   RAdeg_HI  DECdeg_HI   RAdeg_OC  DECdeg_OC  Vhelio  \\\n",
              "0      174577  ........  110.34333    7.92194  110.34583    7.92139    4930   \n",
              "1       12926  FGC.629.  111.14958    6.15028  111.15000    6.14889    3845   \n",
              "2        3839  057-011.  111.29124    9.51167  111.29333    9.51583    5264   \n",
              "3      170326  057-010.  111.31000    9.20750  111.29708    9.20444   14002   \n",
              "4      174578  ........  111.35708    9.80444  111.35792    9.80472    8564   \n",
              "...       ...       ...        ...        ...        ...        ...     ...   \n",
              "16280   10495  052-057.  249.85791    7.29056  249.86082    7.28444   13519   \n",
              "16281  265128  ........  250.00792   24.03417  250.00456   24.03278   10983   \n",
              "16282  262738  ........  250.08748   28.47222  250.09248   28.47167     964   \n",
              "16283  262737  ........  250.09291   28.76417  250.08917   28.76556     963   \n",
              "16284  265166  ........  250.18289   26.29111  250.19583   26.28889   16415   \n",
              "\n",
              "       W50  sigW  W20  HIflux  sigflux   SNR   RMS   Dist  sigDist  logMH  \\\n",
              "0      209     6  236    3.33     0.10  20.9  2.46   72.2      2.3   9.61   \n",
              "1      226     5  244    3.77     0.13  16.5  3.39   57.3      2.2   9.46   \n",
              "2      200     5  215    3.14     0.09  19.6  2.53   76.8      2.4   9.64   \n",
              "3      218    70  269    1.97     0.12  11.5  2.59  202.8      2.2  10.28   \n",
              "4      135     9  166    3.15     0.08  22.5  2.69  125.1      2.2  10.06   \n",
              "...    ...   ...  ...     ...      ...   ...   ...    ...      ...    ...   \n",
              "16280  495    21  514    2.86     0.16   8.8  2.92  193.8      2.1  10.40   \n",
              "16281  204    22  216    2.13     0.12  10.2  3.28  157.3      2.3  10.09   \n",
              "16282   32    11   71    0.60     0.05  10.5  2.16   18.6      2.3   7.69   \n",
              "16283   80     2   92    4.23     0.09  29.1  3.59   18.6      2.2   8.54   \n",
              "16284  246    43  260    1.07     0.09   6.8  2.23  234.8      2.3  10.14   \n",
              "\n",
              "       siglogMH  HIcode  \n",
              "0          0.05       1  \n",
              "1          0.06       1  \n",
              "2          0.05       1  \n",
              "3          0.05       1  \n",
              "4          0.05       1  \n",
              "...         ...     ...  \n",
              "16280      0.05       1  \n",
              "16281      0.05       1  \n",
              "16282      0.12       1  \n",
              "16283      0.11       1  \n",
              "16284      0.06       1  \n",
              "\n",
              "[16285 rows x 19 columns]"
            ],
            "text/html": [
              "\n",
              "  <div id=\"df-9085204d-a684-413e-9984-71ee4a342a50\">\n",
              "    <div class=\"colab-df-container\">\n",
              "      <div>\n",
              "<style scoped>\n",
              "    .dataframe tbody tr th:only-of-type {\n",
              "        vertical-align: middle;\n",
              "    }\n",
              "\n",
              "    .dataframe tbody tr th {\n",
              "        vertical-align: top;\n",
              "    }\n",
              "\n",
              "    .dataframe thead th {\n",
              "        text-align: right;\n",
              "    }\n",
              "</style>\n",
              "<table border=\"1\" class=\"dataframe\">\n",
              "  <thead>\n",
              "    <tr style=\"text-align: right;\">\n",
              "      <th></th>\n",
              "      <th>AGCNr</th>\n",
              "      <th>Name</th>\n",
              "      <th>RAdeg_HI</th>\n",
              "      <th>DECdeg_HI</th>\n",
              "      <th>RAdeg_OC</th>\n",
              "      <th>DECdeg_OC</th>\n",
              "      <th>Vhelio</th>\n",
              "      <th>W50</th>\n",
              "      <th>sigW</th>\n",
              "      <th>W20</th>\n",
              "      <th>HIflux</th>\n",
              "      <th>sigflux</th>\n",
              "      <th>SNR</th>\n",
              "      <th>RMS</th>\n",
              "      <th>Dist</th>\n",
              "      <th>sigDist</th>\n",
              "      <th>logMH</th>\n",
              "      <th>siglogMH</th>\n",
              "      <th>HIcode</th>\n",
              "    </tr>\n",
              "  </thead>\n",
              "  <tbody>\n",
              "    <tr>\n",
              "      <th>0</th>\n",
              "      <td>174577</td>\n",
              "      <td>........</td>\n",
              "      <td>110.34333</td>\n",
              "      <td>7.92194</td>\n",
              "      <td>110.34583</td>\n",
              "      <td>7.92139</td>\n",
              "      <td>4930</td>\n",
              "      <td>209</td>\n",
              "      <td>6</td>\n",
              "      <td>236</td>\n",
              "      <td>3.33</td>\n",
              "      <td>0.10</td>\n",
              "      <td>20.9</td>\n",
              "      <td>2.46</td>\n",
              "      <td>72.2</td>\n",
              "      <td>2.3</td>\n",
              "      <td>9.61</td>\n",
              "      <td>0.05</td>\n",
              "      <td>1</td>\n",
              "    </tr>\n",
              "    <tr>\n",
              "      <th>1</th>\n",
              "      <td>12926</td>\n",
              "      <td>FGC.629.</td>\n",
              "      <td>111.14958</td>\n",
              "      <td>6.15028</td>\n",
              "      <td>111.15000</td>\n",
              "      <td>6.14889</td>\n",
              "      <td>3845</td>\n",
              "      <td>226</td>\n",
              "      <td>5</td>\n",
              "      <td>244</td>\n",
              "      <td>3.77</td>\n",
              "      <td>0.13</td>\n",
              "      <td>16.5</td>\n",
              "      <td>3.39</td>\n",
              "      <td>57.3</td>\n",
              "      <td>2.2</td>\n",
              "      <td>9.46</td>\n",
              "      <td>0.06</td>\n",
              "      <td>1</td>\n",
              "    </tr>\n",
              "    <tr>\n",
              "      <th>2</th>\n",
              "      <td>3839</td>\n",
              "      <td>057-011.</td>\n",
              "      <td>111.29124</td>\n",
              "      <td>9.51167</td>\n",
              "      <td>111.29333</td>\n",
              "      <td>9.51583</td>\n",
              "      <td>5264</td>\n",
              "      <td>200</td>\n",
              "      <td>5</td>\n",
              "      <td>215</td>\n",
              "      <td>3.14</td>\n",
              "      <td>0.09</td>\n",
              "      <td>19.6</td>\n",
              "      <td>2.53</td>\n",
              "      <td>76.8</td>\n",
              "      <td>2.4</td>\n",
              "      <td>9.64</td>\n",
              "      <td>0.05</td>\n",
              "      <td>1</td>\n",
              "    </tr>\n",
              "    <tr>\n",
              "      <th>3</th>\n",
              "      <td>170326</td>\n",
              "      <td>057-010.</td>\n",
              "      <td>111.31000</td>\n",
              "      <td>9.20750</td>\n",
              "      <td>111.29708</td>\n",
              "      <td>9.20444</td>\n",
              "      <td>14002</td>\n",
              "      <td>218</td>\n",
              "      <td>70</td>\n",
              "      <td>269</td>\n",
              "      <td>1.97</td>\n",
              "      <td>0.12</td>\n",
              "      <td>11.5</td>\n",
              "      <td>2.59</td>\n",
              "      <td>202.8</td>\n",
              "      <td>2.2</td>\n",
              "      <td>10.28</td>\n",
              "      <td>0.05</td>\n",
              "      <td>1</td>\n",
              "    </tr>\n",
              "    <tr>\n",
              "      <th>4</th>\n",
              "      <td>174578</td>\n",
              "      <td>........</td>\n",
              "      <td>111.35708</td>\n",
              "      <td>9.80444</td>\n",
              "      <td>111.35792</td>\n",
              "      <td>9.80472</td>\n",
              "      <td>8564</td>\n",
              "      <td>135</td>\n",
              "      <td>9</td>\n",
              "      <td>166</td>\n",
              "      <td>3.15</td>\n",
              "      <td>0.08</td>\n",
              "      <td>22.5</td>\n",
              "      <td>2.69</td>\n",
              "      <td>125.1</td>\n",
              "      <td>2.2</td>\n",
              "      <td>10.06</td>\n",
              "      <td>0.05</td>\n",
              "      <td>1</td>\n",
              "    </tr>\n",
              "    <tr>\n",
              "      <th>...</th>\n",
              "      <td>...</td>\n",
              "      <td>...</td>\n",
              "      <td>...</td>\n",
              "      <td>...</td>\n",
              "      <td>...</td>\n",
              "      <td>...</td>\n",
              "      <td>...</td>\n",
              "      <td>...</td>\n",
              "      <td>...</td>\n",
              "      <td>...</td>\n",
              "      <td>...</td>\n",
              "      <td>...</td>\n",
              "      <td>...</td>\n",
              "      <td>...</td>\n",
              "      <td>...</td>\n",
              "      <td>...</td>\n",
              "      <td>...</td>\n",
              "      <td>...</td>\n",
              "      <td>...</td>\n",
              "    </tr>\n",
              "    <tr>\n",
              "      <th>16280</th>\n",
              "      <td>10495</td>\n",
              "      <td>052-057.</td>\n",
              "      <td>249.85791</td>\n",
              "      <td>7.29056</td>\n",
              "      <td>249.86082</td>\n",
              "      <td>7.28444</td>\n",
              "      <td>13519</td>\n",
              "      <td>495</td>\n",
              "      <td>21</td>\n",
              "      <td>514</td>\n",
              "      <td>2.86</td>\n",
              "      <td>0.16</td>\n",
              "      <td>8.8</td>\n",
              "      <td>2.92</td>\n",
              "      <td>193.8</td>\n",
              "      <td>2.1</td>\n",
              "      <td>10.40</td>\n",
              "      <td>0.05</td>\n",
              "      <td>1</td>\n",
              "    </tr>\n",
              "    <tr>\n",
              "      <th>16281</th>\n",
              "      <td>265128</td>\n",
              "      <td>........</td>\n",
              "      <td>250.00792</td>\n",
              "      <td>24.03417</td>\n",
              "      <td>250.00456</td>\n",
              "      <td>24.03278</td>\n",
              "      <td>10983</td>\n",
              "      <td>204</td>\n",
              "      <td>22</td>\n",
              "      <td>216</td>\n",
              "      <td>2.13</td>\n",
              "      <td>0.12</td>\n",
              "      <td>10.2</td>\n",
              "      <td>3.28</td>\n",
              "      <td>157.3</td>\n",
              "      <td>2.3</td>\n",
              "      <td>10.09</td>\n",
              "      <td>0.05</td>\n",
              "      <td>1</td>\n",
              "    </tr>\n",
              "    <tr>\n",
              "      <th>16282</th>\n",
              "      <td>262738</td>\n",
              "      <td>........</td>\n",
              "      <td>250.08748</td>\n",
              "      <td>28.47222</td>\n",
              "      <td>250.09248</td>\n",
              "      <td>28.47167</td>\n",
              "      <td>964</td>\n",
              "      <td>32</td>\n",
              "      <td>11</td>\n",
              "      <td>71</td>\n",
              "      <td>0.60</td>\n",
              "      <td>0.05</td>\n",
              "      <td>10.5</td>\n",
              "      <td>2.16</td>\n",
              "      <td>18.6</td>\n",
              "      <td>2.3</td>\n",
              "      <td>7.69</td>\n",
              "      <td>0.12</td>\n",
              "      <td>1</td>\n",
              "    </tr>\n",
              "    <tr>\n",
              "      <th>16283</th>\n",
              "      <td>262737</td>\n",
              "      <td>........</td>\n",
              "      <td>250.09291</td>\n",
              "      <td>28.76417</td>\n",
              "      <td>250.08917</td>\n",
              "      <td>28.76556</td>\n",
              "      <td>963</td>\n",
              "      <td>80</td>\n",
              "      <td>2</td>\n",
              "      <td>92</td>\n",
              "      <td>4.23</td>\n",
              "      <td>0.09</td>\n",
              "      <td>29.1</td>\n",
              "      <td>3.59</td>\n",
              "      <td>18.6</td>\n",
              "      <td>2.2</td>\n",
              "      <td>8.54</td>\n",
              "      <td>0.11</td>\n",
              "      <td>1</td>\n",
              "    </tr>\n",
              "    <tr>\n",
              "      <th>16284</th>\n",
              "      <td>265166</td>\n",
              "      <td>........</td>\n",
              "      <td>250.18289</td>\n",
              "      <td>26.29111</td>\n",
              "      <td>250.19583</td>\n",
              "      <td>26.28889</td>\n",
              "      <td>16415</td>\n",
              "      <td>246</td>\n",
              "      <td>43</td>\n",
              "      <td>260</td>\n",
              "      <td>1.07</td>\n",
              "      <td>0.09</td>\n",
              "      <td>6.8</td>\n",
              "      <td>2.23</td>\n",
              "      <td>234.8</td>\n",
              "      <td>2.3</td>\n",
              "      <td>10.14</td>\n",
              "      <td>0.06</td>\n",
              "      <td>1</td>\n",
              "    </tr>\n",
              "  </tbody>\n",
              "</table>\n",
              "<p>16285 rows × 19 columns</p>\n",
              "</div>\n",
              "      <button class=\"colab-df-convert\" onclick=\"convertToInteractive('df-9085204d-a684-413e-9984-71ee4a342a50')\"\n",
              "              title=\"Convert this dataframe to an interactive table.\"\n",
              "              style=\"display:none;\">\n",
              "        \n",
              "  <svg xmlns=\"http://www.w3.org/2000/svg\" height=\"24px\"viewBox=\"0 0 24 24\"\n",
              "       width=\"24px\">\n",
              "    <path d=\"M0 0h24v24H0V0z\" fill=\"none\"/>\n",
              "    <path d=\"M18.56 5.44l.94 2.06.94-2.06 2.06-.94-2.06-.94-.94-2.06-.94 2.06-2.06.94zm-11 1L8.5 8.5l.94-2.06 2.06-.94-2.06-.94L8.5 2.5l-.94 2.06-2.06.94zm10 10l.94 2.06.94-2.06 2.06-.94-2.06-.94-.94-2.06-.94 2.06-2.06.94z\"/><path d=\"M17.41 7.96l-1.37-1.37c-.4-.4-.92-.59-1.43-.59-.52 0-1.04.2-1.43.59L10.3 9.45l-7.72 7.72c-.78.78-.78 2.05 0 2.83L4 21.41c.39.39.9.59 1.41.59.51 0 1.02-.2 1.41-.59l7.78-7.78 2.81-2.81c.8-.78.8-2.07 0-2.86zM5.41 20L4 18.59l7.72-7.72 1.47 1.35L5.41 20z\"/>\n",
              "  </svg>\n",
              "      </button>\n",
              "      \n",
              "  <style>\n",
              "    .colab-df-container {\n",
              "      display:flex;\n",
              "      flex-wrap:wrap;\n",
              "      gap: 12px;\n",
              "    }\n",
              "\n",
              "    .colab-df-convert {\n",
              "      background-color: #E8F0FE;\n",
              "      border: none;\n",
              "      border-radius: 50%;\n",
              "      cursor: pointer;\n",
              "      display: none;\n",
              "      fill: #1967D2;\n",
              "      height: 32px;\n",
              "      padding: 0 0 0 0;\n",
              "      width: 32px;\n",
              "    }\n",
              "\n",
              "    .colab-df-convert:hover {\n",
              "      background-color: #E2EBFA;\n",
              "      box-shadow: 0px 1px 2px rgba(60, 64, 67, 0.3), 0px 1px 3px 1px rgba(60, 64, 67, 0.15);\n",
              "      fill: #174EA6;\n",
              "    }\n",
              "\n",
              "    [theme=dark] .colab-df-convert {\n",
              "      background-color: #3B4455;\n",
              "      fill: #D2E3FC;\n",
              "    }\n",
              "\n",
              "    [theme=dark] .colab-df-convert:hover {\n",
              "      background-color: #434B5C;\n",
              "      box-shadow: 0px 1px 3px 1px rgba(0, 0, 0, 0.15);\n",
              "      filter: drop-shadow(0px 1px 2px rgba(0, 0, 0, 0.3));\n",
              "      fill: #FFFFFF;\n",
              "    }\n",
              "  </style>\n",
              "\n",
              "      <script>\n",
              "        const buttonEl =\n",
              "          document.querySelector('#df-9085204d-a684-413e-9984-71ee4a342a50 button.colab-df-convert');\n",
              "        buttonEl.style.display =\n",
              "          google.colab.kernel.accessAllowed ? 'block' : 'none';\n",
              "\n",
              "        async function convertToInteractive(key) {\n",
              "          const element = document.querySelector('#df-9085204d-a684-413e-9984-71ee4a342a50');\n",
              "          const dataTable =\n",
              "            await google.colab.kernel.invokeFunction('convertToInteractive',\n",
              "                                                     [key], {});\n",
              "          if (!dataTable) return;\n",
              "\n",
              "          const docLinkHtml = 'Like what you see? Visit the ' +\n",
              "            '<a target=\"_blank\" href=https://colab.research.google.com/notebooks/data_table.ipynb>data table notebook</a>'\n",
              "            + ' to learn more about interactive tables.';\n",
              "          element.innerHTML = '';\n",
              "          dataTable['output_type'] = 'display_data';\n",
              "          await google.colab.output.renderOutput(dataTable, element);\n",
              "          const docLink = document.createElement('div');\n",
              "          docLink.innerHTML = docLinkHtml;\n",
              "          element.appendChild(docLink);\n",
              "        }\n",
              "      </script>\n",
              "    </div>\n",
              "  </div>\n",
              "  "
            ]
          },
          "metadata": {},
          "execution_count": 44
        }
      ]
    },
    {
      "cell_type": "code",
      "source": [
        "# nomeando dados/colunas\n",
        "massa = alfalfa['logMH']\n",
        "distancia = alfalfa['Dist']\n",
        "\n",
        "# definindo constantes\n",
        "c = 2.9*10**5 # velocidade da luz\n",
        "h0 = 70 #km/s/Mpc\n",
        "\n",
        "# definindo o redshift\n",
        "z = (distancia*h0)/c\n",
        "\n",
        "# vamos verificar os valores máximo e mínimo do redshift\n",
        "print('O valor máximo do redshift é', z.max())\n",
        "print('O valor mínimo do redshift é', z.min())\n",
        "\n",
        "# agora vamos verificar o valor máximo da distância para saber até qual distância faremos o corte\n",
        "print('O valor máximo de distância é', distancia.max())"
      ],
      "metadata": {
        "colab": {
          "base_uri": "https://localhost:8080/"
        },
        "id": "V5igAYyNAAfo",
        "outputId": "b6862718-8427-4d0d-bd48-2f0e8f9eb337"
      },
      "execution_count": 45,
      "outputs": [
        {
          "output_type": "stream",
          "name": "stdout",
          "text": [
            "O valor máximo do redshift é 0.062155172413793106\n",
            "O valor mínimo do redshift é 9.655172413793103e-05\n",
            "O valor máximo de distância é 257.5\n"
          ]
        }
      ]
    },
    {
      "cell_type": "code",
      "source": [
        "# histograma dos dados\n",
        "values = pd.DataFrame(distancia)\n",
        "values.hist( bins=100, color='turquoise', figsize=(6, 6))"
      ],
      "metadata": {
        "colab": {
          "base_uri": "https://localhost:8080/",
          "height": 562
        },
        "id": "ZzMCFHuhBbAt",
        "outputId": "65afe6ad-a951-45bc-f84d-e814c8b6f5e5"
      },
      "execution_count": 46,
      "outputs": [
        {
          "output_type": "execute_result",
          "data": {
            "text/plain": [
              "array([[<Axes: title={'center': 'Dist'}>]], dtype=object)"
            ]
          },
          "metadata": {},
          "execution_count": 46
        },
        {
          "output_type": "display_data",
          "data": {
            "text/plain": [
              "<Figure size 600x600 with 1 Axes>"
            ],
            "image/png": "[encoded data removed]"
          },
          "metadata": {}
        }
      ]
    },
    {
      "cell_type": "code",
      "source": [
        "# histograma dos dados\n",
        "values = pd.DataFrame(massa)\n",
        "values.hist( bins=100, color='brown', figsize=(6, 6))"
      ],
      "metadata": {
        "colab": {
          "base_uri": "https://localhost:8080/",
          "height": 562
        },
        "id": "K8ObUiwjVAmU",
        "outputId": "5f44aebe-90d0-4845-851f-91002ac41426"
      },
      "execution_count": 47,
      "outputs": [
        {
          "output_type": "execute_result",
          "data": {
            "text/plain": [
              "array([[<Axes: title={'center': 'logMH'}>]], dtype=object)"
            ]
          },
          "metadata": {},
          "execution_count": 47
        },
        {
          "output_type": "display_data",
          "data": {
            "text/plain": [
              "<Figure size 600x600 with 1 Axes>"
            ],
            "image/png": "[encoded data removed]"
          },
          "metadata": {}
        }
      ]
    },
    {
      "cell_type": "code",
      "source": [
        "# calculando a densidade média\n",
        "volume_total = (4*np.pi*(250**3))/3 - (4*np.pi*(10**3))/3\n",
        "massa_total = np.sum(massa)\n",
        "densidade_media = massa_total/volume_total\n",
        "print(densidade_media)"
      ],
      "metadata": {
        "colab": {
          "base_uri": "https://localhost:8080/"
        },
        "id": "GMdcDa9lS26u",
        "outputId": "02efc511-933e-45ed-e6d4-f5e2ad93879a"
      },
      "execution_count": 48,
      "outputs": [
        {
          "output_type": "stream",
          "name": "stdout",
          "text": [
            "0.0023724504324091032\n"
          ]
        }
      ]
    },
    {
      "cell_type": "markdown",
      "source": [
        "Vamos fazer o primeiro recorte: entre 10 Mpc e 20 Mpc."
      ],
      "metadata": {
        "id": "nmtMa1-YNB2H"
      }
    },
    {
      "cell_type": "code",
      "source": [
        "mask = (distancia <= 20) & (distancia >= 10)\n",
        "distancia_mask = distancia[mask]\n",
        "massa_mask = np.sum(massa[mask])\n",
        "z_mask = z[mask]\n",
        "print(len(distancia_mask))  # quantidade de dados entre 10 e 20 Mpc\n",
        "#print(z_mask)\n",
        "\n",
        "volume_casca1 = ((4*np.pi*(20**3))/3 - (4*np.pi*(10**3))/3)/(135/180)\n",
        "print(volume_casca1)\n",
        "\n",
        "densidade_casca1 = massa_mask/volume_casca1\n",
        "print(densidade_casca1)\n",
        "\n",
        "contraste1 = (densidade_casca1 - densidade_media)/densidade_media\n",
        "print(contraste1)"
      ],
      "metadata": {
        "colab": {
          "base_uri": "https://localhost:8080/"
        },
        "id": "a_hUxKpRNDwN",
        "outputId": "8784cbbc-57f0-44e9-88e5-2be62bc872b7"
      },
      "execution_count": 75,
      "outputs": [
        {
          "output_type": "stream",
          "name": "stdout",
          "text": [
            "695\n",
            "39095.375244672985\n",
            "0.14491483876400352\n",
            "60.082346246049845\n"
          ]
        }
      ]
    },
    {
      "cell_type": "markdown",
      "source": [
        "Vamos fazer o segundo recorte: entre 20 Mpc e 30 Mpc."
      ],
      "metadata": {
        "id": "v3iqNA_gPcRC"
      }
    },
    {
      "cell_type": "code",
      "source": [
        "mask2 = (distancia <= 30) & (distancia >= 20)\n",
        "distancia_mask2 = distancia[mask2]\n",
        "massa_mask2 = np.sum(massa[mask2])\n",
        "z_mask2 = z[mask2]\n",
        "print(len(distancia_mask2))   # quantidade de dados entre 20 e 30 Mpc\n",
        "\n",
        "volume_casca2 = ((4*np.pi*(30**3))/3 - (4*np.pi*(20**3))/3)/(135/180)\n",
        "print(volume_casca2)\n",
        "\n",
        "densidade_casca2 = massa_mask2/volume_casca2\n",
        "print(densidade_casca2)\n",
        "\n",
        "contraste2 = (densidade_casca2 - densidade_media)/densidade_media\n",
        "print(contraste2)"
      ],
      "metadata": {
        "colab": {
          "base_uri": "https://localhost:8080/"
        },
        "id": "p56kAHadPhap",
        "outputId": "1daf57a1-6df6-45d6-ff4d-5ee068278e40"
      },
      "execution_count": 50,
      "outputs": [
        {
          "output_type": "stream",
          "name": "stdout",
          "text": [
            "681\n",
            "106116.01852125523\n",
            "0.05487588095696977\n",
            "22.130464690571465\n"
          ]
        }
      ]
    },
    {
      "cell_type": "markdown",
      "source": [
        "Vamos fazer o terceiro recorte: entre 30 Mpc e 40 Mpc."
      ],
      "metadata": {
        "id": "IWOol1X6R7ET"
      }
    },
    {
      "cell_type": "code",
      "source": [
        "mask3 = (distancia <= 40) & (distancia >= 30)\n",
        "distancia_mask3 = distancia[mask3]\n",
        "massa_mask3 = np.sum(massa[mask3])\n",
        "z_mask3 = z[mask3]\n",
        "print(len(distancia_mask3))  # quantidade de dados entre 30 e 40 Mpc\n",
        "\n",
        "volume_casca3 = ((4*np.pi*(40**3))/3 - (4*np.pi*(30**3))/3)/(135/180)\n",
        "print(volume_casca3)\n",
        "\n",
        "densidade_casca3 = massa_mask3/volume_casca3\n",
        "print(densidade_casca3)\n",
        "\n",
        "contraste3 = (densidade_casca3 - densidade_media)/densidade_media\n",
        "print(contraste3)"
      ],
      "metadata": {
        "colab": {
          "base_uri": "https://localhost:8080/"
        },
        "id": "5LGKgTKCR91T",
        "outputId": "c250f359-aae5-441e-a522-a85bbd4937c2"
      },
      "execution_count": 51,
      "outputs": [
        {
          "output_type": "stream",
          "name": "stdout",
          "text": [
            "490\n",
            "206646.9834361286\n",
            "0.02084845337861716\n",
            "7.78772980620152\n"
          ]
        }
      ]
    },
    {
      "cell_type": "markdown",
      "source": [
        "Vamos fazer o quarto recorte: entre 40 Mpc e 50 Mpc."
      ],
      "metadata": {
        "id": "qz1UeBatSi49"
      }
    },
    {
      "cell_type": "code",
      "source": [
        "mask4 = (distancia <= 50) & (distancia >= 40)\n",
        "distancia_mask4 = distancia[mask4]\n",
        "massa_mask4 = np.sum(massa[mask4])\n",
        "z_mask4 = z[mask4]\n",
        "print(len(distancia_mask4))  # quantidade de dados entre 40 e 50 Mpc\n",
        "\n",
        "volume_casca4 = ((4*np.pi*(50**3))/3 - (4*np.pi*(40**3))/3)/(135/180)\n",
        "print(volume_casca4)\n",
        "\n",
        "densidade_casca4 = massa_mask4/volume_casca4\n",
        "print(densidade_casca4)\n",
        "\n",
        "contraste4 = (densidade_casca4 - densidade_media)/densidade_media\n",
        "print(contraste4)"
      ],
      "metadata": {
        "colab": {
          "base_uri": "https://localhost:8080/"
        },
        "id": "0Qs7EthmSoJ9",
        "outputId": "29d5d88a-fcdd-4d02-f731-e305e2378835"
      },
      "execution_count": 52,
      "outputs": [
        {
          "output_type": "stream",
          "name": "stdout",
          "text": [
            "413\n",
            "340688.26998929307\n",
            "0.01092145027510614\n",
            "3.603447189417551\n"
          ]
        }
      ]
    },
    {
      "cell_type": "markdown",
      "source": [
        "Vamos fazer o quinto recorte: entre 50 Mpc e 60 Mpc."
      ],
      "metadata": {
        "id": "scp1HU-HTJ-f"
      }
    },
    {
      "cell_type": "code",
      "source": [
        "mask5 = (distancia <= 60) & (distancia >= 50)\n",
        "distancia_mask5 = distancia[mask5]\n",
        "massa_mask5 = np.sum(massa[mask5])\n",
        "z_mask5 = z[mask5]\n",
        "print(len(distancia_mask5))  # quantidade de dados entre 50 e 60 Mpc\n",
        "\n",
        "volume_casca5 = ((4*np.pi*(60**3))/3 - (4*np.pi*(50**3))/3)/(135/180)\n",
        "print(volume_casca5)\n",
        "\n",
        "densidade_casca5 = massa_mask5/volume_casca5\n",
        "print(densidade_casca5)\n",
        "\n",
        "contraste5 = (densidade_casca5 - densidade_media)/densidade_media\n",
        "print(contraste5)"
      ],
      "metadata": {
        "colab": {
          "base_uri": "https://localhost:8080/"
        },
        "id": "JSMoWMjWTNuC",
        "outputId": "1cf9d930-35a0-47be-cef0-ef21778d313a"
      },
      "execution_count": 53,
      "outputs": [
        {
          "output_type": "stream",
          "name": "stdout",
          "text": [
            "548\n",
            "508239.87818074884\n",
            "0.009830141660436992\n",
            "3.1434550227694245\n"
          ]
        }
      ]
    },
    {
      "cell_type": "markdown",
      "source": [
        "Vamos fazer o sexto recorte: entre 60 Mpc e 70 Mpc."
      ],
      "metadata": {
        "id": "v85QEBXjTXtE"
      }
    },
    {
      "cell_type": "code",
      "source": [
        "mask6 = (distancia <= 70) & (distancia >= 60)\n",
        "distancia_mask6 = distancia[mask6]\n",
        "massa_mask6 = np.sum(massa[mask6])\n",
        "z_mask6 = z[mask6]\n",
        "print(len(distancia_mask6))  # quantidade de dados entre 60 e 70 Mpc\n",
        "\n",
        "volume_casca6 = ((4*np.pi*(70**3))/3 - (4*np.pi*(60**3))/3)/(135/180)\n",
        "print(volume_casca6)\n",
        "\n",
        "densidade_casca6 = massa_mask6/volume_casca6\n",
        "print(densidade_casca6)\n",
        "\n",
        "contraste6 = (densidade_casca6 - densidade_media)/densidade_media\n",
        "print(contraste6)"
      ],
      "metadata": {
        "colab": {
          "base_uri": "https://localhost:8080/"
        },
        "id": "YLO2ZzLQTbRo",
        "outputId": "0051203f-717a-43c4-9d28-b0ca1880d191"
      },
      "execution_count": 54,
      "outputs": [
        {
          "output_type": "stream",
          "name": "stdout",
          "text": [
            "743\n",
            "709301.8080104954\n",
            "0.009663629674405929\n",
            "3.0732693684112093\n"
          ]
        }
      ]
    },
    {
      "cell_type": "markdown",
      "source": [
        "Vamos fazer o sétimo recorte: entre 70 Mpc e 80 Mpc."
      ],
      "metadata": {
        "id": "JadyhCr6m_jD"
      }
    },
    {
      "cell_type": "code",
      "source": [
        "mask7 = (distancia <= 80) & (distancia >= 70)\n",
        "distancia_mask7 = distancia[mask7]\n",
        "massa_mask7 = np.sum(massa[mask7])\n",
        "z_mask7 = z[mask7]\n",
        "print(len(distancia_mask7))  # quantidade de dados entre 70 e 80 Mpc\n",
        "\n",
        "volume_casca7 = ((4*np.pi*(80**3))/3 - (4*np.pi*(70**3))/3)/(135/180)\n",
        "print(volume_casca7)\n",
        "\n",
        "densidade_casca7 = massa_mask7/volume_casca7\n",
        "print(densidade_casca7)\n",
        "\n",
        "contraste7 = (densidade_casca7 - densidade_media)/densidade_media\n",
        "print(contraste7)"
      ],
      "metadata": {
        "colab": {
          "base_uri": "https://localhost:8080/"
        },
        "id": "xvv-V67lnDEh",
        "outputId": "01921e59-2ef2-42d6-89ac-fbdc9eafb868"
      },
      "execution_count": 55,
      "outputs": [
        {
          "output_type": "stream",
          "name": "stdout",
          "text": [
            "715\n",
            "943874.0594785335\n",
            "0.007066832627739677\n",
            "1.9787061222449511\n"
          ]
        }
      ]
    },
    {
      "cell_type": "markdown",
      "source": [
        "Vamos fazer o oitavo corte: 80 Mpc a 90 Mpc"
      ],
      "metadata": {
        "id": "u9KwkLDgnN5S"
      }
    },
    {
      "cell_type": "code",
      "source": [
        "mask8 = (distancia <= 90) & (distancia >= 80)\n",
        "distancia_mask8 = distancia[mask8]\n",
        "massa_mask8 = np.sum(massa[mask8])\n",
        "z_mask8 = z[mask8]\n",
        "print(len(distancia_mask8))  # quantidade de dados entre 80 e 90 Mpc\n",
        "\n",
        "volume_casca8 = ((4*np.pi*(90**3))/3 - (4*np.pi*(80**3))/3)/(135/180)\n",
        "print(volume_casca8)\n",
        "\n",
        "densidade_casca8 = massa_mask8/volume_casca8\n",
        "print(densidade_casca8)\n",
        "\n",
        "contraste8 = (densidade_casca8 - densidade_media)/densidade_media\n",
        "print(contraste8)"
      ],
      "metadata": {
        "colab": {
          "base_uri": "https://localhost:8080/"
        },
        "id": "Vzppo4u2nRYM",
        "outputId": "5d62abd4-7a07-490b-a439-1c2c75687fe3"
      },
      "execution_count": 56,
      "outputs": [
        {
          "output_type": "stream",
          "name": "stdout",
          "text": [
            "561\n",
            "1211956.6325848624\n",
            "0.004372540945378205\n",
            "0.8430483881334925\n"
          ]
        }
      ]
    },
    {
      "cell_type": "markdown",
      "source": [
        "Vamos fazer o nono corte: 90 Mpc a 100 Mpc"
      ],
      "metadata": {
        "id": "RZ4Dh2bsnc66"
      }
    },
    {
      "cell_type": "code",
      "source": [
        "mask9 = (distancia <= 100) & (distancia >= 90)\n",
        "distancia_mask9 = distancia[mask9]\n",
        "massa_mask9 = np.sum(massa[mask9])\n",
        "z_mask9 = z[mask9]\n",
        "print(len(distancia_mask9))  # quantidade de dados entre 90 e 100 Mpc\n",
        "\n",
        "volume_casca9 = ((4*np.pi*(100**3))/3 - (4*np.pi*(90**3))/3)/(135/180)\n",
        "print(volume_casca9)\n",
        "\n",
        "densidade_casca9 = massa_mask9/volume_casca9\n",
        "print(densidade_casca9)\n",
        "\n",
        "contraste9 = (densidade_casca9 - densidade_media)/densidade_media\n",
        "print(contraste9)"
      ],
      "metadata": {
        "colab": {
          "base_uri": "https://localhost:8080/"
        },
        "id": "NHSm3xsFngd8",
        "outputId": "9248a95b-3ad4-40ad-c60f-f49b677d6a0d"
      },
      "execution_count": 57,
      "outputs": [
        {
          "output_type": "stream",
          "name": "stdout",
          "text": [
            "1474\n",
            "1513549.5273294821\n",
            "0.009272917566670905\n",
            "2.908582215247687\n"
          ]
        }
      ]
    },
    {
      "cell_type": "markdown",
      "source": [
        "Vamos fazer o décimo corte: 100 Mpc a 110 Mpc"
      ],
      "metadata": {
        "id": "KuQJsuabnySS"
      }
    },
    {
      "cell_type": "code",
      "source": [
        "mask10 = (distancia <= 110) & (distancia >= 100)\n",
        "distancia_mask10 = distancia[mask10]\n",
        "massa_mask10 = np.sum(massa[mask10])\n",
        "z_mask10 = z[mask10]\n",
        "print(len(distancia_mask10))  # quantidade de dados entre 100 e 110 Mpc\n",
        "\n",
        "volume_casca10 = ((4*np.pi*(110**3))/3 - (4*np.pi*(100**3))/3)/(135/180)\n",
        "print(volume_casca10)\n",
        "\n",
        "densidade_casca10 = massa_mask10/volume_casca10\n",
        "print(densidade_casca10)\n",
        "\n",
        "contraste10 = (densidade_casca10 - densidade_media)/densidade_media\n",
        "print(contraste10)"
      ],
      "metadata": {
        "colab": {
          "base_uri": "https://localhost:8080/"
        },
        "id": "eNBIY9yGn1Bt",
        "outputId": "5d21020d-4b33-4844-c2ab-07474ab12cf9"
      },
      "execution_count": 58,
      "outputs": [
        {
          "output_type": "stream",
          "name": "stdout",
          "text": [
            "1553\n",
            "1848652.7437123936\n",
            "0.008054595461827066\n",
            "2.395053212407069\n"
          ]
        }
      ]
    },
    {
      "cell_type": "markdown",
      "source": [
        "Vamos fazer o décimo primeiro corte: 110 Mpc a 120 Mpc"
      ],
      "metadata": {
        "id": "krUBDek_oASt"
      }
    },
    {
      "cell_type": "code",
      "source": [
        "mask11 = (distancia <= 120) & (distancia >= 100)\n",
        "distancia_mask11 = distancia[mask11]\n",
        "massa_mask11 = np.sum(massa[mask11])\n",
        "z_mask11 = z[mask11]\n",
        "print(len(distancia_mask11))  # quantidade de dados entre 110 e 120 Mpc\n",
        "\n",
        "volume_casca11 = ((4*np.pi*(120**3))/3 - (4*np.pi*(110**3))/3)/(135/180)\n",
        "print(volume_casca11)\n",
        "\n",
        "densidade_casca11 = massa_mask11/volume_casca11\n",
        "print(densidade_casca11)\n",
        "\n",
        "contraste11 = (densidade_casca11 - densidade_media)/densidade_media\n",
        "print(contraste11)"
      ],
      "metadata": {
        "colab": {
          "base_uri": "https://localhost:8080/"
        },
        "id": "w2oZZW_BoFZj",
        "outputId": "5f16e0f2-ebb8-4d54-ce58-f8c5c6c5b943"
      },
      "execution_count": 59,
      "outputs": [
        {
          "output_type": "stream",
          "name": "stdout",
          "text": [
            "2615\n",
            "2217266.281733597\n",
            "0.011342584428035648\n",
            "3.7809573903374782\n"
          ]
        }
      ]
    },
    {
      "cell_type": "markdown",
      "source": [
        "Vamos fazer o décimo segundo corte: 120 Mpc a 130 Mpc"
      ],
      "metadata": {
        "id": "B-u7lvxmoSXc"
      }
    },
    {
      "cell_type": "code",
      "source": [
        "mask12 = (distancia <= 130) & (distancia >= 120)\n",
        "distancia_mask12 = distancia[mask12]\n",
        "massa_mask12 = np.sum(massa[mask12])\n",
        "z_mask12 = z[mask12]\n",
        "print(len(distancia_mask12))  # quantidade de dados entre 120 e 130 Mpc\n",
        "\n",
        "volume_casca12 = ((4*np.pi*(130**3))/3 - (4*np.pi*(120**3))/3)/(135/180)\n",
        "print(volume_casca12)\n",
        "\n",
        "densidade_casca12 = massa_mask12/volume_casca12\n",
        "print(densidade_casca12)\n",
        "\n",
        "contraste12 = (densidade_casca12 - densidade_media)/densidade_media\n",
        "print(contraste12)"
      ],
      "metadata": {
        "colab": {
          "base_uri": "https://localhost:8080/"
        },
        "id": "Omkym6suoWAl",
        "outputId": "c67b3fed-00b0-4161-ea91-140e0a4707a4"
      },
      "execution_count": 60,
      "outputs": [
        {
          "output_type": "stream",
          "name": "stdout",
          "text": [
            "931\n",
            "2619390.141393089\n",
            "0.0034713461947917788\n",
            "0.4631901882421217\n"
          ]
        }
      ]
    },
    {
      "cell_type": "markdown",
      "source": [
        "Vamos fazer o décimo terceiro corte: 130 Mpc a 140 Mpc"
      ],
      "metadata": {
        "id": "BLC18Woioioe"
      }
    },
    {
      "cell_type": "code",
      "source": [
        "mask13 = (distancia <= 140) & (distancia >= 130)\n",
        "distancia_mask13 = distancia[mask13]\n",
        "massa_mask13 = np.sum(massa[mask13])\n",
        "z_mask13 = z[mask13]\n",
        "print(len(distancia_mask13))  \n",
        "\n",
        "volume_casca13 = ((4*np.pi*(140**3))/3 - (4*np.pi*(130**3))/3)/(135/180)\n",
        "print(volume_casca13)\n",
        "\n",
        "densidade_casca13 = massa_mask13/volume_casca13\n",
        "print(densidade_casca13)\n",
        "\n",
        "contraste13 = (densidade_casca13 - densidade_media)/densidade_media\n",
        "print(contraste13)"
      ],
      "metadata": {
        "colab": {
          "base_uri": "https://localhost:8080/"
        },
        "id": "FlQkrTbyolXw",
        "outputId": "e256f510-0c34-478c-c2d3-89a2d2c5939f"
      },
      "execution_count": 61,
      "outputs": [
        {
          "output_type": "stream",
          "name": "stdout",
          "text": [
            "978\n",
            "3055024.3226908743\n",
            "0.0031362270764380713\n",
            "0.32193576464035606\n"
          ]
        }
      ]
    },
    {
      "cell_type": "markdown",
      "source": [
        "Vamos fazer o décimo quarto corte: 140 Mpc a 150 Mpc"
      ],
      "metadata": {
        "id": "mYGjz_hZoznY"
      }
    },
    {
      "cell_type": "code",
      "source": [
        "mask14 = (distancia <= 150) & (distancia >= 140)\n",
        "distancia_mask14 = distancia[mask14]\n",
        "massa_mask14 = np.sum(massa[mask14])\n",
        "z_mask14 = z[mask14]\n",
        "print(len(distancia_mask14))  \n",
        "\n",
        "volume_casca14 = ((4*np.pi*(150**3))/3 - (4*np.pi*(140**3))/3)/(135/180)\n",
        "print(volume_casca14)\n",
        "\n",
        "densidade_casca14 = massa_mask14/volume_casca14\n",
        "print(densidade_casca14)\n",
        "\n",
        "contraste14 = (densidade_casca14 - densidade_media)/densidade_media\n",
        "print(contraste14)"
      ],
      "metadata": {
        "colab": {
          "base_uri": "https://localhost:8080/"
        },
        "id": "HdRhaNNco4YY",
        "outputId": "0615125e-7b78-43b9-a39c-fc2073db4a1a"
      },
      "execution_count": 62,
      "outputs": [
        {
          "output_type": "stream",
          "name": "stdout",
          "text": [
            "1098\n",
            "3524168.825626952\n",
            "0.0030646119792739034\n",
            "0.2917496346433443\n"
          ]
        }
      ]
    },
    {
      "cell_type": "markdown",
      "source": [
        "Vamos fazer o décimo quinto corte: 150 Mpc a 160 Mpc"
      ],
      "metadata": {
        "id": "V58D-TvuptOS"
      }
    },
    {
      "cell_type": "code",
      "source": [
        "mask15 = (distancia <= 160) & (distancia >= 150)\n",
        "distancia_mask15 = distancia[mask15]\n",
        "massa_mask15 = np.sum(massa[mask15])\n",
        "z_mask15 = z[mask15]\n",
        "print(len(distancia_mask15))  \n",
        "\n",
        "volume_casca15 = ((4*np.pi*(160**3))/3 - (4*np.pi*(150**3))/3)/(135/180)\n",
        "print(volume_casca15)\n",
        "\n",
        "densidade_casca15 = massa_mask15/volume_casca15\n",
        "print(densidade_casca15)\n",
        "\n",
        "contraste15 = (densidade_casca15 - densidade_media)/densidade_media\n",
        "print(contraste15)"
      ],
      "metadata": {
        "colab": {
          "base_uri": "https://localhost:8080/"
        },
        "id": "6FQZzdIypwJy",
        "outputId": "ad50d453-7579-4198-ba7c-5f384fb1ecb3"
      },
      "execution_count": 63,
      "outputs": [
        {
          "output_type": "stream",
          "name": "stdout",
          "text": [
            "822\n",
            "4026823.6502013155\n",
            "0.0020199618127288367\n",
            "-0.14857575731195874\n"
          ]
        }
      ]
    },
    {
      "cell_type": "markdown",
      "source": [
        "Vamos fazer o décimo sexto corte: 160 Mpc a 170 Mpc"
      ],
      "metadata": {
        "id": "yCeTRbnFp8uu"
      }
    },
    {
      "cell_type": "code",
      "source": [
        "mask16 = (distancia <= 170) & (distancia >= 160)\n",
        "distancia_mask16 = distancia[mask16]\n",
        "massa_mask16 = np.sum(massa[mask16])\n",
        "z_mask16 = z[mask16]\n",
        "print(len(distancia_mask16))  \n",
        "\n",
        "volume_casca16 = ((4*np.pi*(170**3))/3 - (4*np.pi*(160**3))/3)/(135/180)\n",
        "print(volume_casca16)\n",
        "\n",
        "densidade_casca16 = massa_mask16/volume_casca16\n",
        "print(densidade_casca16)\n",
        "\n",
        "contraste16 = (densidade_casca16 - densidade_media)/densidade_media\n",
        "print(contraste16)"
      ],
      "metadata": {
        "colab": {
          "base_uri": "https://localhost:8080/"
        },
        "id": "tjxojI4QqBma",
        "outputId": "157afecb-102f-4f19-f22b-5ad434422e65"
      },
      "execution_count": 64,
      "outputs": [
        {
          "output_type": "stream",
          "name": "stdout",
          "text": [
            "598\n",
            "4562988.796413978\n",
            "0.0013021136507434356\n",
            "-0.45115243169856023\n"
          ]
        }
      ]
    },
    {
      "cell_type": "markdown",
      "source": [
        "Vamos fazer o décimo sétimo corte: 170 Mpc a 180 Mpc"
      ],
      "metadata": {
        "id": "hGnLxZ6sqKij"
      }
    },
    {
      "cell_type": "code",
      "source": [
        "mask17 = (distancia <= 180) & (distancia >= 170)\n",
        "distancia_mask17 = distancia[mask17]\n",
        "massa_mask17 = np.sum(massa[mask17])\n",
        "z_mask17 = z[mask17]\n",
        "print(len(distancia_mask17))  \n",
        "\n",
        "volume_casca17 = ((4*np.pi*(180**3))/3 - (4*np.pi*(170**3))/3)/(135/180)\n",
        "print(volume_casca17)\n",
        "\n",
        "densidade_casca17 = massa_mask17/volume_casca17\n",
        "print(densidade_casca17)\n",
        "\n",
        "contraste17 = (densidade_casca17 - densidade_media)/densidade_media\n",
        "print(contraste17)"
      ],
      "metadata": {
        "colab": {
          "base_uri": "https://localhost:8080/"
        },
        "id": "7IUOqUKYqWhK",
        "outputId": "c4c36423-7100-4c0b-d32a-3b5b2eb4b269"
      },
      "execution_count": 65,
      "outputs": [
        {
          "output_type": "stream",
          "name": "stdout",
          "text": [
            "567\n",
            "5132664.264264922\n",
            "0.0011052447048789079\n",
            "-0.5341337000003883\n"
          ]
        }
      ]
    },
    {
      "cell_type": "markdown",
      "source": [
        "Vamos fazer o décimo oitavo corte: 180 Mpc a 190 Mpc"
      ],
      "metadata": {
        "id": "NYU0dcC8qdY2"
      }
    },
    {
      "cell_type": "code",
      "source": [
        "mask18 = (distancia <= 190) & (distancia >= 180)\n",
        "distancia_mask18 = distancia[mask18]\n",
        "massa_mask18 = np.sum(massa[mask18])\n",
        "z_mask18 = z[mask18]\n",
        "print(len(distancia_mask18))  \n",
        "\n",
        "volume_casca18 = ((4*np.pi*(190**3))/3 - (4*np.pi*(180**3))/3)/(135/180)\n",
        "print(volume_casca18)\n",
        "\n",
        "densidade_casca18 = massa_mask18/volume_casca18\n",
        "print(densidade_casca18)\n",
        "\n",
        "contraste18 = (densidade_casca18 - densidade_media)/densidade_media\n",
        "print(contraste18)"
      ],
      "metadata": {
        "colab": {
          "base_uri": "https://localhost:8080/"
        },
        "id": "BWkudMLdqok9",
        "outputId": "9f65d554-988f-491c-d747-98cdbcaae790"
      },
      "execution_count": 66,
      "outputs": [
        {
          "output_type": "stream",
          "name": "stdout",
          "text": [
            "485\n",
            "5735850.053754166\n",
            "0.0008486989642997804\n",
            "-0.6422690427137946\n"
          ]
        }
      ]
    },
    {
      "cell_type": "markdown",
      "source": [
        "Vamos fazer o décimo nono corte: 190 Mpc a 200 Mpc"
      ],
      "metadata": {
        "id": "mCVsf49qqz_H"
      }
    },
    {
      "cell_type": "code",
      "source": [
        "mask19 = (distancia <= 200) & (distancia >= 190)\n",
        "distancia_mask19 = distancia[mask19]\n",
        "massa_mask19 = np.sum(massa[mask19])\n",
        "z_mask19 = z[mask19]\n",
        "print(len(distancia_mask19))  \n",
        "\n",
        "volume_casca19 = ((4*np.pi*(200**3))/3 - (4*np.pi*(190**3))/3)/(135/180)\n",
        "print(volume_casca19)\n",
        "\n",
        "densidade_casca19 = massa_mask19/volume_casca19\n",
        "print(densidade_casca19)\n",
        "\n",
        "contraste19 = (densidade_casca19 - densidade_media)/densidade_media\n",
        "print(contraste19)"
      ],
      "metadata": {
        "colab": {
          "base_uri": "https://localhost:8080/"
        },
        "id": "ogfsVR3Fq3p_",
        "outputId": "169934e5-0a05-4c51-d6ff-bc6d9a41150f"
      },
      "execution_count": 67,
      "outputs": [
        {
          "output_type": "stream",
          "name": "stdout",
          "text": [
            "559\n",
            "6372546.164881691\n",
            "0.0008844565192890429\n",
            "-0.6271970502705416\n"
          ]
        }
      ]
    },
    {
      "cell_type": "markdown",
      "source": [
        "Vamos fazer o vigésimo corte: 200 Mpc a 210 Mpc"
      ],
      "metadata": {
        "id": "n4BpkDfTrA_W"
      }
    },
    {
      "cell_type": "code",
      "source": [
        "mask20 = (distancia <= 210) & (distancia >= 200)\n",
        "distancia_mask20 = distancia[mask20]\n",
        "massa_mask20 = np.sum(massa[mask20])\n",
        "z_mask20 = z[mask20]\n",
        "print(len(distancia_mask20))  \n",
        "\n",
        "volume_casca20 = ((4*np.pi*(210**3))/3 - (4*np.pi*(200**3))/3)/(135/180)\n",
        "print(volume_casca20)\n",
        "\n",
        "densidade_casca20 = massa_mask20/volume_casca20\n",
        "print(densidade_casca20)\n",
        "\n",
        "contraste20 = (densidade_casca20 - densidade_media)/densidade_media\n",
        "print(contraste20)"
      ],
      "metadata": {
        "colab": {
          "base_uri": "https://localhost:8080/"
        },
        "id": "rKiNU7AZrHaP",
        "outputId": "3f33613c-b4af-4ffc-95c5-a69652c6ff6f"
      },
      "execution_count": 68,
      "outputs": [
        {
          "output_type": "stream",
          "name": "stdout",
          "text": [
            "464\n",
            "7042752.597647523\n",
            "0.000667117002174601\n",
            "-0.7188067691272363\n"
          ]
        }
      ]
    },
    {
      "cell_type": "markdown",
      "source": [
        "Vamos fazer o vigésimo primeiro corte: 210 Mpc a 220 Mpc"
      ],
      "metadata": {
        "id": "MHStugKbrUT3"
      }
    },
    {
      "cell_type": "code",
      "source": [
        "mask21 = (distancia <= 220) & (distancia >= 210)\n",
        "distancia_mask21 = distancia[mask21]\n",
        "massa_mask21 = np.sum(massa[mask21])\n",
        "z_mask21 = z[mask21]\n",
        "print(len(distancia_mask21))  \n",
        "\n",
        "volume_casca21 = ((4*np.pi*(220**3))/3 - (4*np.pi*(210**3))/3)/(135/180)\n",
        "print(volume_casca21)\n",
        "\n",
        "densidade_casca21 = massa_mask21/volume_casca21\n",
        "print(densidade_casca21)\n",
        "\n",
        "contraste21 = (densidade_casca21 - densidade_media)/densidade_media\n",
        "print(contraste21)"
      ],
      "metadata": {
        "colab": {
          "base_uri": "https://localhost:8080/"
        },
        "id": "CIwUNk_FratY",
        "outputId": "0096f467-45bc-425b-cf47-035eaaf7e8db"
      },
      "execution_count": 69,
      "outputs": [
        {
          "output_type": "stream",
          "name": "stdout",
          "text": [
            "362\n",
            "7746469.352051626\n",
            "0.0004748705291173382\n",
            "-0.7998396414819376\n"
          ]
        }
      ]
    },
    {
      "cell_type": "markdown",
      "source": [
        "Vamos fazer o vigésimo segundo corte: 220 Mpc a 230 Mpc"
      ],
      "metadata": {
        "id": "p611pEOyroPR"
      }
    },
    {
      "cell_type": "code",
      "source": [
        "mask22 = (distancia <= 230) & (distancia >= 220)\n",
        "distancia_mask22 = distancia[mask22]\n",
        "massa_mask22 = np.sum(massa[mask22])\n",
        "z_mask22 = z[mask22]\n",
        "print(len(distancia_mask22))  \n",
        "\n",
        "volume_casca22 = ((4*np.pi*(230**3))/3 - (4*np.pi*(220**3))/3)/(135/180)\n",
        "print(volume_casca22)\n",
        "\n",
        "densidade_casca22 = massa_mask22/volume_casca22\n",
        "print(densidade_casca22)\n",
        "\n",
        "contraste22 = (densidade_casca22 - densidade_media)/densidade_media\n",
        "print(contraste22)"
      ],
      "metadata": {
        "colab": {
          "base_uri": "https://localhost:8080/"
        },
        "id": "kUdgVO00rsQi",
        "outputId": "32d58498-65cb-4e91-c742-eb9831f3f3c5"
      },
      "execution_count": 70,
      "outputs": [
        {
          "output_type": "stream",
          "name": "stdout",
          "text": [
            "106\n",
            "8483696.428094039\n",
            "0.00012724995633094964\n",
            "-0.9463634921123584\n"
          ]
        }
      ]
    },
    {
      "cell_type": "markdown",
      "source": [
        "Vamos fazer o vigésimo terceiro corte: 230 Mpc a 240 Mpc"
      ],
      "metadata": {
        "id": "kzHESd7ir50c"
      }
    },
    {
      "cell_type": "code",
      "source": [
        "mask23 = (distancia <= 240) & (distancia >= 230)\n",
        "distancia_mask23 = distancia[mask23]\n",
        "massa_mask23 = np.sum(massa[mask23])\n",
        "z_mask23 = z[mask23]\n",
        "print(len(distancia_mask23))  \n",
        "\n",
        "volume_casca23 = ((4*np.pi*(240**3))/3 - (4*np.pi*(230**3))/3)/(135/180)\n",
        "print(volume_casca23)\n",
        "\n",
        "densidade_casca23 = massa_mask23/volume_casca23\n",
        "print(densidade_casca23)\n",
        "\n",
        "contraste23 = (densidade_casca23 - densidade_media)/densidade_media\n",
        "print(contraste23)"
      ],
      "metadata": {
        "colab": {
          "base_uri": "https://localhost:8080/"
        },
        "id": "4-vtkyjRr8-6",
        "outputId": "35320d4d-1df8-4b38-d182-5a7058d6ea14"
      },
      "execution_count": 71,
      "outputs": [
        {
          "output_type": "stream",
          "name": "stdout",
          "text": [
            "153\n",
            "9254433.825774739\n",
            "0.00016959546413619828\n",
            "-0.9285146438385299\n"
          ]
        }
      ]
    },
    {
      "cell_type": "markdown",
      "source": [
        "Vamos fazer o vigésimo quarto corte: 240 Mpc a 250 Mpc"
      ],
      "metadata": {
        "id": "FiB3zNYOsM1Y"
      }
    },
    {
      "cell_type": "code",
      "source": [
        "mask24 = (distancia <= 250) & (distancia >= 240)\n",
        "distancia_mask24 = distancia[mask24]\n",
        "massa_mask24 = np.sum(massa[mask24])\n",
        "z_mask24 = z[mask24]\n",
        "print(len(distancia_mask24))  \n",
        "\n",
        "volume_casca24 = ((4*np.pi*(250**3))/3 - (4*np.pi*(240**3))/3)/(135/180)\n",
        "print(volume_casca24)\n",
        "\n",
        "densidade_casca24 = massa_mask24/volume_casca24\n",
        "print(densidade_casca24)\n",
        "\n",
        "contraste24 = (densidade_casca24 - densidade_media)/densidade_media\n",
        "print(contraste24)"
      ],
      "metadata": {
        "colab": {
          "base_uri": "https://localhost:8080/"
        },
        "id": "01Ngyx3isUVz",
        "outputId": "0e34858a-af1f-4ca9-d2c9-7d755e520473"
      },
      "execution_count": 72,
      "outputs": [
        {
          "output_type": "stream",
          "name": "stdout",
          "text": [
            "127\n",
            "10058681.545093715\n",
            "0.0001298589675141992\n",
            "-0.9452637805451076\n"
          ]
        }
      ]
    },
    {
      "cell_type": "code",
      "source": [
        "!pip install -q condacolab\n",
        "import condacolab\n",
        "condacolab.install()\n",
        "!mamba install pyccl"
      ],
      "metadata": {
        "colab": {
          "base_uri": "https://localhost:8080/"
        },
        "id": "x4tzDqjUVepJ",
        "outputId": "fdb13d12-e483-477d-9b4c-5ac96479717c"
      },
      "execution_count": 32,
      "outputs": [
        {
          "output_type": "stream",
          "name": "stdout",
          "text": [
            "\u001b[33mWARNING: Running pip as the 'root' user can result in broken permissions and conflicting behaviour with the system package manager. It is recommended to use a virtual environment instead: https://pip.pypa.io/warnings/venv\u001b[0m\u001b[33m\n",
            "\u001b[0m✨🍰✨ Everything looks OK!\n",
            "\n",
            "                  __    __    __    __\n",
            "                 /  \\  /  \\  /  \\  /  \\\n",
            "                /    \\/    \\/    \\/    \\\n",
            "███████████████/  /██/  /██/  /██/  /████████████████████████\n",
            "              /  / \\   / \\   / \\   / \\  \\____\n",
            "             /  /   \\_/   \\_/   \\_/   \\    o \\__,\n",
            "            / _/                       \\_____/  `\n",
            "            |/\n",
            "        ███╗   ███╗ █████╗ ███╗   ███╗██████╗  █████╗\n",
            "        ████╗ ████║██╔══██╗████╗ ████║██╔══██╗██╔══██╗\n",
            "        ██╔████╔██║███████║██╔████╔██║██████╔╝███████║\n",
            "        ██║╚██╔╝██║██╔══██║██║╚██╔╝██║██╔══██╗██╔══██║\n",
            "        ██║ ╚═╝ ██║██║  ██║██║ ╚═╝ ██║██████╔╝██║  ██║\n",
            "        ╚═╝     ╚═╝╚═╝  ╚═╝╚═╝     ╚═╝╚═════╝ ╚═╝  ╚═╝\n",
            "\n",
            "        mamba (1.1.0) supported by @QuantStack\n",
            "\n",
            "        GitHub:  https://github.com/mamba-org/mamba\n",
            "        Twitter: https://twitter.com/QuantStack\n",
            "\n",
            "█████████████████████████████████████████████████████████████\n",
            "\n",
            "\n",
            "Looking for: ['pyccl']\n",
            "\n",
            "conda-forge/linux-64                                        Using cache\n",
            "conda-forge/noarch                                          Using cache\n",
            "\n",
            "Pinned packages:\n",
            "  - python 3.9.*\n",
            "  - python 3.9.*\n",
            "  - python_abi 3.9.* *cp39*\n",
            "  - cudatoolkit 11.8.*\n",
            "\n",
            "\n",
            "Transaction\n",
            "\n",
            "  Prefix: /usr/local\n",
            "\n",
            "  All requested packages already installed\n",
            "\n",
            "\u001b[?25l\u001b[2K\u001b[0G\u001b[?25h"
          ]
        }
      ]
    },
    {
      "cell_type": "code",
      "source": [
        "import pyccl as ccl"
      ],
      "metadata": {
        "id": "mYF9g48DWLVh"
      },
      "execution_count": 33,
      "outputs": []
    },
    {
      "cell_type": "code",
      "source": [
        "cosmo = ccl.Cosmology(\n",
        "    Omega_c=0.2656, Omega_b=0.0494, h=0.6727, sigma8=0.8120, n_s=0.9649) \n",
        "\n",
        "\n",
        "a = np.linspace(0.5, 1, 1000)  # fator de escala\n",
        "delta = ccl.growth_factor(cosmo, a)  # contraste\n",
        "\n",
        "# definindo o redshift em função do fator de escala\n",
        "z1 = (1/a) - 1."
      ],
      "metadata": {
        "id": "MRTl_cCIWOuF"
      },
      "execution_count": 38,
      "outputs": []
    },
    {
      "cell_type": "code",
      "source": [
        "# fazendo o plot de delta/a x z usando o pyccl\n",
        "plt.figure(figsize=(8, 6))\n",
        "plt.plot(z1, delta/a, color='red')\n",
        "plt.xlabel('z')\n",
        "plt.ylabel('$\\delta_m(z)/a$')\n",
        "plt.show()"
      ],
      "metadata": {
        "colab": {
          "base_uri": "https://localhost:8080/",
          "height": 542
        },
        "id": "pMA5mtH8WQPo",
        "outputId": "fee44ddc-9aa6-4bbc-e07d-a092883bc9a5"
      },
      "execution_count": 73,
      "outputs": [
        {
          "output_type": "display_data",
          "data": {
            "text/plain": [
              "<Figure size 800x600 with 1 Axes>"
            ],
            "image/png": "[encoded data removed]"
          },
          "metadata": {}
        }
      ]
    }
  ]
}